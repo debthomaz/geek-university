{
 "cells": [
  {
   "cell_type": "markdown",
   "metadata": {},
   "source": [
    "### Seção 4 - Exercícios"
   ]
  },
  {
   "cell_type": "markdown",
   "metadata": {},
   "source": [
    "1 - Faça um programa que leia um número inteiro e o imprima"
   ]
  },
  {
   "cell_type": "code",
   "execution_count": 1,
   "metadata": {},
   "outputs": [
    {
     "name": "stdout",
     "output_type": "stream",
     "text": [
      "6\n"
     ]
    }
   ],
   "source": [
    "x = 6\n",
    "print(x)\n"
   ]
  },
  {
   "cell_type": "markdown",
   "metadata": {},
   "source": [
    "2 - Faça um programa que leia um número real e o imprima."
   ]
  },
  {
   "cell_type": "code",
   "execution_count": 2,
   "metadata": {},
   "outputs": [
    {
     "name": "stdout",
     "output_type": "stream",
     "text": [
      "6.798\n"
     ]
    }
   ],
   "source": [
    "x = 6.7980\n",
    "print(x)\n"
   ]
  },
  {
   "cell_type": "markdown",
   "metadata": {},
   "source": [
    "3 - Peça ao usuário para digitar três valores inteiros e imprima a soma deles."
   ]
  },
  {
   "cell_type": "code",
   "execution_count": 3,
   "metadata": {},
   "outputs": [],
   "source": [
    "x = int(input(\"Digite um número inteiro: \"))\n",
    "y = int(input(\"Digite um número inteiro: \"))\n",
    "z = int(input(\"Digite um número inteiro: \"))\n",
    "print(x + y + z)\n"
   ]
  },
  {
   "cell_type": "markdown",
   "metadata": {},
   "source": [
    "4 - Leia um número real e imprima o resultado do quadrado desse número."
   ]
  },
  {
   "cell_type": "code",
   "execution_count": 1,
   "metadata": {},
   "outputs": [
    {
     "name": "stdout",
     "output_type": "stream",
     "text": [
      "47.563091560000004\n"
     ]
    }
   ],
   "source": [
    "x = 6.8966\n",
    "print(x ** 2)\n"
   ]
  },
  {
   "cell_type": "markdown",
   "metadata": {},
   "source": [
    "5 - Leia um número real e imprima a quinta parte deste número."
   ]
  },
  {
   "cell_type": "code",
   "execution_count": 2,
   "metadata": {},
   "outputs": [
    {
     "name": "stdout",
     "output_type": "stream",
     "text": [
      "0.7312000000000001\n"
     ]
    }
   ],
   "source": [
    "x = 3.656\n",
    "print(x / 5)\n"
   ]
  },
  {
   "cell_type": "markdown",
   "metadata": {},
   "source": [
    "6 - Leia uma temperatura em graus Celsius e apresente-a convertida em graus Fahrenheit."
   ]
  },
  {
   "cell_type": "code",
   "execution_count": 3,
   "metadata": {},
   "outputs": [
    {
     "name": "stdout",
     "output_type": "stream",
     "text": [
      "99.86000000000001\n"
     ]
    }
   ],
   "source": [
    "C = 37.7\n",
    "F = C * (9.0 / 5.0) + 32.0  # fórmula de conversão\n",
    "print(F)\n"
   ]
  },
  {
   "cell_type": "markdown",
   "metadata": {},
   "source": [
    "7 - Leia uma temperatura em graus Fahrenheit e apresente-a convertida em graus Celsius."
   ]
  },
  {
   "cell_type": "code",
   "execution_count": 5,
   "metadata": {},
   "outputs": [
    {
     "name": "stdout",
     "output_type": "stream",
     "text": [
      "37.666666666666664\n"
     ]
    }
   ],
   "source": [
    "F = 99.8\n",
    "C = 5.0 * ((F - 32.0) / 9.0)  # fórmula de conversão\n",
    "print(C)\n"
   ]
  },
  {
   "cell_type": "markdown",
   "metadata": {},
   "source": [
    "8 - Leia uma temperatura em graus Kelvin e apresente-a convertida em graus Celsius."
   ]
  },
  {
   "cell_type": "code",
   "execution_count": 4,
   "metadata": {},
   "outputs": [
    {
     "name": "stdout",
     "output_type": "stream",
     "text": [
      "-273.15\n"
     ]
    }
   ],
   "source": [
    "K = 0\n",
    "C = K - 273.15  # fórmula de conversão\n",
    "print(C)\n"
   ]
  },
  {
   "cell_type": "markdown",
   "metadata": {},
   "source": [
    "9 - Leia uma temperatura em graus Celsius e apresente-a convertida em graus Kelvin."
   ]
  },
  {
   "cell_type": "code",
   "execution_count": 6,
   "metadata": {},
   "outputs": [
    {
     "name": "stdout",
     "output_type": "stream",
     "text": [
      "373.15\n"
     ]
    }
   ],
   "source": [
    "C = 100\n",
    "K = C + 273.15  # fórmula de conversão\n",
    "print(K)\n"
   ]
  },
  {
   "cell_type": "markdown",
   "metadata": {},
   "source": [
    "10 - Leia uma velocidade em km/h e apresente-a convertida em m/s."
   ]
  },
  {
   "cell_type": "code",
   "execution_count": 7,
   "metadata": {},
   "outputs": [
    {
     "name": "stdout",
     "output_type": "stream",
     "text": [
      "83333333.33333333\n"
     ]
    }
   ],
   "source": [
    "K = 300000000\n",
    "M = K / 3.6  # fórmula de conversão\n",
    "print(M)\n"
   ]
  },
  {
   "cell_type": "markdown",
   "metadata": {},
   "source": [
    "11 - Leia uma velocidade em m/s e apresente-a convertida em km/hs."
   ]
  },
  {
   "cell_type": "code",
   "execution_count": 8,
   "metadata": {},
   "outputs": [
    {
     "name": "stdout",
     "output_type": "stream",
     "text": [
      "1080000000.0\n"
     ]
    }
   ],
   "source": [
    "M = 300000000\n",
    "K = M * 3.6\n",
    "print(K)\n"
   ]
  },
  {
   "cell_type": "markdown",
   "metadata": {},
   "source": [
    "28 - Faça a leitura dos três valores e apresente como resultado a soma dos quadrados dos três valores lidos."
   ]
  },
  {
   "cell_type": "code",
   "execution_count": 9,
   "metadata": {},
   "outputs": [
    {
     "name": "stdout",
     "output_type": "stream",
     "text": [
      "669424506.031345\n"
     ]
    }
   ],
   "source": [
    "x = 4575\n",
    "y = 25465.543\n",
    "z = 0.864\n",
    "print(x ** 2 + y ** 2 + z ** 2)\n"
   ]
  },
  {
   "cell_type": "markdown",
   "metadata": {},
   "source": [
    "29 - Leia quatro notas, calcule a média aritmética e imprima o resultado."
   ]
  },
  {
   "cell_type": "code",
   "execution_count": 10,
   "metadata": {},
   "outputs": [
    {
     "name": "stdout",
     "output_type": "stream",
     "text": [
      "9.0\n"
     ]
    }
   ],
   "source": [
    "nota1 = 10\n",
    "nota2 = 8\n",
    "nota3 = 9\n",
    "nota4 = 9\n",
    "\n",
    "media = (nota1 + nota2 + nota3 + nota4) / 4\n",
    "print(media)\n"
   ]
  },
  {
   "cell_type": "markdown",
   "metadata": {},
   "source": [
    "30 - Leia um valor em real e a cotação do dólar. Em seguida, imprima o valor correspondente em dólares."
   ]
  },
  {
   "cell_type": "code",
   "execution_count": 11,
   "metadata": {},
   "outputs": [
    {
     "name": "stdout",
     "output_type": "stream",
     "text": [
      "valor em dólares: 1838.2352941176468\n"
     ]
    }
   ],
   "source": [
    "valor_reais = 10000.00\n",
    "cotacao_dolar = 5.44\n",
    "\n",
    "print(\"valor em dólares: \" + str(valor_reais / cotacao_dolar))\n"
   ]
  },
  {
   "cell_type": "markdown",
   "metadata": {},
   "source": [
    "31 - Leia um número inteiro e imprima o seu antecessor e o seu sucessor."
   ]
  },
  {
   "cell_type": "code",
   "execution_count": 12,
   "metadata": {},
   "outputs": [
    {
     "name": "stdout",
     "output_type": "stream",
     "text": [
      "57476768686\n",
      "57476768685\n",
      "57476768687\n"
     ]
    }
   ],
   "source": [
    "inteiro = 57476768686\n",
    "antecessor = inteiro - 1\n",
    "sucessor = inteiro + 1\n",
    "print(inteiro)\n",
    "print(antecessor)\n",
    "print(sucessor)\n"
   ]
  },
  {
   "cell_type": "markdown",
   "metadata": {},
   "source": [
    "43 - Escreva um programa de ajuda para vendedores. A partir de um valor total lido, mostre:\n",
    "- o total a pagar com desconto de 10%;\n",
    "- o valor de cada parcela, no parcelamento de 3x sem juros;\n",
    "- a comissão do vendedor, no caso da venda ser à vista (5% sobre o valor com desconto);\n",
    "- a comissão do vendedor, no caso da venda ser parcelada (5% sobre o valor total)"
   ]
  },
  {
   "cell_type": "code",
   "execution_count": 13,
   "metadata": {},
   "outputs": [
    {
     "name": "stdout",
     "output_type": "stream",
     "text": [
      "O valor total da venda foi de R$4000.0, o total a ser pago é de R$3600.0. Caso \n",
      "parcelada a compra em 3x sem juros, o valor das parcelas ficam em R$1333.3333333333333. A \n",
      "comissão do vendedor caso o pagamento seja à vista é de R$180.0. Caso seja parcelado, \n",
      "é de R$200.0.\n"
     ]
    }
   ],
   "source": [
    "valor_total = 4_000.00\n",
    "valor_desconto = valor_total - valor_total * 0.10\n",
    "valor_parcelas = valor_total / 3.00\n",
    "comissao_avista = valor_desconto * 0.05\n",
    "comissao_parcelada = valor_total * 0.05\n",
    "\n",
    "print(f'O valor total da venda foi de R${valor_total}, o total a ser pago é de R${valor_desconto}. Caso \\n'\n",
    "      f'parcelada a compra em 3x sem juros, o valor das parcelas ficam em R${valor_parcelas}. A \\n'\n",
    "      f'comissão do vendedor caso o pagamento seja à vista é de R${comissao_avista}. Caso seja parcelado, \\n'\n",
    "      f'é de R${comissao_parcelada}.')\n"
   ]
  },
  {
   "cell_type": "markdown",
   "metadata": {},
   "source": [
    "45 - Faça um programa para converter uma letra maiúscula em letra minúscula. Use a tabela ASCII para resolver o problema."
   ]
  },
  {
   "cell_type": "code",
   "execution_count": 14,
   "metadata": {},
   "outputs": [
    {
     "name": "stdout",
     "output_type": "stream",
     "text": [
      "b\n"
     ]
    }
   ],
   "source": [
    "maiuscula = 'B'\n",
    "maiuscula_ASCII = ord(maiuscula)\n",
    "minuscula_ASCII = maiuscula_ASCII + 32\n",
    "minuscula = chr(minuscula_ASCII)\n",
    "\n",
    "print(minuscula)\n"
   ]
  },
  {
   "cell_type": "markdown",
   "metadata": {},
   "source": [
    "46 - Faça um programa que leia um número inteiro positivo de três dígitos (de 100 a 999). Gere outro número formado pelos dígitos invertidos do número lido."
   ]
  },
  {
   "cell_type": "code",
   "execution_count": 15,
   "metadata": {},
   "outputs": [
    {
     "name": "stdout",
     "output_type": "stream",
     "text": [
      "543\n"
     ]
    }
   ],
   "source": [
    "numero = 345\n",
    "numero_lido = str(numero)\n",
    "\n",
    "numero_invertido = numero_lido[::-1]\n",
    "numero_invertido = int(numero_invertido)\n",
    "\n",
    "print(numero_invertido)\n"
   ]
  },
  {
   "cell_type": "markdown",
   "metadata": {},
   "source": [
    "47 - Leia um número inteiro de 4 dígitos (de 1000 a 9999) e imprima 1 dígito por linha."
   ]
  },
  {
   "cell_type": "code",
   "execution_count": 16,
   "metadata": {},
   "outputs": [
    {
     "name": "stdout",
     "output_type": "stream",
     "text": [
      "1 \n",
      "9 \n",
      "2 \n",
      "3 \n",
      "\n"
     ]
    }
   ],
   "source": [
    "numero = 1923\n",
    "numero_lido = str(numero)\n",
    "\n",
    "print(f'{numero_lido[:1]} \\n{numero_lido[1:2]} \\n{numero_lido[2:3]} \\n{numero_lido[3:4]} '\n",
    "      f'\\n{numero_lido[4:5]}')\n"
   ]
  },
  {
   "cell_type": "markdown",
   "metadata": {},
   "source": [
    "48 - Leia um valor inteiro em segundos, e imprima-os em horas, minutos e segundos."
   ]
  },
  {
   "cell_type": "code",
   "execution_count": 17,
   "metadata": {},
   "outputs": [
    {
     "name": "stdout",
     "output_type": "stream",
     "text": [
      "1000000 segundos correspondem a 16666.666666666668 minutos e 2777.777777777778 horas.\n"
     ]
    }
   ],
   "source": [
    "segundos = 1000000\n",
    "print(f'{segundos} segundos correspondem a {segundos / 60} minutos e {segundos / 360} horas.')\n"
   ]
  },
  {
   "cell_type": "markdown",
   "metadata": {},
   "source": [
    "49 - Faça um programa para ler o horário (hora, minuto e segundo) de início e a duração, em segundos, de uma experiência biológica. \n",
    "O programa deve resultar com o novo horário do término da mesma."
   ]
  },
  {
   "cell_type": "code",
   "execution_count": 18,
   "metadata": {},
   "outputs": [],
   "source": [
    "horario_inicio = input(\"Início do experimento: \\nHoras = \") + \":\" + input(\"Minutos = \") + \":\" + \\\n",
    "                 input(\"Segundos = \")\n",
    "print(\"Início do experimento: \" + horario_inicio)\n",
    "\n",
    "\n",
    "duracao = input(\"Duração do experimento: \\nHoras = \") + \":\" + input(\"Minutos = \") + \":\" + \\\n",
    "          input(\"Segundos = \")\n",
    "print(\"Duração do experimento: \" + duracao)\n",
    "\n",
    "\n",
    "horario_inicio_lido = str(horario_inicio)\n",
    "\n",
    "hora_inicio_lido = horario_inicio_lido[:2]\n",
    "hora_inicio = int(hora_inicio_lido)\n",
    "\n",
    "minutos_inicio_lido = horario_inicio_lido[3:5]\n",
    "minutos_inicio = int(minutos_inicio_lido)\n",
    "\n",
    "segundos_inicio_lido = horario_inicio_lido[6:8]\n",
    "segundos_inicio = int(segundos_inicio_lido)\n",
    "\n",
    "duracao_lido = str(duracao)\n",
    "\n",
    "hora_duracao_lido = duracao_lido[:2]\n",
    "hora_duracao = int(hora_duracao_lido)\n",
    "\n",
    "minutos_duracao_lido = duracao_lido[3:5]\n",
    "minutos_duracao = int(minutos_duracao_lido)\n",
    "\n",
    "segundos_duracao_lido = duracao_lido[6:8]\n",
    "segundos_duracao = int(segundos_duracao_lido)\n",
    "\n",
    "dia_termino = 0\n",
    "hora_termino = hora_inicio + hora_duracao\n",
    "while hora_termino > 24:\n",
    "    dia_termino = dia_termino + 1\n",
    "    hora_termino = hora_termino - 24\n",
    "\n",
    "minutos_termino = minutos_inicio + minutos_duracao\n",
    "if minutos_termino > 60:\n",
    "    hora_termino = hora_termino + 1\n",
    "    minutos_termino = minutos_termino - 60\n",
    "\n",
    "segundos_termino = segundos_inicio + segundos_duracao\n",
    "if segundos_termino > 60:\n",
    "    minutos_termino = minutos_termino + 1\n",
    "    segundos_termino = segundos_termino - 60\n",
    "\n",
    "termino = str(hora_termino) + \":\" + str(minutos_termino) + \":\" + str(segundos_termino)\n",
    "if dia_termino == 0:\n",
    "    print(\"O experimento termina às \" + termino)\n",
    "else:\n",
    "    print(f'O experimento termina em {dia_termino} dias e {termino} horas')\n"
   ]
  },
  {
   "cell_type": "markdown",
   "metadata": {},
   "source": [
    "50 - Implemente um programa que calcule o ano de nascimento de uma pessoa a partir de sua idade e do ano atual."
   ]
  },
  {
   "cell_type": "code",
   "execution_count": null,
   "metadata": {},
   "outputs": [],
   "source": [
    "idade = int(input(\"Quantos anos você faz nesse ano? \"))\n",
    "ano_atual = 2024\n",
    "\n",
    "ano_nascimento = ano_atual - idade\n",
    "print(f'Você nasceu em {ano_nascimento}')\n"
   ]
  },
  {
   "cell_type": "markdown",
   "metadata": {},
   "source": [
    "51 - Escreva um programa que leia as coordenadas x e y de pontos no R² e calcule sua distância da origem (0,0)."
   ]
  },
  {
   "cell_type": "code",
   "execution_count": 2,
   "metadata": {},
   "outputs": [],
   "source": [
    "x = int(input(\"x = \"))\n",
    "y = int(input(\"y = \"))\n",
    "coordenadas = (x,y)\n",
    "print(coordenadas)\n"
   ]
  },
  {
   "cell_type": "markdown",
   "metadata": {},
   "source": [
    "53 - Faça um programa para ler as dimensões de um terreno (comprimento c e largura l), bem como o preço do metro de tela p. \n",
    "Imprima o custo para cercar este mesmo terreno com tela."
   ]
  },
  {
   "cell_type": "code",
   "execution_count": null,
   "metadata": {},
   "outputs": [],
   "source": [
    "c = float(input(\"Comprimento do terreno (metros) = \"))\n",
    "l = float(input(\"Largura do terreno (metros) = \"))\n",
    "terreno_area = c * l\n",
    "\n",
    "p = float(input(\"Valor do metro quadrado da tela= \"))\n",
    "valor_terreno_coberto = terreno_area * p\n",
    "\n",
    "print(f'O custo para cerca esse terreno com tela é de R${valor_terreno_coberto}')\n"
   ]
  }
 ],
 "metadata": {
  "kernelspec": {
   "display_name": "Python 3",
   "language": "python",
   "name": "python3"
  },
  "language_info": {
   "codemirror_mode": {
    "name": "ipython",
    "version": 3
   },
   "file_extension": ".py",
   "mimetype": "text/x-python",
   "name": "python",
   "nbconvert_exporter": "python",
   "pygments_lexer": "ipython3",
   "version": "3.8.1"
  }
 },
 "nbformat": 4,
 "nbformat_minor": 2
}
