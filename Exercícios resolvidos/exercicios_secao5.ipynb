{
 "cells": [
  {
   "cell_type": "markdown",
   "metadata": {},
   "source": [
    "### Seção 5 - Exercícios"
   ]
  },
  {
   "cell_type": "markdown",
   "metadata": {},
   "source": [
    "1 - Faça um programa que receba dois números e mostre qual deles é o maior.\n"
   ]
  },
  {
   "cell_type": "code",
   "execution_count": 1,
   "metadata": {},
   "outputs": [],
   "source": [
    "numero1 = int(input('número 1 = '))\n",
    "numero2 = int(input('número 2 = '))\n",
    "\n",
    "if numero1 > numero2:\n",
    "    print(f'O número {numero1} é maior')\n",
    "else:\n",
    "    print(f'O número {numero2} é maior')\n"
   ]
  },
  {
   "cell_type": "markdown",
   "metadata": {},
   "source": [
    "2 - Leia um número fornecido pelo usuário. Se esse número for positivo, calcule a raiz quadrada do número. Se o número for negativo, mostre uma mensagem dizendo que o número é inválido.\n",
    "\n"
   ]
  },
  {
   "cell_type": "code",
   "execution_count": 2,
   "metadata": {},
   "outputs": [],
   "source": [
    "numero = float(input('Digite um número: '))\n",
    "\n",
    "if numero >= 0:\n",
    "    raiz_quadrada = numero ** 0.5\n",
    "    print(f'A raiz quadrada de {numero} é {raiz_quadrada}')\n",
    "else:\n",
    "    print('Número inválido')\n"
   ]
  },
  {
   "cell_type": "markdown",
   "metadata": {},
   "source": [
    "3 - Leia um número real. Se o número for positivo, imprima a raiz quadrada. Do contrário, imprima o seu quadrado.\n"
   ]
  },
  {
   "cell_type": "code",
   "execution_count": 1,
   "metadata": {},
   "outputs": [],
   "source": [
    "numero = float(input('Digite um número: '))\n",
    "\n",
    "if numero >= 0:\n",
    "    raiz_quadrada = numero ** 0.5\n",
    "    print(f'A raiz quadrada de {numero} é {raiz_quadrada}')\n",
    "else:\n",
    "    quadrado = numero ** 2\n",
    "    print(f'O quadrado de {numero} é {quadrado}')\n"
   ]
  },
  {
   "cell_type": "markdown",
   "metadata": {},
   "source": [
    "5 - Faça um programa que receba um número inteiro e verifique se este número é par ou ímpar.\n"
   ]
  },
  {
   "cell_type": "code",
   "execution_count": 1,
   "metadata": {},
   "outputs": [],
   "source": [
    "numero = int(input('Digite um número inteiro: '))\n",
    "\n",
    "if numero % 2 == 0:\n",
    "    print(f'O número {numero} é par')\n",
    "else:\n",
    "    print(f'O número {numero} é ímpar')\n"
   ]
  },
  {
   "cell_type": "markdown",
   "metadata": {},
   "source": [
    "8 - Faça um program que leia 2 notas de um aluno, verifique se as notas são válidas e exiba na tela a médias destas notas. Uma nota válida deve ser, obrigatoriamente, um valor entre 0.0 e 10.0. Caso a nota não possua um valor válido, o usuário é informado e o programa termina.\n"
   ]
  },
  {
   "cell_type": "code",
   "execution_count": null,
   "metadata": {},
   "outputs": [],
   "source": [
    "nota1 = float(input('Nota 1 = '))\n",
    "nota2 = float(input('Nota 2 = '))\n",
    "\n",
    "if (0, 0) <= (nota1, nota2) <= (10, 10):\n",
    "    media = (nota1 + nota2) / 2\n",
    "    print(f'A média das notas é {media}')\n",
    "else:\n",
    "    print('Notas inválidas')\n"
   ]
  },
  {
   "cell_type": "markdown",
   "metadata": {},
   "source": [
    "9 - Leia o salário de um trabalhador e o valor da prestação de um empréstimo. Se a prestação for maior que 20% do salário, imprima: \"Empréstimo não concedido\", caso contrário imprima: \"Empréstimo concedido.\".\n"
   ]
  },
  {
   "cell_type": "code",
   "execution_count": null,
   "metadata": {},
   "outputs": [],
   "source": [
    "salario = float(input('Salário = '))\n",
    "prestacao_emprestimo = float(input('Prestação do empréstimo = '))\n",
    "\n",
    "if prestacao_emprestimo > ((salario * 20) / 100):\n",
    "    print('Empréstimo não concedido')\n",
    "else:\n",
    "    print('Empréstimo concedido')\n"
   ]
  },
  {
   "cell_type": "markdown",
   "metadata": {},
   "source": [
    "10 - Faça um programa que receba a altura e o sexo de uma pessoa e calcule e mostre seu peso ideal, utilizando as seguintes fórmulas (h = altura):\n",
    "- Homens: (72.7*h) - 58\n",
    "- Mulheres: (62.1*h) - 44,7"
   ]
  },
  {
   "cell_type": "code",
   "execution_count": null,
   "metadata": {},
   "outputs": [],
   "source": [
    "altura = float(input('Altura = '))\n",
    "sexo = input('Sexo = ')\n",
    "\n",
    "if sexo == 'masculino':\n",
    "    peso_ideal = (72.7 * altura) - 58\n",
    "    print(f'Seu peso ideal é {peso_ideal}')\n",
    "elif sexo == 'feminino':\n",
    "    peso_ideal = (62.1 * altura) - 44.7\n",
    "    print(f'Seu peso ideal é {peso_ideal}')\n"
   ]
  },
  {
   "cell_type": "markdown",
   "metadata": {},
   "source": [
    "11 - Escreva um programa que leia um número inteiro maior do que zero e devolva, na tela, a soma de todos os seus algarismos. Por exemplo, ao número 251 corresponderá o valor 8(2+5+1). Se o número não for maior do que zero, o programa terminará com a mensagem \"Número inválido\".\n"
   ]
  },
  {
   "cell_type": "code",
   "execution_count": null,
   "metadata": {},
   "outputs": [],
   "source": [
    "numero = int(input('Digite um número inteiro positivo: '))\n",
    "numero_lido = str(numero)\n",
    "\n",
    "soma = 0\n",
    "if numero >= 0:\n",
    "    for algarismo in numero_lido:\n",
    "        soma += int(algarismo)\n",
    "    print(f'A soma dos algarismos do número {numero} é {soma}')\n",
    "else:\n",
    "    print('Número inválido')\n"
   ]
  },
  {
   "cell_type": "markdown",
   "metadata": {},
   "source": [
    "12 - Leia um número inteiro. Se o número for negativo, escreva a mensagem \"Número inválido\". Se o número for positivo, calcular o logaritmo deste número.\n"
   ]
  },
  {
   "cell_type": "code",
   "execution_count": null,
   "metadata": {},
   "outputs": [],
   "source": [
    "from math import log10\n",
    "\n",
    "numero = int(input('Digite um número inteiro: '))\n",
    "\n",
    "if numero > 0:\n",
    "    logaritmo = log10(numero)\n",
    "    print(f'O logaritmo do número {numero} é {logaritmo}')\n",
    "else:\n",
    "    print('Número inválido')\n",
    "   "
   ]
  },
  {
   "cell_type": "markdown",
   "metadata": {},
   "source": [
    "15 - Usando switch, escreva um programa que leia um inteiro entre 1 e 7 e imprima o dia da semana correspondente a este número. Isto é, domingo se 1, segunda-feira se 2, e assim por diante.\n"
   ]
  },
  {
   "cell_type": "code",
   "execution_count": null,
   "metadata": {},
   "outputs": [],
   "source": [
    "dias_semana = ['', 'domingo', 'segunda-feira', 'terça-feira', 'quarta-feira', 'quinta-feira', 'sexta-feira',\n",
    "               'sábado']\n",
    "string = str(dias_semana)\n",
    "\n",
    "numero = int(input('Digite um número inteiro entre 1 e 7: '))\n",
    "\n",
    "if 1 <= numero <= 7:\n",
    "    dia_semana = string.split()[numero].replace('[', ' ').replace(']', ' ').replace(',', ' ')\n",
    "    print(f'O {numero}º dia da semana é {dia_semana}')\n",
    "else:\n",
    "    print('Número inválido')\n"
   ]
  },
  {
   "cell_type": "markdown",
   "metadata": {},
   "source": [
    " 18 - Faça um programa que mostre ao usuário um menu com 4 opções de operações matemáticas (as básicas, por exemplo). O usuário escolhe uma das opções e o seu programa então pede dois valores numéricos e realiza a operação, mostrando o resultado e saindo.\n"
   ]
  },
  {
   "cell_type": "code",
   "execution_count": null,
   "metadata": {},
   "outputs": [],
   "source": [
    "print('Operações matemáticas disponíveis: \\nsoma \\nsubtração \\nmultiplicação \\ndivisão')\n",
    "operacao = input('Escolha uma operação: ')\n",
    "numero1 = float(input('Número 1 = '))\n",
    "numero2 = float(input('Número 2 = '))\n",
    "\n",
    "if operacao == 'soma':\n",
    "    operacao = '+'\n",
    "    resultado = numero1 + numero2\n",
    "elif operacao == 'subtração':\n",
    "    operacao = '-'\n",
    "    resultado = numero1 - numero2\n",
    "elif operacao == 'multiplicação':\n",
    "    operacao = '*'\n",
    "    resultado = numero1 * numero2\n",
    "elif operacao == 'divisão':\n",
    "    operacao = '/'\n",
    "    resultado = numero1 / numero2\n",
    "else:\n",
    "    print('Operação inválida')\n",
    "\n",
    "print(f'{numero1} {operacao} {numero2} = {resultado}')\n"
   ]
  },
  {
   "cell_type": "markdown",
   "metadata": {},
   "source": [
    "19 - Faça um pograma para verificar se um determinado número inteiro é divisível por 3 ou 5, mas não simultaneamente pelos dois.\n"
   ]
  },
  {
   "cell_type": "code",
   "execution_count": null,
   "metadata": {},
   "outputs": [],
   "source": [
    "numero = int(input('Digite um número inteiro: '))\n",
    "\n",
    "if numero % 3 == 0 or numero % 5 == 0:\n",
    "    if numero % 3 == 0 and not numero % 5 == 0:\n",
    "        print(f'{numero} é divisível por 3, mas não por 5')\n",
    "    elif numero % 5 == 0 and not numero % 3 == 0:\n",
    "        print(f'{numero} é divisível por 5, mas não por 3')\n",
    "    elif numero % 3 == 0 and numero % 5 == 0:\n",
    "        print(f'{numero} é divisível por 3 e por 5 simultaneamente')\n",
    "else:\n",
    "    print(f'{numero} não é divísivel por 3 e nem por 5')\n"
   ]
  },
  {
   "cell_type": "markdown",
   "metadata": {},
   "source": [
    "20 - Dados três valores A,B,C, verifique se eles podem ser valores dos lados de um triângulo e se forem, se é um triângulo escaleno, equilátero ou isósceles.\n"
   ]
  },
  {
   "cell_type": "code",
   "execution_count": null,
   "metadata": {},
   "outputs": [],
   "source": [
    "A = float(input('A = '))\n",
    "B = float(input('B = '))\n",
    "C = float(input('C = '))\n",
    "\n",
    "if A + B > C and B + C > A and A + C > B:\n",
    "    if A == B == C:\n",
    "        print('Esses podem ser lados de um triângulo e o triângulo será equilátero')\n",
    "    elif A == B or A == C or B == C:\n",
    "        print('Esses podem ser lados de um triângulo e o triângulo será isósceles')\n",
    "    else:\n",
    "        print('Esses podem ser lados de um triângulo e o triângulo será escaleno')\n",
    "else:\n",
    "    print('Esses não podem ser lados de um triângulo')\n"
   ]
  },
  {
   "cell_type": "markdown",
   "metadata": {},
   "source": [
    "24 - Uma empresa vende o mesmo produto para quatro diferentes estados. Cada estado possui uma taxa diferente de imposto sobre o produto (MG 7%; SP 12%; RJ 15%; MS 8%). Faça um programa em que o usuário entre com o valor e o estado destino do produto e o programa retorne o preço final do produto acrescido do imposto do estado em que ele será vendido. Se o estado não for válido, mostrar mensagem de erro.\n"
   ]
  },
  {
   "cell_type": "code",
   "execution_count": null,
   "metadata": {},
   "outputs": [],
   "source": [
    "valor = float(input('Valor do produto: '))\n",
    "estado = input('Estado destino do produto (MG, SP, RJ, MS): ')\n",
    "\n",
    "if estado == 'MG':\n",
    "    valor = valor + ((valor * 7) / 100)\n",
    "    print(f'O valor do produto acrescido do imposto é {valor}')\n",
    "elif estado == 'SP':\n",
    "    valor = valor + ((valor * 12) / 100)\n",
    "    print(f'O valor do produto acrescido do imposto é {valor}')\n",
    "elif estado == 'RJ':\n",
    "    valor = valor + ((valor * 15) / 100)\n",
    "    print(f'O valor do produto acrescido do imposto é {valor}')\n",
    "elif estado == 'MS':\n",
    "    valor = valor + ((valor * 8) / 100)\n",
    "    print(f'O valor do produto acrescido do imposto é {valor}')\n",
    "else:\n",
    "    print('Estado inválido')\n"
   ]
  },
  {
   "cell_type": "markdown",
   "metadata": {},
   "source": [
    "29 - Faça uma prova de matemática para crianças que estão aprendendo a somar números inteiros menores do que 100. Escolha números aleatórios entre 1 e 100, e mostre na tela a pergunta: qual é a soma de a+b, onde a e b são números aleatórios. Peça a resposta. Faça cinco perguntas ao aluno, e mostre para ele as perguntas e as respostas corretas, além de quantas vezes o aluno acertou.\n"
   ]
  },
  {
   "cell_type": "code",
   "execution_count": 1,
   "metadata": {},
   "outputs": [
    {
     "name": "stdout",
     "output_type": "stream",
     "text": [
      "\n",
      "Os números são 5 e 82\n"
     ]
    }
   ],
   "source": [
    "from random import randint\n",
    "\n",
    "repeticoes = 0\n",
    "acertos = 0\n",
    "erros = 0\n",
    "\n",
    "while repeticoes < 5:\n",
    "    a = randint(1, 100)\n",
    "    b = randint(1, 100)\n",
    "    print(f'\\nOs números são {a} e {b}')\n",
    "    soma = int(input(f'{a} + {b} = '))\n",
    "    if soma == a + b:\n",
    "        acertos += 1\n",
    "        print('Resposta correta')\n",
    "    else:\n",
    "        erros += 1\n",
    "        print(f'A resposta correta é {a + b}')\n",
    "    repeticoes += 1\n",
    "\n",
    "print(f'\\nVocê acertou {acertos} vezes')\n"
   ]
  },
  {
   "cell_type": "markdown",
   "metadata": {},
   "source": [
    "30 - Faça um programa que receba três números e mostre-os em ordem crescente.\n"
   ]
  },
  {
   "cell_type": "code",
   "execution_count": null,
   "metadata": {},
   "outputs": [],
   "source": [
    "a = float(input('a = '))\n",
    "b = float(input('b = '))\n",
    "c = float(input('c = '))\n",
    "\n",
    "lista = [a, b, c]\n",
    "lista.sort()\n",
    "print(lista)\n"
   ]
  },
  {
   "cell_type": "markdown",
   "metadata": {},
   "source": [
    "35 - Leia uma data e determine se ela é válida. Ou seja, verifique se o mês está entre 1 e 12, e se o dia existe naquele mês. Note que Fevereiro tem 29 dias em anos bissextos, e 28 dias em anos não bissextos.\n"
   ]
  },
  {
   "cell_type": "code",
   "execution_count": 1,
   "metadata": {},
   "outputs": [],
   "source": [
    "dia = int(input('dia = '))\n",
    "while dia > 31 or dia < 1:\n",
    "    print('Dia inválido')\n",
    "    dia = int(input('dia = '))\n",
    "\n",
    "mes = int(input('mês = '))\n",
    "while mes < 1 or mes > 12:\n",
    "    print('Mês inválido')\n",
    "    mes = int(input('mês = '))\n",
    "\n",
    "ano = int(input('ano = '))\n",
    "while ano < 1:\n",
    "    print('Ano inválido')\n",
    "    ano = int(input('ano = '))\n",
    "\n",
    "\n",
    "if mes == 2 and (ano % 400 == 0 or (ano % 4 == 0 and not ano % 100 == 0)) and dia <= 29:\n",
    "    print(f'Data: {dia}/{mes}/{ano}')\n",
    "elif mes == 2 and not (ano % 400 == 0 or (ano % 4 == 0 and not ano % 100 == 0)) and dia <= 28:\n",
    "    print(f'Data: {dia}/{mes}/{ano}')\n",
    "elif (mes == 1 or mes == 3 or mes == 5 or mes == 7 or mes == 8 or mes == 10 or mes == 12) and dia <= 31:\n",
    "    print(f'Data: {dia}/{mes}/{ano}')\n",
    "elif (mes == 4 or mes == 6 or mes == 9 or mes == 11) and dia < 31:\n",
    "    print(f'Data: {dia}/{mes}/{ano}')\n",
    "else:\n",
    "    print('Data inválida')\n"
   ]
  },
  {
   "cell_type": "markdown",
   "metadata": {},
   "source": [
    "37 - As tarifas de certo parque de estacionamento são:\n",
    "- 1ª e 2ª hora - R$1,00 cada\n",
    "- 3ª e 4ª hora - R$1,40 cada\n",
    "- 5ª hora e seguintes - R$2,00 cada\n",
    "\n",
    "O número de horas a pagar é sempre inteiro e arredondado por excesso. Deste modo, quem estacionar durante 61 min pagará por duashoras, que é o mesmo que pagaria se tivesse permanecido 120 min. Os momentos de chegada ao parque e partida são apresentadps na forma de pares de inteiros, representando horas e minutos. Por ex, o par 12 50 representará \"dez para uma da tarde\". Pretende-se criar um programa que, lidos pelo teclado os momentos de chegada e de partida, escreva na tela o preço cobrado pelo estacionamento. Admite-se que a chegada e a partida se dão com intervalo não superior a 24 horas. portanto, se uma dada hora de chegada for superior à partida, isso não é um situação de erro, significará que a partida ocorreu no dia seguinte à chegada.\n"
   ]
  },
  {
   "cell_type": "code",
   "execution_count": null,
   "metadata": {},
   "outputs": [],
   "source": [
    "print('Digite seu horário de chegada ao estacionamento:')\n",
    "\n",
    "horas_chegada = int(input('Hora: '))\n",
    "while horas_chegada < 00 or horas_chegada > 23:\n",
    "    print('Hora inválida')\n",
    "    horas_chegada = int(input('Hora: '))\n",
    "\n",
    "minutos_chegada = int(input('Minutos: '))\n",
    "while minutos_chegada < 00 or minutos_chegada >= 60:\n",
    "    print('Minutos inválidos')\n",
    "    minutos_chegada = int(input('Minutos: '))\n",
    "\n",
    "\n",
    "print('\\nDigite seu horário de partida do estacionamento:')\n",
    "\n",
    "horas_partida = int(input('Hora: '))\n",
    "while horas_partida < 00 or horas_partida > 23:\n",
    "    print('Hora inválida')\n",
    "    horas_partida = int(input('Hora: '))\n",
    "\n",
    "minutos_partida = int(input('Minutos: '))\n",
    "while minutos_partida < 00 or minutos_partida >= 60:\n",
    "    print('Minutos inválidos')\n",
    "    minutos_partida = int(input('Minutos: '))\n",
    "\n",
    "\n",
    "horas_estadia = horas_partida - horas_chegada\n",
    "minutos_estadia = minutos_partida - minutos_chegada\n",
    "\n",
    "while minutos_estadia >= 60:\n",
    "    horas_estadia += 1\n",
    "    minutos_estadia = minutos_estadia - 60\n",
    "if horas_chegada > horas_partida:\n",
    "    horas_estadia = (24 - horas_chegada) + horas_partida\n",
    "\n",
    "print(f'\\nO tempo que o seu veículo permaneceu no estacionamento foi de {horas_estadia}:{minutos_estadia} horas.')\n",
    "\n",
    "\n",
    "preco = 0.0\n",
    "for n in range(0, horas_estadia):\n",
    "    while n < 1:\n",
    "        preco += 1.00\n",
    "    while 1 <= n <= 2:\n",
    "        preco += 1.00*n\n",
    "    while 3 <= n <= 4:\n",
    "        preco += 1.40*n\n",
    "    while 5 <= n <= 24:\n",
    "        preco += 2.00*n\n",
    "\n",
    "print(f'O valor do estacionamento fica em R${preco}.')\n"
   ]
  }
 ],
 "metadata": {
  "kernelspec": {
   "display_name": "Python 3",
   "language": "python",
   "name": "python3"
  },
  "language_info": {
   "codemirror_mode": {
    "name": "ipython",
    "version": 3
   },
   "file_extension": ".py",
   "mimetype": "text/x-python",
   "name": "python",
   "nbconvert_exporter": "python",
   "pygments_lexer": "ipython3",
   "version": "3.8.1"
  }
 },
 "nbformat": 4,
 "nbformat_minor": 2
}
