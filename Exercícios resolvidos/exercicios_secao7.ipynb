{
 "cells": [
  {
   "cell_type": "markdown",
   "metadata": {},
   "source": [
    "### Seção 7 - Exercícios"
   ]
  },
  {
   "cell_type": "markdown",
   "metadata": {},
   "source": [
    "1 - Faça um programa que possua um vetor denominado A que armazene 6 números inteiros. \n",
    "- Atribua os seguintes valores a esse vetor: 1,0,5,-2,-5,7.\n",
    "- Armazene em uma variável inteira a soma entre os valores das posições A[0], A[1], A[5] do vetor e mostre na tela.\n",
    "- Modifique o vetor na posição 4, atribuindo o valor 100.\n",
    "- Mostre na tela cada valor do vetor A, um em cada linha.\n"
   ]
  },
  {
   "cell_type": "code",
   "execution_count": 1,
   "metadata": {},
   "outputs": [
    {
     "name": "stdout",
     "output_type": "stream",
     "text": [
      "[1, 0, 5, -2, -5, 7]\n",
      "8\n",
      "[1, 0, 5, -2, 100, 7]\n",
      "1\n",
      "0\n",
      "5\n",
      "-2\n",
      "100\n",
      "7\n"
     ]
    }
   ],
   "source": [
    "A = [1, 0, 5, -2, -5, 7]\n",
    "print(A)\n",
    "\n",
    "\n",
    "soma = A[0] + A[1] + A[5]\n",
    "print(soma)\n",
    "\n",
    "\n",
    "A[4] = 100\n",
    "print(A)\n",
    "\n",
    "\n",
    "for i in A:\n",
    "    print(i)\n"
   ]
  },
  {
   "cell_type": "markdown",
   "metadata": {},
   "source": [
    "2 - Crie um programa que lê 6 valores inteiros e, em seguida, mostre na tela os valores lidos.\n"
   ]
  },
  {
   "cell_type": "code",
   "execution_count": 2,
   "metadata": {},
   "outputs": [
    {
     "name": "stdout",
     "output_type": "stream",
     "text": [
      "(5, 13, 7, 9, 12, 57)\n",
      "<class 'tuple'>\n"
     ]
    }
   ],
   "source": [
    "valores = 5, 13, 7, 9, 12, 57\n",
    "\n",
    "print(valores)\n",
    "print(type(valores))\n"
   ]
  },
  {
   "cell_type": "markdown",
   "metadata": {},
   "source": [
    "3 - Ler um conjunto de números reais, armazenando em um vetor, e calcular o quadrado das componentes deste vetor, armazenando o resultado em outro vetor. Os conjuntos têm 10 elementos cada. Imprimir todos os conjuntos.\n"
   ]
  },
  {
   "cell_type": "code",
   "execution_count": 3,
   "metadata": {},
   "outputs": [
    {
     "name": "stdout",
     "output_type": "stream",
     "text": [
      "[5, 8, 6, 75, 954, 2.87, 65.02, 957, 48, 95.75]\n",
      "[25, 64, 36, 5625, 910116, 8.2369, 4227.600399999999, 915849, 2304, 9168.0625]\n"
     ]
    }
   ],
   "source": [
    "reais = [5, 8, 6, 75, 954, 2.87, 65.02, 957, 48, 95.75]\n",
    "print(reais)\n",
    "\n",
    "quadrados = []\n",
    "\n",
    "for i in reais:\n",
    "    indice = i**2\n",
    "    quadrados.append(indice)\n",
    "\n",
    "print(quadrados)\n"
   ]
  },
  {
   "cell_type": "markdown",
   "metadata": {},
   "source": [
    "4 - Faça um programa que leia um vetor de 8 posições e, em seguida, leia também dois valores X e Y quaisquer correspondentes a duas posições no vetor. Ao final do seu programa deverá escrever a soma dos valores encontrados nas posições X e Y.\n"
   ]
  },
  {
   "cell_type": "code",
   "execution_count": 4,
   "metadata": {},
   "outputs": [
    {
     "name": "stdout",
     "output_type": "stream",
     "text": [
      "['debra', 23, False, False, True, 'não quero', 542.86, 0]\n",
      "não quero\n",
      "debra\n",
      "não querodebra\n"
     ]
    }
   ],
   "source": [
    "v = ['debra', 23, False, False, True, 'não quero', 542.86, 0]\n",
    "print(v)\n",
    "\n",
    "X = v[5]\n",
    "Y = v[0]\n",
    "\n",
    "print(X)\n",
    "print(Y)\n",
    "\n",
    "soma = X + Y\n",
    "print(soma)\n"
   ]
  },
  {
   "cell_type": "markdown",
   "metadata": {},
   "source": [
    "5 - Leia um vetor de 10 posições. Contar e escrever quantos valores pares ele possui.\n"
   ]
  },
  {
   "cell_type": "code",
   "execution_count": 5,
   "metadata": {},
   "outputs": [
    {
     "name": "stdout",
     "output_type": "stream",
     "text": [
      "[5, 6, 245, 5498, 5156.88, 2.8, 60, 8, 51, 658.2]\n",
      "4\n"
     ]
    }
   ],
   "source": [
    "v = [5, 6, 245, 5498, 5156.88, 2.8, 60, 8, 51, 658.2]\n",
    "print(v)\n",
    "\n",
    "pares = 0\n",
    "\n",
    "for i in v:\n",
    "    if i % 2 == 0:\n",
    "        pares += 1\n",
    "\n",
    "print(pares)\n"
   ]
  },
  {
   "cell_type": "markdown",
   "metadata": {},
   "source": [
    "6 - Faça um programa que receba do usuário um vetor com 10 posições. Em seguida, deverá ser impresso o maior e o menos elemento do vetor.\n"
   ]
  },
  {
   "cell_type": "code",
   "execution_count": 6,
   "metadata": {},
   "outputs": [
    {
     "name": "stdout",
     "output_type": "stream",
     "text": [
      "Digite 10 valores de posições de um vetor:\n"
     ]
    }
   ],
   "source": [
    "vetor = []\n",
    "\n",
    "print('Digite 10 valores de posições de um vetor:')\n",
    "for i in range(10):\n",
    "    x = float(input(f'{i}: '))\n",
    "    vetor.append(x)\n",
    "\n",
    "print(vetor)\n",
    "\n",
    "print(max(vetor))\n",
    "print(min(vetor))\n"
   ]
  },
  {
   "cell_type": "markdown",
   "metadata": {},
   "source": [
    "7 - Escreva um programa que leia 10 números inteiros e os armazene em um vetor. Imprima o vetor, o maior elemento e a posição que ele se encontra.\n"
   ]
  },
  {
   "cell_type": "code",
   "execution_count": 2,
   "metadata": {},
   "outputs": [
    {
     "name": "stdout",
     "output_type": "stream",
     "text": [
      "[1, 4, 25, 36.874, 2.6, 2, 8, 65, 754, 454865145]\n",
      "454865145\n",
      "9\n"
     ]
    }
   ],
   "source": [
    "numeros = 1, 4, 25, 36.874, 2.6, 2, 8, 65, 754, 454865145\n",
    "\n",
    "vetor = list(numeros)\n",
    "print(vetor)\n",
    "\n",
    "maximo = max(vetor)\n",
    "\n",
    "print(maximo)\n",
    "print(vetor.index(maximo))\n"
   ]
  },
  {
   "cell_type": "markdown",
   "metadata": {},
   "source": [
    "10 - Faça um programa para ler a nota da prova de 15 alunos e armazene num vetor, calcule e imprima a média geral.\n"
   ]
  },
  {
   "cell_type": "code",
   "execution_count": 3,
   "metadata": {},
   "outputs": [
    {
     "name": "stdout",
     "output_type": "stream",
     "text": [
      "7.866666666666666\n"
     ]
    }
   ],
   "source": [
    "notas = [10, 5, 10, 10, 2, 10, 5, 10, 8, 9, 9, 8, 10, 2, 10]\n",
    "\n",
    "soma = sum(notas)\n",
    "\n",
    "media = soma / len(notas)\n",
    "print(media)\n"
   ]
  },
  {
   "cell_type": "markdown",
   "metadata": {},
   "source": [
    "13 - Fazer um programa para ler 5 valores e, em seguida, mostrar a posição onde se encontram o maior e menor valor.\n"
   ]
  },
  {
   "cell_type": "code",
   "execution_count": 4,
   "metadata": {},
   "outputs": [
    {
     "name": "stdout",
     "output_type": "stream",
     "text": [
      "[25, 60, 24, 26.5, 24]\n",
      "O maior valor é 60, no índice 1\n",
      "O menor valor é 24, no índice 2\n"
     ]
    }
   ],
   "source": [
    "valores = [25, 60, 24, 26.5, 24]\n",
    "\n",
    "print(valores)\n",
    "\n",
    "maior = max(valores)\n",
    "menor = min(valores)\n",
    "\n",
    "print(f'O maior valor é {maior}, no índice {valores.index(maior)}')\n",
    "print(f'O menor valor é {menor}, no índice {valores.index(menor)}')\n"
   ]
  },
  {
   "cell_type": "markdown",
   "metadata": {},
   "source": [
    "14 - Faça um programa que leia um vetor de 10 posições e verifique se existem valores iguais e os escreva na tela.\n"
   ]
  },
  {
   "cell_type": "code",
   "execution_count": 5,
   "metadata": {},
   "outputs": [
    {
     "name": "stdout",
     "output_type": "stream",
     "text": [
      "[25, 656, 54, 54.6, 25, 6589, 54, 2, 3, 97]\n",
      "{25, 54}\n"
     ]
    }
   ],
   "source": [
    "v = [25, 656, 54, 54.6, 25, 6589, 54, 2, 3, 97]\n",
    "print(v)\n",
    "\n",
    "iguais = set()  # conjunto para não repetir os números quando imprimir\n",
    "\n",
    "for valor in v:\n",
    "    ocorrencia = v.count(valor)\n",
    "    if ocorrencia > 1:\n",
    "        iguais.add(valor)\n",
    "\n",
    "print(iguais)\n"
   ]
  },
  {
   "cell_type": "markdown",
   "metadata": {},
   "source": [
    "15 - Leia um vetor com 20 números inteiros. Escreva os elementos do vetor eliminando elementos repetidos."
   ]
  },
  {
   "cell_type": "code",
   "execution_count": 25,
   "metadata": {},
   "outputs": [
    {
     "name": "stdout",
     "output_type": "stream",
     "text": [
      "[10, 60, 26, 44, 86, 54, 2, 9, 15, 16, 76, 32, 79, 50, 90, 89, 84, 73, 95, 79]\n",
      "{2, 9, 10, 15, 16, 26, 32, 44, 50, 54, 60, 73, 76, 79, 84, 86, 89, 90, 95}\n"
     ]
    }
   ],
   "source": [
    "from random import randrange\n",
    "\n",
    "# Gerando um vetor com 20 números inteiros aleatórios - opcional\n",
    "vetor = []\n",
    "for i in range(20):\n",
    "    number = randrange(1, 100)\n",
    "    vetor.append(number)\n",
    "print(vetor)\n",
    "\n",
    "# Usando set() para retornar os elementos sem repetir\n",
    "vetor_sem_repetidos = set(vetor)\n",
    "print(vetor_sem_repetidos)\n"
   ]
  },
  {
   "cell_type": "markdown",
   "metadata": {},
   "source": [
    "17 - Leia um vetor de 10 posições e atribua valor 0 para todos os elementos que possuírem valores negativos."
   ]
  },
  {
   "cell_type": "code",
   "execution_count": 24,
   "metadata": {},
   "outputs": [
    {
     "name": "stdout",
     "output_type": "stream",
     "text": [
      "[6, -4, 5, -5, -23, 47, -72, -31, 0, -19]\n",
      "[6, 0, 5, 0, 0, 47, 0, 0, 0, 0]\n"
     ]
    }
   ],
   "source": [
    "from random import randrange\n",
    "\n",
    "# Gerando um vetor com 10 números aleatórios incluindo negativos - opcional\n",
    "vetor = []\n",
    "for i in range(10):\n",
    "    number = randrange(-100, 100)\n",
    "    vetor.append(number)\n",
    "print(vetor)\n",
    "\n",
    "# Atribuindo 0 aos elementos negativos\n",
    "for i in range(len(vetor)):\n",
    "    if vetor[i] < 0:\n",
    "        vetor[i] = 0\n",
    "print(vetor)"
   ]
  },
  {
   "cell_type": "markdown",
   "metadata": {},
   "source": [
    "19 - Faça um vetor de tamanho 50 preenchido com o seguinte valor: (i+5*i)/(i+1), sendo i a posição do elemento no vetor. Imprima o vetor na tela."
   ]
  },
  {
   "cell_type": "code",
   "execution_count": 31,
   "metadata": {},
   "outputs": [
    {
     "name": "stdout",
     "output_type": "stream",
     "text": [
      "[0.0, 3.0, 4.0, 4.5, 4.8, 5.0, 5.142857142857143, 5.25, 5.333333333333333, 5.4, 5.454545454545454, 5.5, 5.538461538461538, 5.571428571428571, 5.6, 5.625, 5.647058823529412, 5.666666666666667, 5.684210526315789, 5.7, 5.714285714285714, 5.7272727272727275, 5.739130434782608, 5.75, 5.76, 5.769230769230769, 5.777777777777778, 5.785714285714286, 5.793103448275862, 5.8, 5.806451612903226, 5.8125, 5.818181818181818, 5.823529411764706, 5.828571428571428, 5.833333333333333, 5.837837837837838, 5.842105263157895, 5.846153846153846, 5.85, 5.853658536585366, 5.857142857142857, 5.8604651162790695, 5.863636363636363, 5.866666666666666, 5.869565217391305, 5.872340425531915, 5.875, 5.877551020408164, 5.88]\n"
     ]
    }
   ],
   "source": [
    "vetor = []\n",
    "\n",
    "# Atribuindo o valor resultante da fórmula ao fim do vetor para cada contagem de 0 a 50\n",
    "for i in range(50):\n",
    "    value = (i + (5 * i)) / (i + 1)\n",
    "    vetor.append(value)\n",
    "\n",
    "# Imprimindo vetor\n",
    "print(vetor)"
   ]
  },
  {
   "cell_type": "markdown",
   "metadata": {},
   "source": [
    "21 - Faça um programa que receba do usuário dois vetores A e B, com 10 números inteiros cada. Crie um novo vetor denominado C calculando C = A + B. Mostre na tela os dados do vetor C."
   ]
  },
  {
   "cell_type": "code",
   "execution_count": 5,
   "metadata": {},
   "outputs": [
    {
     "name": "stdout",
     "output_type": "stream",
     "text": [
      "[4, 5, 6, 55, 54, 3, 5, 24, 2, 55, 2, 8, 7, 535, 24, 553, 52, 24, 2, 5]\n"
     ]
    }
   ],
   "source": [
    "A = []\n",
    "B = []\n",
    "\n",
    "for i in range(10):\n",
    "    # Adicionando valores que o usuário digita ao vetor A\n",
    "    valorA = int(input('Digite valores para vetor A: '))\n",
    "    A.append(valorA)\n",
    "    # Adicionando valores que o usuário digita ao vetor B\n",
    "    valorB = int(input('Digite valores para vetor B: '))\n",
    "    B.append(valorB)\n",
    "\n",
    "# Criando o vetor C=A+B e imprimindo-o\n",
    "C = A + B\n",
    "print(C)"
   ]
  }
 ],
 "metadata": {
  "kernelspec": {
   "display_name": "Python 3",
   "language": "python",
   "name": "python3"
  },
  "language_info": {
   "codemirror_mode": {
    "name": "ipython",
    "version": 3
   },
   "file_extension": ".py",
   "mimetype": "text/x-python",
   "name": "python",
   "nbconvert_exporter": "python",
   "pygments_lexer": "ipython3",
   "version": "3.8.1"
  }
 },
 "nbformat": 4,
 "nbformat_minor": 2
}
