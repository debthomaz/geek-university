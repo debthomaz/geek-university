{
 "cells": [
  {
   "cell_type": "markdown",
   "metadata": {},
   "source": [
    "PEP8 - Python Enhancement Proposal\n",
    "\n",
    "São propostas de melhorias para a linguagem Python\n",
    "\n",
    "The Zen of Python\n",
    "\n",
    "import this\n",
    "\n",
    "A ideia da PEP8 é que possamos escrever códigos Python de forma Pythônica."
   ]
  },
  {
   "cell_type": "markdown",
   "metadata": {},
   "source": [
    "[1] - Utilize Camel CASE para nomes de classes;"
   ]
  },
  {
   "cell_type": "code",
   "execution_count": 8,
   "metadata": {},
   "outputs": [],
   "source": [
    "class Calculadora:\n",
    "    pass\n",
    "\n",
    "\n",
    "class CalculadoraCientifica:\n",
    "    pass\n",
    "\n"
   ]
  },
  {
   "cell_type": "markdown",
   "metadata": {},
   "source": [
    "[2] - Utilize nomes em minúsculo, separados por underline para funções ou variáveis;"
   ]
  },
  {
   "cell_type": "code",
   "execution_count": 7,
   "metadata": {},
   "outputs": [],
   "source": [
    "def soma():\n",
    "    pass\n",
    "\n",
    "\n",
    "def soma_dois():\n",
    "    pass\n",
    "\n",
    "\n",
    "numero = 4\n",
    "\n",
    "numero_impar = 5"
   ]
  },
  {
   "cell_type": "markdown",
   "metadata": {},
   "source": [
    "[3] - Utilize 4 espaços para identação! (NÃO use tab)]"
   ]
  },
  {
   "cell_type": "code",
   "execution_count": 6,
   "metadata": {},
   "outputs": [
    {
     "name": "stdout",
     "output_type": "stream",
     "text": [
      "tem\n"
     ]
    }
   ],
   "source": [
    "if 'a' in 'banana':\n",
    "    print('tem')"
   ]
  },
  {
   "cell_type": "markdown",
   "metadata": {},
   "source": [
    "[4] - Linhas em branco\n",
    "- Separar funções e definições de classe com duas linhas em branco;\n",
    "- Métodos dentro de uma classe devem ser separados com uma única linha em branco;"
   ]
  },
  {
   "cell_type": "markdown",
   "metadata": {},
   "source": [
    "[5] - Imports\n",
    "- Imports devem ser feitos em linhas separadas;"
   ]
  },
  {
   "cell_type": "code",
   "execution_count": null,
   "metadata": {},
   "outputs": [],
   "source": [
    "# Import Errado\n",
    "\n",
    "import sys, os\n",
    "\n",
    "# Import Certo\n",
    "\n",
    "import sys\n",
    "import os\n",
    "\n",
    "# Não há problemas em utilizar:\n",
    "\n",
    "from types import StringType, ListType\n",
    "\n",
    "# Caso tenha muitos imports de um mesmo pacote, recomenda-se fazer:\n",
    "\n",
    "from types import (\n",
    "    StringType,\n",
    "    ListType,\n",
    "    SetType,\n",
    "    OutroType\n",
    ")"
   ]
  },
  {
   "cell_type": "markdown",
   "metadata": {},
   "source": [
    "Imports devem ser colocados no topo do arquivo, logo depois de quaisquer comentários ou docstrings e antes de constantes ou variáveis globais."
   ]
  },
  {
   "cell_type": "markdown",
   "metadata": {},
   "source": [
    "[6] - Espaços em expressões e instruções"
   ]
  },
  {
   "cell_type": "code",
   "execution_count": null,
   "metadata": {},
   "outputs": [],
   "source": [
    "# Não faça:\n",
    "\n",
    "função( algo[ 1 ], { outro: 2 } )\n",
    "\n",
    "# Faça:\n",
    "\n",
    "função(algo[1], {outro: 2})\n",
    "\n",
    "# Não faça:\n",
    "\n",
    "dict ['chave'] = lista [indice]\n",
    "\n",
    "# Faça:\n",
    "\n",
    "dict['chave'] = lista[indice]\n",
    "\n",
    "# Não faça:\n",
    "\n",
    "x              = 1\n",
    "y              = 3\n",
    "variavel_longa = 5\n",
    "\n",
    "# Faça:\n",
    "\n",
    "x = 1\n",
    "y = 3\n",
    "variavel_longa = 5"
   ]
  },
  {
   "cell_type": "markdown",
   "metadata": {},
   "source": [
    "[7] - Termine sempre uma instrução com uma nova linha"
   ]
  },
  {
   "cell_type": "code",
   "execution_count": 10,
   "metadata": {},
   "outputs": [
    {
     "name": "stdout",
     "output_type": "stream",
     "text": [
      "The Zen of Python, by Tim Peters\n",
      "\n",
      "Beautiful is better than ugly.\n",
      "Explicit is better than implicit.\n",
      "Simple is better than complex.\n",
      "Complex is better than complicated.\n",
      "Flat is better than nested.\n",
      "Sparse is better than dense.\n",
      "Readability counts.\n",
      "Special cases aren't special enough to break the rules.\n",
      "Although practicality beats purity.\n",
      "Errors should never pass silently.\n",
      "Unless explicitly silenced.\n",
      "In the face of ambiguity, refuse the temptation to guess.\n",
      "There should be one-- and preferably only one --obvious way to do it.\n",
      "Although that way may not be obvious at first unless you're Dutch.\n",
      "Now is better than never.\n",
      "Although never is often better than *right* now.\n",
      "If the implementation is hard to explain, it's a bad idea.\n",
      "If the implementation is easy to explain, it may be a good idea.\n",
      "Namespaces are one honking great idea -- let's do more of those!\n"
     ]
    }
   ],
   "source": [
    "import this\n"
   ]
  }
 ],
 "metadata": {
  "kernelspec": {
   "display_name": "Python 3",
   "language": "python",
   "name": "python3"
  },
  "language_info": {
   "codemirror_mode": {
    "name": "ipython",
    "version": 3
   },
   "file_extension": ".py",
   "mimetype": "text/x-python",
   "name": "python",
   "nbconvert_exporter": "python",
   "pygments_lexer": "ipython3",
   "version": "3.8.1"
  }
 },
 "nbformat": 4,
 "nbformat_minor": 2
}
