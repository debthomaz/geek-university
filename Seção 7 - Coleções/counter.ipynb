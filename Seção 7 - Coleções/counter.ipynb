{
 "cells": [
  {
   "cell_type": "markdown",
   "metadata": {},
   "source": [
    "### Módulo Collections - Counter (Contador)\n",
    "\n",
    "Collections -> High-performance Container Datetypes\n",
    "\n",
    "\n",
    "Counter -> Recebe um iterável como parâmetro e cria um objeto do tipo Collections Counterque é parecido\n",
    "com um dicionário, contendo como chave o elemento da lista passada como parâmetro e como valor a quantidade\n",
    "de ocorrências desse elemento."
   ]
  },
  {
   "cell_type": "code",
   "execution_count": 1,
   "metadata": {},
   "outputs": [],
   "source": [
    "# Realizando o import\n",
    "from collections import Counter"
   ]
  },
  {
   "cell_type": "code",
   "execution_count": 3,
   "metadata": {},
   "outputs": [
    {
     "name": "stdout",
     "output_type": "stream",
     "text": [
      "<class 'collections.Counter'>\n",
      "Counter({1: 5, 3: 5, 2: 4, 5: 4, 4: 3, 45: 2, 66: 2, 43: 1, 34: 1})\n"
     ]
    }
   ],
   "source": [
    "# Exemplo 1\n",
    "\n",
    "# Podemos utilizar qualquer iterável, aqui usamos uma lista\n",
    "lista = [1, 1, 1, 2, 2, 3, 3, 3, 3, 1, 1, 2, 2, 4, 4, 4, 5, 5, 5, 5, 3, 45, 45, 66, 66, 43, 34]\n",
    "\n",
    "# Utilizando o Counter\n",
    "res = Counter(lista)\n",
    "\n",
    "print(type(res))\n",
    "\n",
    "print(res)\n"
   ]
  },
  {
   "cell_type": "markdown",
   "metadata": {},
   "source": [
    "Veja que para cada elemento da lista, o Counter criou uma chave e colocou como valor a quantidade de ocorrências."
   ]
  },
  {
   "cell_type": "code",
   "execution_count": 4,
   "metadata": {},
   "outputs": [
    {
     "name": "stdout",
     "output_type": "stream",
     "text": [
      "Counter({'e': 3, 'i': 2, 'G': 1, 'k': 1, ' ': 1, 'U': 1, 'n': 1, 'v': 1, 'r': 1, 's': 1, 't': 1, 'y': 1})\n"
     ]
    }
   ],
   "source": [
    "# Exemplo 2\n",
    "\n",
    "print(Counter('Geek University'))"
   ]
  },
  {
   "cell_type": "code",
   "execution_count": 5,
   "metadata": {},
   "outputs": [
    {
     "name": "stdout",
     "output_type": "stream",
     "text": [
      "Counter({'e': 6, 'é': 3, 'sob': 3, 'conteúdo': 3, 'que': 3, 'um': 2, 'projeto': 2, 'de': 2, 'o': 2, 'como': 2, 'a': 2, 'desde': 2, 'A': 1, 'Wikipédia': 1, 'enciclopédia': 1, 'colaborativa,': 1, 'universal': 1, 'multilíngue': 1, 'estabelecido': 1, 'na': 1, 'internet': 1, 'princípio': 1, 'wiki.': 1, 'Tem': 1, 'propósito': 1, 'fornecer': 1, 'livre,': 1, 'objetivo': 1, 'verificável,': 1, 'todos': 1, 'possam': 1, 'editar': 1, 'melhorar.': 1, 'O': 1, 'definido': 1, 'pelos': 1, 'princípios': 1, 'fundadores': 1, 'disponibilizado': 1, 'licença': 1, 'Creative': 1, 'Commons': 1, 'BY-SA': 1, 'pode': 1, 'ser': 1, 'reutilizado': 1, 'mesma': 1, 'licença,': 1, 'respeitando': 1, 'os': 1, 'termos': 1, 'uso.': 1, 'Todos': 1, 'podem': 1, 'publicar': 1, 'on-line': 1, 'criem': 1, 'uma': 1, 'conta': 1, 'sigam': 1, 'as': 1, 'regras': 1, 'básicas,': 1, 'verificabilidade': 1, 'ou': 1, 'notoriedade.': 1})\n"
     ]
    }
   ],
   "source": [
    "# Exemplo 3\n",
    "\n",
    "texto = \"\"\"A Wikipédia é um projeto de enciclopédia colaborativa, universal e multilíngue estabelecido na internet sob \n",
    "o princípio wiki. Tem como propósito fornecer um conteúdo livre, objetivo e verificável, que todos possam editar\n",
    "e melhorar. O projeto é definido pelos princípios fundadores e o conteúdo é disponibilizado sob a licença Creative \n",
    "Commons BY-SA e pode ser reutilizado sob a mesma licença, desde que respeitando os termos de uso. Todos podem publicar \n",
    "conteúdo on-line desde que criem uma conta e sigam as regras básicas, como verificabilidade ou notoriedade.\"\"\"\n",
    "\n",
    "palavras = texto.split()  # pega as palavras ao invés dos caracteres\n",
    "\n",
    "# print(palavras)\n",
    "\n",
    "res = Counter(palavras)\n",
    "\n",
    "print(res)"
   ]
  },
  {
   "cell_type": "markdown",
   "metadata": {},
   "source": [
    "Encontrando as 5 palavras com mais ocorrência no texto"
   ]
  },
  {
   "cell_type": "code",
   "execution_count": 6,
   "metadata": {},
   "outputs": [
    {
     "name": "stdout",
     "output_type": "stream",
     "text": [
      "[('e', 6), ('é', 3), ('sob', 3), ('conteúdo', 3), ('que', 3)]\n"
     ]
    }
   ],
   "source": [
    "print(res.most_common(5))"
   ]
  }
 ],
 "metadata": {
  "kernelspec": {
   "display_name": "Python 3",
   "language": "python",
   "name": "python3"
  },
  "language_info": {
   "codemirror_mode": {
    "name": "ipython",
    "version": 3
   },
   "file_extension": ".py",
   "mimetype": "text/x-python",
   "name": "python",
   "nbconvert_exporter": "python",
   "pygments_lexer": "ipython3",
   "version": "3.8.1"
  }
 },
 "nbformat": 4,
 "nbformat_minor": 2
}
