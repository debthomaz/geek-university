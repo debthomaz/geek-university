{
 "cells": [
  {
   "cell_type": "markdown",
   "metadata": {},
   "source": [
    "## Dicionários\n",
    "\n",
    "OBS: Em algumas linguagens de programação os dicionários Python são conhecidos\n",
    "por mapas.\n",
    "\n",
    "Dicionários são coleções do tipo chave/valor.\n",
    "\n",
    "Dicionários são representados por chaves {}.\n",
    "\n",
    "```python\n",
    "print(type({}))\n",
    "```\n",
    "\n",
    "OBS: Sobre dicionários\n",
    "- Chave e valor são separados por dois pontos 'chave:valor';\n",
    "- Tanto chave quanto valor podem ser de qualquer tipo de dado;\n",
    "- Podemos misturar tipos de dados;"
   ]
  },
  {
   "cell_type": "code",
   "execution_count": 1,
   "metadata": {},
   "outputs": [
    {
     "name": "stdout",
     "output_type": "stream",
     "text": [
      "{'br': 'Brasil', 'eua': 'Estados Unidos', 'py': 'Paraguay'}\n",
      "<class 'dict'>\n"
     ]
    }
   ],
   "source": [
    "# Criação de dicionários\n",
    "\n",
    "# Forma 1 (Mais comum)\n",
    "\n",
    "paises = {'br': 'Brasil', 'eua': 'Estados Unidos', 'py': 'Paraguay'}\n",
    "\n",
    "print(paises)\n",
    "print(type(paises))"
   ]
  },
  {
   "cell_type": "code",
   "execution_count": 2,
   "metadata": {},
   "outputs": [
    {
     "name": "stdout",
     "output_type": "stream",
     "text": [
      "{'br': 'Brasil', 'eua': 'Estados Unidos', 'py': 'Paraguay'}\n",
      "<class 'dict'>\n"
     ]
    }
   ],
   "source": [
    "# Forma 2 (Menos comum)\n",
    "\n",
    "paises = dict(br='Brasil', eua='Estados Unidos', py='Paraguay')\n",
    "\n",
    "print(paises)\n",
    "print(type(paises))\n"
   ]
  },
  {
   "cell_type": "markdown",
   "metadata": {},
   "source": [
    "### Acessando elementos"
   ]
  },
  {
   "cell_type": "code",
   "execution_count": 3,
   "metadata": {},
   "outputs": [
    {
     "name": "stdout",
     "output_type": "stream",
     "text": [
      "Brasil\n"
     ]
    }
   ],
   "source": [
    "# Forma 1 - Acessando via chave, da mesma forma que lista/tupla\n",
    "print(paises['br'])\n",
    "# print(paises['ru'])\n",
    "\n",
    "# OBS: Caso tentamos fazer um acesso utilizando uma chave que não existe, teremos o erro KeyError"
   ]
  },
  {
   "cell_type": "code",
   "execution_count": 4,
   "metadata": {},
   "outputs": [
    {
     "name": "stdout",
     "output_type": "stream",
     "text": [
      "Brasil\n",
      "None\n",
      "Não encontrei o país\n",
      "Encontrei o país Paraguay\n",
      "True\n",
      "False\n",
      "False\n"
     ]
    }
   ],
   "source": [
    "# Forma 2 - Acessando via get <- Recomendada\n",
    "print(paises.get('br'))\n",
    "print(paises.get('ru'))\n",
    "\n",
    "# Caso o get não encontre o objeto com a chave informada será retornado o valor None e não será gerado KeyError\n",
    "\n",
    "pais = paises.get('ru')\n",
    "\n",
    "if pais:\n",
    "    print(f'Encontrei o país {pais}')\n",
    "else:\n",
    "    print('Não encontrei o país')\n",
    "\n",
    "\n",
    "# Podemos definir um valor padrão para caso não encontremos o objeto com a chave informada\n",
    "pais = paises.get('py', 'Não encontrado')\n",
    "\n",
    "print(f'Encontrei o país {pais}')\n",
    "\n",
    "print('br' in paises)\n",
    "print('ru' in paises)\n",
    "print('Estados Unidos' in paises)\n",
    "\n",
    "if 'ru' in paises:\n",
    "    russia = paises['ru']\n"
   ]
  },
  {
   "cell_type": "markdown",
   "metadata": {},
   "source": [
    "Podemos utilizar qualquer tipo de dado (int, float, sring, boolean), inclusive lista, tupla, dicionário, como chaves de dicionários.\n",
    "\n",
    "Tuplas por exemplo são bastante interessantes de serem utilizadas como chave de dicionários, pois as mesmas são imutáveis."
   ]
  },
  {
   "cell_type": "code",
   "execution_count": 5,
   "metadata": {},
   "outputs": [
    {
     "name": "stdout",
     "output_type": "stream",
     "text": [
      "{(35.6895, 39.6917): 'Escritório em Tókio', (40.7128, 74.006): 'Escritório em Nova York', (37.7749, 122.4194): 'Escritório em São Paulo'}\n",
      "<class 'dict'>\n"
     ]
    }
   ],
   "source": [
    "localidades = {\n",
    "    (35.6895, 39.6917): 'Escritório em Tókio',\n",
    "    (40.7128, 74.0060): 'Escritório em Nova York',\n",
    "    (37.7749, 122.4194): 'Escritório em São Paulo'\n",
    "}\n",
    "\n",
    "print(localidades)\n",
    "print(type(localidades))"
   ]
  },
  {
   "cell_type": "markdown",
   "metadata": {},
   "source": [
    "### Adicionar elementos em um dicionário"
   ]
  },
  {
   "cell_type": "code",
   "execution_count": 6,
   "metadata": {},
   "outputs": [
    {
     "name": "stdout",
     "output_type": "stream",
     "text": [
      "{'jan': 100, 'fev': 120, 'mar': 300}\n",
      "<class 'dict'>\n",
      "{'jan': 100, 'fev': 120, 'mar': 300, 'abr': 350}\n"
     ]
    }
   ],
   "source": [
    "receita = {'jan': 100, 'fev': 120, 'mar': 300}\n",
    "\n",
    "print(receita)\n",
    "print(type(receita))\n",
    "\n",
    "# Forma 1 <- Mais comum\n",
    "\n",
    "receita['abr'] = 350\n",
    "\n",
    "print(receita)\n"
   ]
  },
  {
   "cell_type": "code",
   "execution_count": 7,
   "metadata": {},
   "outputs": [
    {
     "name": "stdout",
     "output_type": "stream",
     "text": [
      "{'jan': 100, 'fev': 120, 'mar': 300, 'abr': 350, 'mai': 500}\n"
     ]
    }
   ],
   "source": [
    "# Forma 2\n",
    "\n",
    "novo_dado = {'mai': 500}\n",
    "\n",
    "receita.update(novo_dado)\n",
    "\n",
    "print(receita)"
   ]
  },
  {
   "cell_type": "markdown",
   "metadata": {},
   "source": [
    "### Atualizando dados em um dicionário"
   ]
  },
  {
   "cell_type": "code",
   "execution_count": 8,
   "metadata": {},
   "outputs": [
    {
     "name": "stdout",
     "output_type": "stream",
     "text": [
      "{'jan': 100, 'fev': 120, 'mar': 300, 'abr': 350, 'mai': 550}\n"
     ]
    }
   ],
   "source": [
    "# Forma 1\n",
    "\n",
    "receita['mai'] = 550\n",
    "\n",
    "print(receita)"
   ]
  },
  {
   "cell_type": "code",
   "execution_count": 9,
   "metadata": {},
   "outputs": [
    {
     "name": "stdout",
     "output_type": "stream",
     "text": [
      "{'jan': 100, 'fev': 120, 'mar': 300, 'abr': 350, 'mai': 600}\n"
     ]
    }
   ],
   "source": [
    "# Forma 2\n",
    "\n",
    "receita.update({'mai': 600})\n",
    "\n",
    "print(receita)"
   ]
  },
  {
   "cell_type": "markdown",
   "metadata": {},
   "source": [
    "CONCLUSÃO 1: A forma de adicionar novos elementos ou atualizar dados em um dicionário é a mesma.\n",
    "CONCLUSÃO 2: Em dicionários, NÃO podemos ter chaves repetidas."
   ]
  },
  {
   "cell_type": "markdown",
   "metadata": {},
   "source": [
    "### Remover dados de um dicionário"
   ]
  },
  {
   "cell_type": "code",
   "execution_count": 10,
   "metadata": {},
   "outputs": [
    {
     "name": "stdout",
     "output_type": "stream",
     "text": [
      "{'jan': 100, 'fev': 120, 'mar': 300, 'abr': 350, 'mai': 600}\n",
      "300\n",
      "{'jan': 100, 'fev': 120, 'abr': 350, 'mai': 600}\n"
     ]
    }
   ],
   "source": [
    "print(receita)\n",
    "\n",
    "# Forma 1 - Mais comum\n",
    "\n",
    "ret = receita.pop('mar')\n",
    "print(ret)\n",
    "\n",
    "print(receita)"
   ]
  },
  {
   "cell_type": "markdown",
   "metadata": {},
   "source": [
    "OBS 1: Aqui precisamos SEMPRE informar a chave, e caso não encontre o elemento, um KeyError é retornado.\n",
    "OBS 2: Ao removermos um objeto, o valor deste objeto é sempre retornado."
   ]
  },
  {
   "cell_type": "code",
   "execution_count": 11,
   "metadata": {},
   "outputs": [
    {
     "name": "stdout",
     "output_type": "stream",
     "text": [
      "{'jan': 100, 'abr': 350, 'mai': 600}\n"
     ]
    }
   ],
   "source": [
    "# Forma 2\n",
    "\n",
    "del receita['fev']\n",
    "\n",
    "print(receita)\n",
    "\n",
    "# Se a chave não existir será gerado um KeyError\n",
    "# OBS: Neste caso o valor removido não é retornado."
   ]
  },
  {
   "cell_type": "markdown",
   "metadata": {},
   "source": [
    "Imagine que você tem um comércio eletrônico, onde temos um carrinho de compras na qual adicionamos produtos.\n",
    "\n",
    "Carrinho de Compras:\n",
    "    Produto 1:\n",
    "        - nome;\n",
    "        - quantidade;\n",
    "        - preço;\n",
    "    Produto 2:\n",
    "        - nome;\n",
    "        - quantidade;\n",
    "        - preço;\n",
    "\n",
    "1 - Poderíamos utilizar uma Lista para isso? Sim"
   ]
  },
  {
   "cell_type": "code",
   "execution_count": 12,
   "metadata": {},
   "outputs": [
    {
     "name": "stdout",
     "output_type": "stream",
     "text": [
      "[['PLaystation 4', 1, 2300.0], ['God of War 4', 1, 150.0]]\n"
     ]
    }
   ],
   "source": [
    "carrinho = []\n",
    "\n",
    "produto1 = ['PLaystation 4', 1, 2300.00]\n",
    "produto2 = ['God of War 4', 1, 150.00]\n",
    "\n",
    "carrinho.append(produto1)\n",
    "carrinho.append(produto2)\n",
    "\n",
    "print(carrinho)\n",
    "\n",
    "# Teríamos que saber qual é o índice de cada informação no produto."
   ]
  },
  {
   "cell_type": "markdown",
   "metadata": {},
   "source": [
    "2 - Poderíamos utilizar uma Tupla para isso? Sim"
   ]
  },
  {
   "cell_type": "code",
   "execution_count": 13,
   "metadata": {},
   "outputs": [
    {
     "name": "stdout",
     "output_type": "stream",
     "text": [
      "(('Playstation 4', 1, 2300.0), ('God of War 4', 1, 150.0))\n"
     ]
    }
   ],
   "source": [
    "produto1 = ('Playstation 4', 1, 2300.00)\n",
    "produto2 = ('God of War 4', 1, 150.00)\n",
    "\n",
    "carrinho = (produto1, produto2)\n",
    "\n",
    "print(carrinho)\n",
    "\n",
    "# Teríamos que saber qual é o índice de cada informação no produto. A diferença é que a tupla é imutável.\n"
   ]
  },
  {
   "cell_type": "markdown",
   "metadata": {},
   "source": [
    "3 - Poderíamos utilizar um Dicionário para isso? Sim"
   ]
  },
  {
   "cell_type": "code",
   "execution_count": 14,
   "metadata": {},
   "outputs": [
    {
     "name": "stdout",
     "output_type": "stream",
     "text": [
      "[{'nome': 'PLaystation 4', 'quantidade': 1, 'preco': 2300.0}, {'nome': 'God of War 4', 'quantidade': 1, 'preco': 150.0}]\n"
     ]
    }
   ],
   "source": [
    "carrinho = []\n",
    "\n",
    "produto1 = {'nome': 'PLaystation 4', 'quantidade': 1, 'preco': 2300.00}\n",
    "produto2 = {'nome': 'God of War 4', 'quantidade':1, 'preco': 150.00}\n",
    "\n",
    "carrinho.append(produto1)\n",
    "carrinho.append(produto2)\n",
    "\n",
    "print(carrinho)\n",
    "\n",
    "# Desta forma, facilmente adicionamos ou removemos produtos no carrinho e em cada produto podemos ter a certeza sobre cada informação."
   ]
  },
  {
   "cell_type": "markdown",
   "metadata": {},
   "source": [
    "### Métodos de dicionários"
   ]
  },
  {
   "cell_type": "code",
   "execution_count": 15,
   "metadata": {},
   "outputs": [
    {
     "name": "stdout",
     "output_type": "stream",
     "text": [
      "{'a': 1, 'b': 2, 'c': 3}\n",
      "<class 'dict'>\n"
     ]
    }
   ],
   "source": [
    "d = dict(a=1, b=2, c=3)\n",
    "\n",
    "print(d)\n",
    "print(type(d))"
   ]
  },
  {
   "cell_type": "code",
   "execution_count": 16,
   "metadata": {},
   "outputs": [
    {
     "name": "stdout",
     "output_type": "stream",
     "text": [
      "{}\n"
     ]
    }
   ],
   "source": [
    "# Limpar o dicionário (Zerar dados)\n",
    "\n",
    "d.clear()\n",
    "\n",
    "print(d)"
   ]
  },
  {
   "cell_type": "code",
   "execution_count": 17,
   "metadata": {},
   "outputs": [
    {
     "name": "stdout",
     "output_type": "stream",
     "text": [
      "{}\n",
      "{}\n",
      "{'d': 4}\n"
     ]
    }
   ],
   "source": [
    "# Copiando um dicionário para outro\n",
    "\n",
    "# Forma 1  # Deep Copy\n",
    "\n",
    "novo = d.copy()\n",
    "\n",
    "print(novo)\n",
    "\n",
    "novo['d'] = 4\n",
    "\n",
    "print(d)\n",
    "print(novo)\n"
   ]
  },
  {
   "cell_type": "code",
   "execution_count": 18,
   "metadata": {},
   "outputs": [
    {
     "name": "stdout",
     "output_type": "stream",
     "text": [
      "{}\n",
      "{'d': 4}\n",
      "{'d': 4}\n"
     ]
    }
   ],
   "source": [
    "# Forma 2  # Shallow Copy\n",
    "\n",
    "novo = d\n",
    "\n",
    "print(novo)\n",
    "\n",
    "novo['d'] = 4\n",
    "\n",
    "print(d)\n",
    "print(novo)\n"
   ]
  },
  {
   "cell_type": "markdown",
   "metadata": {},
   "source": [
    "Forma não usual de criação de dicionários"
   ]
  },
  {
   "cell_type": "code",
   "execution_count": 19,
   "metadata": {},
   "outputs": [
    {
     "name": "stdout",
     "output_type": "stream",
     "text": [
      "{'a': 'b'}\n",
      "<class 'dict'>\n",
      "{'nome': 'desconhecido', 'pontos': 'desconhecido', 'email': 'desconhecido', 'profile': 'desconhecido'}\n",
      "<class 'dict'>\n",
      "{'t': 'valor', 'e': 'valor', 's': 'valor'}\n",
      "{1: 'novo', 2: 'novo', 3: 'novo', 4: 'novo', 5: 'novo', 6: 'novo', 7: 'novo', 8: 'novo', 9: 'novo', 10: 'novo'}\n"
     ]
    }
   ],
   "source": [
    "outro = {}.fromkeys('a', 'b')\n",
    "\n",
    "print(outro)\n",
    "print(type(outro))\n",
    "\n",
    "\n",
    "usuario = {}.fromkeys(['nome', 'pontos', 'email', 'profile'], 'desconhecido')  # o desconhecido se torna o valor de todas as chaves\n",
    "\n",
    "print(usuario)\n",
    "print(type(usuario))\n",
    "\n",
    "# O método fromkeys recebe dois parâmetros: um iterável e um valor.\n",
    "# Ele vai gerar para cada valor do iterável uma chave e irá atribuir a esta chave o valor informado.\n",
    "\n",
    "veja = {}.fromkeys('teste', 'valor')\n",
    "print(veja)\n",
    "\n",
    "veja = {}.fromkeys(range(1, 11), 'novo')\n",
    "print(veja)"
   ]
  }
 ],
 "metadata": {
  "kernelspec": {
   "display_name": "Python 3",
   "language": "python",
   "name": "python3"
  },
  "language_info": {
   "codemirror_mode": {
    "name": "ipython",
    "version": 3
   },
   "file_extension": ".py",
   "mimetype": "text/x-python",
   "name": "python",
   "nbconvert_exporter": "python",
   "pygments_lexer": "ipython3",
   "version": "3.8.1"
  }
 },
 "nbformat": 4,
 "nbformat_minor": 2
}
