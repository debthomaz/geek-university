{
 "cells": [
  {
   "cell_type": "markdown",
   "metadata": {},
   "source": [
    "## Conjuntos\n",
    "\n",
    "- Conjuntos em qualquer linguagem de programação, estamos fazendo referência à Teoria dos Conjuntos\n",
    "da Matemática.\n",
    "\n",
    "- Aqui no Python, os conjuntos são chamados de Sets.\n",
    "\n",
    "Dito isto, da mesma forma que na matemática:\n",
    "\n",
    "- Sets não possuem valores duplicados;\n",
    "- Sets não possuem valores ordenados;\n",
    "- Elementos não são acessados via índice, ou seja, conjuntos não são indexados;\n",
    "\n",
    "Conjuntos são bons para se utilizar quando precisamos armazenar elementos\n",
    "mas não nos importamos com a ordenação deles. Quando não precisamos se preocupar\n",
    "com chaves, valores e itens duplicados.\n",
    "\n",
    "O Sets são referenciados em Python com chaves {}\n",
    "\n",
    "Diferença entre Conjuntos (Set) e Mapas (Dicionário) em Python:\n",
    "    - Um dicionário tem chave/valor;\n",
    "    - Um conjunto tem apenas valor;\n"
   ]
  },
  {
   "cell_type": "code",
   "execution_count": 1,
   "metadata": {},
   "outputs": [
    {
     "name": "stdout",
     "output_type": "stream",
     "text": [
      "{1, 2, 3, 4, 5, 6, 7}\n",
      "<class 'set'>\n"
     ]
    }
   ],
   "source": [
    "# Definindo um conjunto:\n",
    "\n",
    "# Forma 1\n",
    "\n",
    "s = set({1, 2, 3, 4, 5, 6, 7, 2, 3})  # repare que temos valores repetidos\n",
    "\n",
    "print(s)\n",
    "print(type(s))\n",
    "\n",
    "# OBS: Ao criar um conjunto, caso seja adicionado um valor já existente, o mesmo\n",
    "# será ignorado sem gerar erros e não fará parte do conjunto."
   ]
  },
  {
   "cell_type": "code",
   "execution_count": 2,
   "metadata": {},
   "outputs": [
    {
     "name": "stdout",
     "output_type": "stream",
     "text": [
      "{1, 2, 3, 4, 5}\n",
      "<class 'set'>\n"
     ]
    }
   ],
   "source": [
    "# Forma 2 - Mais comum\n",
    "\n",
    "s = {1, 2, 3, 4, 5, 5}\n",
    "\n",
    "print(s)\n",
    "print(type(s))\n"
   ]
  },
  {
   "cell_type": "code",
   "execution_count": 3,
   "metadata": {},
   "outputs": [
    {
     "name": "stdout",
     "output_type": "stream",
     "text": [
      "Tem o 3\n"
     ]
    }
   ],
   "source": [
    "# Podemos verificar se determinado elemento está contido no conjunto\n",
    "\n",
    "if 3 in s:\n",
    "    print('Tem o 3')\n",
    "else:\n",
    "    print('Não tem o 3')"
   ]
  },
  {
   "cell_type": "code",
   "execution_count": 4,
   "metadata": {},
   "outputs": [
    {
     "name": "stdout",
     "output_type": "stream",
     "text": [
      "Lista: [99, 2, 34, 23, 2, 12, 1, 44, 5, 34] com 10 elementos\n",
      "Tupla: (99, 2, 34, 23, 2, 12, 1, 44, 5, 34) com 10 elementos\n",
      "Dicionário: {99: 'dict', 2: 'dict', 34: 'dict', 23: 'dict', 12: 'dict', 1: 'dict', 44: 'dict', 5: 'dict'} com 8 elementos\n",
      "Conjunto: {1, 2, 99, 34, 5, 12, 44, 23} com 8 elementos\n"
     ]
    }
   ],
   "source": [
    "# Importante lembrar que além de não termos valores duplicados, não temos ordem\n",
    "\n",
    "lista = [99, 2, 34, 23, 2, 12, 1, 44, 5, 34]\n",
    "print(f'Lista: {lista} com {len(lista)} elementos')\n",
    "\n",
    "tupla = 99, 2, 34, 23, 2, 12, 1, 44, 5, 34\n",
    "print(f'Tupla: {tupla} com {len(tupla)} elementos')\n",
    "\n",
    "dicionario = {}.fromkeys([99, 2, 34, 23, 2, 12, 1, 44, 5, 34], 'dict')\n",
    "print(f'Dicionário: {dicionario} com {len(dicionario)} elementos')\n",
    "\n",
    "conjunto = {99, 2, 34, 23, 2, 12, 1, 44, 5, 34}\n",
    "print(f'Conjunto: {conjunto} com {len(conjunto)} elementos')"
   ]
  },
  {
   "cell_type": "code",
   "execution_count": 5,
   "metadata": {},
   "outputs": [
    {
     "name": "stdout",
     "output_type": "stream",
     "text": [
      "{1, 34.22, 44, 'b'}\n",
      "<class 'set'>\n"
     ]
    }
   ],
   "source": [
    "# Podemos colocar tipos de dados misturados em Sets\n",
    "\n",
    "s = {1, 'b', True, 34.22, 44}\n",
    "print(s)\n",
    "print(type(s))"
   ]
  },
  {
   "cell_type": "code",
   "execution_count": 6,
   "metadata": {},
   "outputs": [
    {
     "name": "stdout",
     "output_type": "stream",
     "text": [
      "1\n",
      "34.22\n",
      "44\n",
      "b\n"
     ]
    }
   ],
   "source": [
    "# Podemos iterar em um set normalmente\n",
    "for valor in s:\n",
    "    print(valor)"
   ]
  },
  {
   "cell_type": "markdown",
   "metadata": {},
   "source": [
    "### Usos interessantes de Sets\n",
    "\n",
    "Imagine que fizemos um formulário de cadastro de visitantes em uma feira ou museu, e os visitantes\n",
    "informaram manualmente a cidade de onde vieram.\n",
    "\n",
    "Nós adicionamos cada cidade em uma lista Python, já que em uma lista podemos adicionar novos elementos\n",
    "e ter repetição."
   ]
  },
  {
   "cell_type": "code",
   "execution_count": 7,
   "metadata": {},
   "outputs": [
    {
     "name": "stdout",
     "output_type": "stream",
     "text": [
      "['Belo Horizonte', 'São Paulo', 'Campo Grande', 'Cuiaba', 'Campo Grande', 'São Paulo', 'Cuiaba']\n",
      "7\n"
     ]
    }
   ],
   "source": [
    "cidades = ['Belo Horizonte', 'São Paulo', 'Campo Grande', 'Cuiaba', 'Campo Grande', 'São Paulo', 'Cuiaba']\n",
    "\n",
    "print(cidades)\n",
    "print(len(cidades))  # quantidade de pessoa que visitou o museu"
   ]
  },
  {
   "cell_type": "markdown",
   "metadata": {},
   "source": [
    "Agora precisamos saber quantas cidades distintas temos\n",
    "\n",
    "O que você faria? Faria um loop na lista....?\n",
    "\n",
    "Podemos utilizar o Set para isso:"
   ]
  },
  {
   "cell_type": "code",
   "execution_count": 8,
   "metadata": {},
   "outputs": [
    {
     "name": "stdout",
     "output_type": "stream",
     "text": [
      "4\n"
     ]
    }
   ],
   "source": [
    "print(len(set(cidades)))"
   ]
  },
  {
   "cell_type": "markdown",
   "metadata": {},
   "source": [
    "### Adicionando elementos em um conjunto"
   ]
  },
  {
   "cell_type": "code",
   "execution_count": 9,
   "metadata": {},
   "outputs": [
    {
     "name": "stdout",
     "output_type": "stream",
     "text": [
      "{1, 2, 3, 4}\n"
     ]
    }
   ],
   "source": [
    "s = {1, 2, 3}\n",
    "\n",
    "s.add(4)\n",
    "print(s)"
   ]
  },
  {
   "cell_type": "markdown",
   "metadata": {},
   "source": [
    "### Remover elementos em um conjunto"
   ]
  },
  {
   "cell_type": "code",
   "execution_count": 10,
   "metadata": {},
   "outputs": [
    {
     "name": "stdout",
     "output_type": "stream",
     "text": [
      "{1, 2, 3}\n",
      "{1, 2}\n"
     ]
    }
   ],
   "source": [
    "s = {1, 2, 3}\n",
    "print(s)\n",
    "\n",
    "# Forma 1\n",
    "\n",
    "s.remove(3)  # não é o índice, e sim o valor a ser removido\n",
    "print(s)\n",
    "\n",
    "# OBS: Caso o valor não seja encontrado, será gerado KeyError. Nenhum valor é retornado."
   ]
  },
  {
   "cell_type": "code",
   "execution_count": 11,
   "metadata": {},
   "outputs": [
    {
     "name": "stdout",
     "output_type": "stream",
     "text": [
      "{1}\n"
     ]
    }
   ],
   "source": [
    "# Forma 2\n",
    "\n",
    "s.discard(2)\n",
    "print(s)\n",
    "\n",
    "# OBS: Se o valor não for encontrado, nenhum erro é gerado."
   ]
  },
  {
   "cell_type": "markdown",
   "metadata": {},
   "source": [
    "### Copiando um conjunto para outro"
   ]
  },
  {
   "cell_type": "code",
   "execution_count": 12,
   "metadata": {},
   "outputs": [
    {
     "name": "stdout",
     "output_type": "stream",
     "text": [
      "{1}\n",
      "{1, 4}\n",
      "{1}\n"
     ]
    }
   ],
   "source": [
    "# Forma 1 - Deep Copy\n",
    "\n",
    "novo = s.copy()\n",
    "print(novo)\n",
    "\n",
    "novo.add(4)\n",
    "\n",
    "print(novo)\n",
    "print(s)"
   ]
  },
  {
   "cell_type": "code",
   "execution_count": 13,
   "metadata": {},
   "outputs": [
    {
     "name": "stdout",
     "output_type": "stream",
     "text": [
      "{1, 4}\n",
      "{1, 4}\n"
     ]
    }
   ],
   "source": [
    "# Forma 2 - Shalow Copy\n",
    "\n",
    "novo = s\n",
    "\n",
    "novo.add(4)\n",
    "\n",
    "print(novo)\n",
    "print(s)"
   ]
  },
  {
   "cell_type": "code",
   "execution_count": 14,
   "metadata": {},
   "outputs": [
    {
     "name": "stdout",
     "output_type": "stream",
     "text": [
      "set()\n"
     ]
    }
   ],
   "source": [
    "# Podemos remover todos os itens de um conjunto\n",
    "\n",
    "s.clear()\n",
    "print(s)"
   ]
  },
  {
   "cell_type": "markdown",
   "metadata": {},
   "source": [
    "### Métodos Matemáticos de Conjuntos\n",
    "\n",
    "Imagine que temos dois conjuntos: Um contendo estudantes do curso Python e um\n",
    "contendo estudante do curso de Java."
   ]
  },
  {
   "cell_type": "code",
   "execution_count": 15,
   "metadata": {},
   "outputs": [],
   "source": [
    "estudante_python = {'Marcos', 'Patricia', 'Ellen', 'Pedro', 'Julia', 'Guilherme'}\n",
    "estudantes_java = {'Fernando', 'Gustavo', 'Julia', 'Ana', 'Patricia'}"
   ]
  },
  {
   "cell_type": "markdown",
   "metadata": {},
   "source": [
    "Veja que alguns alunos que estudam Python também estudam Java.\n",
    "\n",
    "Precisamos gerar um conjunto com nomes de estudantes únicos"
   ]
  },
  {
   "cell_type": "code",
   "execution_count": 16,
   "metadata": {},
   "outputs": [
    {
     "name": "stdout",
     "output_type": "stream",
     "text": [
      "{'Pedro', 'Ellen', 'Julia', 'Fernando', 'Patricia', 'Guilherme', 'Marcos', 'Gustavo', 'Ana'}\n"
     ]
    }
   ],
   "source": [
    "# Forma 1 - Utilizandp union\n",
    "\n",
    "unicos1 = estudante_python.union(estudantes_java)\n",
    "print(unicos1)"
   ]
  },
  {
   "cell_type": "code",
   "execution_count": 17,
   "metadata": {},
   "outputs": [
    {
     "name": "stdout",
     "output_type": "stream",
     "text": [
      "{'Pedro', 'Ellen', 'Julia', 'Fernando', 'Patricia', 'Guilherme', 'Marcos', 'Gustavo', 'Ana'}\n"
     ]
    }
   ],
   "source": [
    "# Forma 2 - Utilizando o caractere pipe |\n",
    "\n",
    "unicos2 = estudante_python | estudantes_java\n",
    "print(unicos2)"
   ]
  },
  {
   "cell_type": "markdown",
   "metadata": {},
   "source": [
    "Precisamos gerar um conjunto com nomes de estudantes que estão em ambos os cursos"
   ]
  },
  {
   "cell_type": "code",
   "execution_count": 18,
   "metadata": {},
   "outputs": [
    {
     "name": "stdout",
     "output_type": "stream",
     "text": [
      "{'Julia', 'Patricia'}\n"
     ]
    }
   ],
   "source": [
    "# Forma 1 - Utilizando intersection\n",
    "\n",
    "ambos1 = estudante_python.intersection(estudantes_java)\n",
    "print(ambos1)"
   ]
  },
  {
   "cell_type": "code",
   "execution_count": 19,
   "metadata": {},
   "outputs": [
    {
     "name": "stdout",
     "output_type": "stream",
     "text": [
      "{'Julia', 'Patricia'}\n"
     ]
    }
   ],
   "source": [
    "# Forma 2 - Utilizando o &\n",
    "\n",
    "ambos2 = estudante_python & estudantes_java\n",
    "print(ambos2)"
   ]
  },
  {
   "cell_type": "code",
   "execution_count": 20,
   "metadata": {},
   "outputs": [
    {
     "name": "stdout",
     "output_type": "stream",
     "text": [
      "{'Pedro', 'Ellen', 'Guilherme', 'Marcos'}\n",
      "{'Fernando', 'Gustavo', 'Ana'}\n"
     ]
    }
   ],
   "source": [
    "# Precisamos gerar um conjunto de estudantes que estão apenas em um curso\n",
    "\n",
    "so_python = estudante_python.difference(estudantes_java)\n",
    "print(so_python)\n",
    "\n",
    "so_java = estudantes_java.difference(estudante_python)\n",
    "print(so_java)"
   ]
  },
  {
   "cell_type": "markdown",
   "metadata": {},
   "source": [
    "Soma*, Valor Máximo*, Valor Mínimo*, Tamanho\n",
    "\n",
    "* Se os valores forem todos inteiros ou reais"
   ]
  },
  {
   "cell_type": "code",
   "execution_count": 21,
   "metadata": {},
   "outputs": [
    {
     "name": "stdout",
     "output_type": "stream",
     "text": [
      "21\n",
      "6\n",
      "1\n",
      "6\n"
     ]
    }
   ],
   "source": [
    "s = {1, 2, 3, 4, 5, 6}\n",
    "\n",
    "print(sum(s))\n",
    "print(max(s))\n",
    "print(min(s))\n",
    "print(len(s))"
   ]
  }
 ],
 "metadata": {
  "kernelspec": {
   "display_name": "Python 3",
   "language": "python",
   "name": "python3"
  },
  "language_info": {
   "codemirror_mode": {
    "name": "ipython",
    "version": 3
   },
   "file_extension": ".py",
   "mimetype": "text/x-python",
   "name": "python",
   "nbconvert_exporter": "python",
   "pygments_lexer": "ipython3",
   "version": "3.8.1"
  }
 },
 "nbformat": 4,
 "nbformat_minor": 2
}
