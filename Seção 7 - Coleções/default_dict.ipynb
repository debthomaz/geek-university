{
 "cells": [
  {
   "cell_type": "markdown",
   "metadata": {},
   "source": [
    "### Módulo Collections - Default Dict"
   ]
  },
  {
   "cell_type": "code",
   "execution_count": 2,
   "metadata": {},
   "outputs": [
    {
     "name": "stdout",
     "output_type": "stream",
     "text": [
      "{'curso': 'Programação em Python: Essencial'}\n",
      "Programação em Python: Essencial\n"
     ]
    }
   ],
   "source": [
    "# Recap Dicionários\n",
    "\n",
    "dicionario = {'curso': 'Programação em Python: Essencial'}\n",
    "\n",
    "print(dicionario)\n",
    "\n",
    "print(dicionario['curso'])\n",
    "\n",
    "# print(dicionario['outro'])  # KeyError"
   ]
  },
  {
   "cell_type": "markdown",
   "metadata": {},
   "source": [
    "Default Dict -> Ao criar um dicionário utilizando-o, informamos um valor default (padrão),\n",
    "podendo utilizar um lambda para isso. Este valor será utilizado sempre que não houver\n",
    "um valor definido. Caso tentemos acessar uma chave que não existe, essa chave será criada\n",
    "e o valor default será atribuido.\n",
    "\n",
    "OBS: lambdas são funções sem nome, que podem ou não receber parâmetros de entrada\n",
    "e retornar valores."
   ]
  },
  {
   "cell_type": "code",
   "execution_count": 3,
   "metadata": {},
   "outputs": [
    {
     "name": "stdout",
     "output_type": "stream",
     "text": [
      "defaultdict(<function <lambda> at 0x06EC4898>, {})\n",
      "defaultdict(<function <lambda> at 0x06EC4898>, {'curso': 'Programação em Python: Essencial'})\n",
      "0\n",
      "defaultdict(<function <lambda> at 0x06EC4898>, {'curso': 'Programação em Python: Essencial', 'outro': 0})\n"
     ]
    }
   ],
   "source": [
    "# Fazendo import\n",
    "from collections import defaultdict\n",
    "\n",
    "dicionario = defaultdict(lambda: 0)\n",
    "print(dicionario)\n",
    "\n",
    "dicionario['curso'] = 'Programação em Python: Essencial'\n",
    "print(dicionario)\n",
    "\n",
    "print(dicionario['outro'])  # KeyError no dicionário comum, mas aqui não.\n",
    "print(dicionario)"
   ]
  }
 ],
 "metadata": {
  "kernelspec": {
   "display_name": "Python 3",
   "language": "python",
   "name": "python3"
  },
  "language_info": {
   "codemirror_mode": {
    "name": "ipython",
    "version": 3
   },
   "file_extension": ".py",
   "mimetype": "text/x-python",
   "name": "python",
   "nbconvert_exporter": "python",
   "pygments_lexer": "ipython3",
   "version": "3.8.1"
  }
 },
 "nbformat": 4,
 "nbformat_minor": 2
}
