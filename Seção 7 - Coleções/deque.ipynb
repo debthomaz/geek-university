{
 "cells": [
  {
   "cell_type": "markdown",
   "metadata": {},
   "source": [
    "## Módulo Collections - Deque\n",
    "\n",
    "Podemos dizer que o deque é uma lista de alta performance."
   ]
  },
  {
   "cell_type": "code",
   "execution_count": 1,
   "metadata": {},
   "outputs": [
    {
     "name": "stdout",
     "output_type": "stream",
     "text": [
      "deque(['g', 'e', 'e', 'k'])\n"
     ]
    }
   ],
   "source": [
    "# Import\n",
    "from collections import deque\n",
    "\n",
    "# Criando deques\n",
    "\n",
    "deq = deque('geek')\n",
    "\n",
    "print(deq)"
   ]
  },
  {
   "cell_type": "markdown",
   "metadata": {},
   "source": [
    "### Adicionando elementos no deque"
   ]
  },
  {
   "cell_type": "code",
   "execution_count": 2,
   "metadata": {},
   "outputs": [
    {
     "name": "stdout",
     "output_type": "stream",
     "text": [
      "deque(['g', 'e', 'e', 'k', 'y'])\n",
      "deque(['k', 'g', 'e', 'e', 'k', 'y'])\n"
     ]
    }
   ],
   "source": [
    "deq.append('y')  # Adiciona no final da lista também\n",
    "print(deq)\n",
    "\n",
    "deq.appendleft('k')\n",
    "print(deq)  # * Dessa forma, adiciona no começa da lista"
   ]
  },
  {
   "cell_type": "markdown",
   "metadata": {},
   "source": [
    "### Remover elementos no deque"
   ]
  },
  {
   "cell_type": "code",
   "execution_count": 3,
   "metadata": {},
   "outputs": [
    {
     "name": "stdout",
     "output_type": "stream",
     "text": [
      "y\n",
      "deque(['k', 'g', 'e', 'e', 'k'])\n",
      "k\n",
      "deque(['g', 'e', 'e', 'k'])\n"
     ]
    }
   ],
   "source": [
    "print(deq.pop())  # Remove e retorna o último elemento\n",
    "print(deq)\n",
    "\n",
    "print(deq.popleft())  # * Dessa forma, remove e retorna o primeiro elemento\n",
    "print(deq)"
   ]
  }
 ],
 "metadata": {
  "kernelspec": {
   "display_name": "Python 3",
   "language": "python",
   "name": "python3"
  },
  "language_info": {
   "codemirror_mode": {
    "name": "ipython",
    "version": 3
   },
   "file_extension": ".py",
   "mimetype": "text/x-python",
   "name": "python",
   "nbconvert_exporter": "python",
   "pygments_lexer": "ipython3",
   "version": "3.8.1"
  }
 },
 "nbformat": 4,
 "nbformat_minor": 2
}
