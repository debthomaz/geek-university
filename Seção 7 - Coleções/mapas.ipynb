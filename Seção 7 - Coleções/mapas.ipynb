{
 "cells": [
  {
   "cell_type": "markdown",
   "metadata": {},
   "source": [
    "### Mapas -> Conhecidos em Python como Dicionários\n",
    "\n",
    "Dicionários em Python são representados por chaves {}"
   ]
  },
  {
   "cell_type": "code",
   "execution_count": 1,
   "metadata": {},
   "outputs": [
    {
     "name": "stdout",
     "output_type": "stream",
     "text": [
      "jan\n",
      "fev\n",
      "mar\n",
      "100\n",
      "250\n",
      "400\n",
      "Em jan recebi R$100\n",
      "Em fev recebi R$250\n",
      "Em mar recebi R$400\n"
     ]
    }
   ],
   "source": [
    "# Iterar sobre dicionários\n",
    "receita = {'jan': 100, 'fev': 250, 'mar': 400}\n",
    "\n",
    "for chave in receita:\n",
    "    print(chave)\n",
    "\n",
    "for chave in receita:\n",
    "    print(receita[chave])\n",
    "\n",
    "for chave in receita:\n",
    "    print(f'Em {chave} recebi R${receita[chave]}')"
   ]
  },
  {
   "cell_type": "code",
   "execution_count": 2,
   "metadata": {},
   "outputs": [
    {
     "name": "stdout",
     "output_type": "stream",
     "text": [
      "dict_keys(['jan', 'fev', 'mar'])\n",
      "100\n",
      "250\n",
      "400\n"
     ]
    }
   ],
   "source": [
    "# Acessando as chaves\n",
    "\n",
    "print(receita.keys())\n",
    "\n",
    "\n",
    "for chave in receita.keys():  # modo pythonico\n",
    "    print(receita[chave])"
   ]
  },
  {
   "cell_type": "code",
   "execution_count": 3,
   "metadata": {},
   "outputs": [
    {
     "name": "stdout",
     "output_type": "stream",
     "text": [
      "dict_values([100, 250, 400])\n",
      "100\n",
      "250\n",
      "400\n"
     ]
    }
   ],
   "source": [
    "# Acessando os valores\n",
    "\n",
    "print(receita.values())\n",
    "\n",
    "\n",
    "for valor in receita.values():\n",
    "    print(valor)"
   ]
  },
  {
   "cell_type": "code",
   "execution_count": 4,
   "metadata": {},
   "outputs": [
    {
     "name": "stdout",
     "output_type": "stream",
     "text": [
      "dict_items([('jan', 100), ('fev', 250), ('mar', 400)])\n",
      "chave=jan e valor=100\n",
      "chave=fev e valor=250\n",
      "chave=mar e valor=400\n"
     ]
    }
   ],
   "source": [
    "# Desempacotamento de dicionários\n",
    "\n",
    "print(receita.items())\n",
    "\n",
    "\n",
    "for chave, valor in receita.items():\n",
    "    print(f'chave={chave} e valor={valor}')"
   ]
  },
  {
   "cell_type": "code",
   "execution_count": 5,
   "metadata": {},
   "outputs": [
    {
     "name": "stdout",
     "output_type": "stream",
     "text": [
      "750\n",
      "400\n",
      "100\n",
      "3\n"
     ]
    }
   ],
   "source": [
    "# Soma*, Valor Máximo*, Valor Mínimo*, Tamanho\n",
    "\n",
    "# * Se os valores forem todos inteiros ou reais\n",
    "\n",
    "print(sum(receita.values()))\n",
    "print(max(receita.values()))\n",
    "print(min(receita.values()))\n",
    "print(len(receita))"
   ]
  }
 ],
 "metadata": {
  "kernelspec": {
   "display_name": "Python 3",
   "language": "python",
   "name": "python3"
  },
  "language_info": {
   "codemirror_mode": {
    "name": "ipython",
    "version": 3
   },
   "file_extension": ".py",
   "mimetype": "text/x-python",
   "name": "python",
   "nbconvert_exporter": "python",
   "pygments_lexer": "ipython3",
   "version": "3.8.1"
  }
 },
 "nbformat": 4,
 "nbformat_minor": 2
}
