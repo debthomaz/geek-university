{
 "cells": [
  {
   "cell_type": "markdown",
   "metadata": {},
   "source": [
    "## Listas\n",
    "\n",
    "Listas em Python funcionam como vetores/matrizes (arrays) em outras linguagens, com a diferença\n",
    "de serem DINÂMICOS e também de podermos colocar QUALQUER tipo de dado.\n",
    "\n",
    "Linguagens C/Java: Arrays\n",
    "- Possuem tamanho e tipo de dado fixo -> Ou seja, nestas linguagens se você criar um array do tipo int e com tamanho 5, este array será SEMPRE do tipo inteiro e poderá ter SEMPRE no máximo 5 valores.\n",
    "\n",
    "Já em Python:\n",
    "\n",
    "- Dinâmico: Não possui tamanho fixo; Ou seja, podemos criar a lista e simplesmente ir adicionando elementos;\n",
    "- Qualquer tipo de dado: Não possuem tipo de dado fixo; Ou seja, podemos colocar qualquer tipo de dado;\n",
    "\n",
    "As listas em Python são representadas por colchetes: []\n",
    "\n",
    "Listas são mutáveis: Ou seja, elas podem mudar constantemente."
   ]
  },
  {
   "cell_type": "code",
   "execution_count": 1,
   "metadata": {},
   "outputs": [],
   "source": [
    "type([])\n",
    "\n",
    "lista1 = [1, 99, 4, 27, 15, 22, 3, 1, 44, 42, 27]\n",
    "\n",
    "lista2 = ['G', 'e', 'e', 'k', ' ', 'U', 'n', 'i', 'v', 'e', 'r', 's', 'i', 't', 'y']\n",
    "\n",
    "lista3 = []\n",
    "\n",
    "lista4 = list(range(11))\n",
    "\n",
    "lista5 = list('Geek University')"
   ]
  },
  {
   "cell_type": "markdown",
   "metadata": {},
   "source": [
    "Podemos facilmente checar se determinado valor está contido na lista"
   ]
  },
  {
   "cell_type": "code",
   "execution_count": 2,
   "metadata": {},
   "outputs": [
    {
     "name": "stdout",
     "output_type": "stream",
     "text": [
      "Encontrei o número 7\n"
     ]
    }
   ],
   "source": [
    "num = 7\n",
    "if num in lista4:\n",
    "    print(f'Encontrei o número {num}')\n",
    "else:\n",
    "    print(f'Não encontrei o número {num}')\n"
   ]
  },
  {
   "cell_type": "markdown",
   "metadata": {},
   "source": [
    " Podemos facilmente ordenar uma lista"
   ]
  },
  {
   "cell_type": "code",
   "execution_count": 3,
   "metadata": {},
   "outputs": [
    {
     "name": "stdout",
     "output_type": "stream",
     "text": [
      "[1, 1, 3, 4, 15, 22, 27, 27, 42, 44, 99]\n"
     ]
    }
   ],
   "source": [
    "lista1.sort()\n",
    "print(lista1)"
   ]
  },
  {
   "cell_type": "markdown",
   "metadata": {},
   "source": [
    "Podemos facilmente contar o número de ocorrências de um valor em uma lista"
   ]
  },
  {
   "cell_type": "code",
   "execution_count": 4,
   "metadata": {},
   "outputs": [
    {
     "name": "stdout",
     "output_type": "stream",
     "text": [
      "2\n",
      "3\n"
     ]
    }
   ],
   "source": [
    "print(lista1.count(1))\n",
    "print(lista5.count('e'))"
   ]
  },
  {
   "cell_type": "markdown",
   "metadata": {},
   "source": [
    "### Adicionar elementos em listas"
   ]
  },
  {
   "cell_type": "code",
   "execution_count": 5,
   "metadata": {},
   "outputs": [
    {
     "name": "stdout",
     "output_type": "stream",
     "text": [
      "[1, 1, 3, 4, 15, 22, 27, 27, 42, 44, 99]\n",
      "[1, 1, 3, 4, 15, 22, 27, 27, 42, 44, 99, 42]\n",
      "[1, 1, 3, 4, 15, 22, 27, 27, 42, 44, 99, 42, [8, 3, 1]]\n",
      "Encontrei a lista\n",
      "[1, 1, 3, 4, 15, 22, 27, 27, 42, 44, 99, 42, [8, 3, 1], 123, 44, 67]\n"
     ]
    }
   ],
   "source": [
    "# Para adicionar elementos em listas, utilizamos a função append()\n",
    "\n",
    "print(lista1)\n",
    "lista1.append(42)\n",
    "print(lista1)\n",
    "\n",
    "# OBS: Com append(), nós só conseguimos adicionar 1 elemento por vez\n",
    "#  lista1.append(12, 34, 56) # Erro\n",
    "\n",
    "lista1.append([8, 3, 1])  # Coloca a lista como elemento único (sublista)\n",
    "print(lista1)\n",
    "\n",
    "if [8, 3, 1] in lista1:\n",
    "    print('Encontrei a lista')\n",
    "else:\n",
    "    print('Não encontrei a lista')\n",
    "\n",
    "lista1.extend([123, 44, 67])  # Coloca cada elemento da lista como valor adicional à lista\n",
    "print(lista1)\n"
   ]
  },
  {
   "cell_type": "markdown",
   "metadata": {},
   "source": [
    "Podemos inserir um novo elemento na lista informando a posição do índice\n",
    "\n",
    "OBS: Isso não substitui o valor inicial. O mesmo será deslocado para a direita da lista."
   ]
  },
  {
   "cell_type": "code",
   "execution_count": 7,
   "metadata": {},
   "outputs": [
    {
     "name": "stdout",
     "output_type": "stream",
     "text": [
      "[1, 1, 'Novo Valor', 3, 4, 15, 22, 27, 27, 42, 44, 99, 42, [8, 3, 1], 123, 44, 67, 'G', 'e', 'e', 'k', ' ', 'U', 'n', 'i', 'v', 'e', 'r', 's', 'i', 't', 'y']\n"
     ]
    }
   ],
   "source": [
    "lista1.insert(2, 'Novo Valor')\n",
    "print(lista1)"
   ]
  },
  {
   "cell_type": "markdown",
   "metadata": {},
   "source": [
    "Podemos facilmente juntar duas listas"
   ]
  },
  {
   "cell_type": "code",
   "execution_count": 6,
   "metadata": {},
   "outputs": [
    {
     "name": "stdout",
     "output_type": "stream",
     "text": [
      "[1, 1, 3, 4, 15, 22, 27, 27, 42, 44, 99, 42, [8, 3, 1], 123, 44, 67, 'G', 'e', 'e', 'k', ' ', 'U', 'n', 'i', 'v', 'e', 'r', 's', 'i', 't', 'y']\n"
     ]
    }
   ],
   "source": [
    "lista1 = lista1 + lista2\n",
    "#  lista1.extend(lista2)\n",
    "print(lista1)"
   ]
  },
  {
   "cell_type": "markdown",
   "metadata": {},
   "source": [
    "Podemos facilmente inverter uma lista"
   ]
  },
  {
   "cell_type": "code",
   "execution_count": 8,
   "metadata": {},
   "outputs": [
    {
     "name": "stdout",
     "output_type": "stream",
     "text": [
      "['y', 't', 'i', 's', 'r', 'e', 'v', 'i', 'n', 'U', ' ', 'k', 'e', 'e', 'G', 67, 44, 123, [8, 3, 1], 42, 99, 44, 42, 27, 27, 22, 15, 4, 3, 'Novo Valor', 1, 1]\n",
      "['y', 't', 'i', 's', 'r', 'e', 'v', 'i', 'n', 'U', ' ', 'k', 'e', 'e', 'G']\n",
      "[1, 1, 'Novo Valor', 3, 4, 15, 22, 27, 27, 42, 44, 99, 42, [8, 3, 1], 123, 44, 67, 'G', 'e', 'e', 'k', ' ', 'U', 'n', 'i', 'v', 'e', 'r', 's', 'i', 't', 'y']\n",
      "['G', 'e', 'e', 'k', ' ', 'U', 'n', 'i', 'v', 'e', 'r', 's', 'i', 't', 'y']\n"
     ]
    }
   ],
   "source": [
    "# Forma 1\n",
    "lista1.reverse()\n",
    "lista2.reverse()\n",
    "print(lista1)\n",
    "print(lista2)\n",
    "\n",
    "# Forma 2\n",
    "print(lista1[::-1])\n",
    "print(lista2[::-1])"
   ]
  },
  {
   "cell_type": "code",
   "execution_count": 9,
   "metadata": {},
   "outputs": [
    {
     "name": "stdout",
     "output_type": "stream",
     "text": [
      "['y', 't', 'i', 's', 'r', 'e', 'v', 'i', 'n', 'U', ' ', 'k', 'e', 'e', 'G']\n"
     ]
    }
   ],
   "source": [
    "# Copiar uma lista\n",
    "\n",
    "lista6 = lista2.copy()\n",
    "print(lista6)\n"
   ]
  },
  {
   "cell_type": "code",
   "execution_count": 10,
   "metadata": {},
   "outputs": [
    {
     "name": "stdout",
     "output_type": "stream",
     "text": [
      "15\n"
     ]
    }
   ],
   "source": [
    "# Podemos contar quantos elementos existem dentro da lista\n",
    "print(len(lista5))"
   ]
  },
  {
   "cell_type": "code",
   "execution_count": 11,
   "metadata": {},
   "outputs": [
    {
     "name": "stdout",
     "output_type": "stream",
     "text": [
      "['G', 'e', 'e', 'k', ' ', 'U', 'n', 'i', 'v', 'e', 'r', 's', 'i', 't', 'y']\n",
      "['G', 'e', 'e', 'k', ' ', 'U', 'n', 'i', 'v', 'e', 'r', 's', 'i', 't']\n"
     ]
    }
   ],
   "source": [
    "# Podemos remover facilmente o último elemento de uma lista\n",
    "# OBS: O pop() não somente remove o último elemento mas também o retorna\n",
    "print(lista5)\n",
    "lista5.pop()\n",
    "print(lista5)"
   ]
  },
  {
   "cell_type": "markdown",
   "metadata": {},
   "source": [
    "Podemos remover um elemento pelo índice\n",
    "\n",
    "OBS: Os elementos à direita deste índice serão deslocados para a esquerda\n",
    "\n",
    "OBS: Se não houver elemento no índice informado, teremos IndexError"
   ]
  },
  {
   "cell_type": "code",
   "execution_count": 12,
   "metadata": {},
   "outputs": [
    {
     "name": "stdout",
     "output_type": "stream",
     "text": [
      "['G', 'e', 'k', ' ', 'U', 'n', 'i', 'v', 'e', 'r', 's', 'i', 't']\n"
     ]
    }
   ],
   "source": [
    "lista5.pop(2)\n",
    "print(lista5)"
   ]
  },
  {
   "cell_type": "code",
   "execution_count": 13,
   "metadata": {},
   "outputs": [
    {
     "name": "stdout",
     "output_type": "stream",
     "text": [
      "['G', 'e', 'k', ' ', 'U', 'n', 'i', 'v', 'e', 'r', 's', 'i', 't']\n",
      "[]\n"
     ]
    }
   ],
   "source": [
    "# Podemos remover todos os elemento (zerar a lista)\n",
    "print(lista5)\n",
    "lista5.clear()\n",
    "print(lista5)\n"
   ]
  },
  {
   "cell_type": "code",
   "execution_count": 14,
   "metadata": {},
   "outputs": [
    {
     "name": "stdout",
     "output_type": "stream",
     "text": [
      "[1, 2, 3]\n",
      "[1, 2, 3, 1, 2, 3, 1, 2, 3]\n"
     ]
    }
   ],
   "source": [
    "# Podemos facilmente repetir elementos em uma lista\n",
    "nova = [1, 2, 3]\n",
    "print(nova)\n",
    "nova = nova * 3\n",
    "print(nova)\n"
   ]
  },
  {
   "cell_type": "markdown",
   "metadata": {},
   "source": [
    "Podemos facilmente converter uma string para uma lista"
   ]
  },
  {
   "cell_type": "code",
   "execution_count": 15,
   "metadata": {},
   "outputs": [
    {
     "name": "stdout",
     "output_type": "stream",
     "text": [
      "Programação em Python: Essencial\n",
      "['Programação', 'em', 'Python:', 'Essencial']\n"
     ]
    }
   ],
   "source": [
    "# Exemplo 1\n",
    "\n",
    "curso = 'Programação em Python: Essencial'\n",
    "print(curso)\n",
    "curso = curso.split()\n",
    "print(curso)\n",
    "\n",
    "# OBS: Por padrão, o split separa os elementos da lista pelo espaço entre elas"
   ]
  },
  {
   "cell_type": "code",
   "execution_count": 16,
   "metadata": {},
   "outputs": [
    {
     "name": "stdout",
     "output_type": "stream",
     "text": [
      "Porgramação,em,Python:,Essencial\n",
      "['Porgramação', 'em', 'Python:', 'Essencial']\n"
     ]
    }
   ],
   "source": [
    "# Exemplo 2\n",
    "\n",
    "curso = 'Porgramação,em,Python:,Essencial'\n",
    "print(curso)\n",
    "curso = curso.split(',')\n",
    "print(curso)"
   ]
  },
  {
   "cell_type": "markdown",
   "metadata": {},
   "source": [
    "### Convertendo uma lista em uma string"
   ]
  },
  {
   "cell_type": "code",
   "execution_count": 17,
   "metadata": {},
   "outputs": [
    {
     "name": "stdout",
     "output_type": "stream",
     "text": [
      "['Programação', 'em', 'Python:', 'Essencial']\n",
      "Programação em Python: Essencial\n",
      "Programação$em$Python:$Essencial\n"
     ]
    }
   ],
   "source": [
    "lista6 = ['Programação', 'em', 'Python:', 'Essencial']\n",
    "print(lista6)\n",
    "\n",
    "# Abaixo estamos falando: Pega a lista6, coloca espaço entre cada elemento e transforma em uma string\n",
    "curso = ' '.join(lista6)\n",
    "print(curso)\n",
    "\n",
    "# Abaixo estamos falando: Pega a lista6, coloca $ entre cada elemento e transforma em uma string\n",
    "curso = '$'.join(lista6)\n",
    "print(curso)"
   ]
  },
  {
   "cell_type": "markdown",
   "metadata": {},
   "source": [
    "Podemos realmente colocar qualquer tipo de dado em uma lista, inclusive misturando-os"
   ]
  },
  {
   "cell_type": "code",
   "execution_count": 18,
   "metadata": {},
   "outputs": [
    {
     "name": "stdout",
     "output_type": "stream",
     "text": [
      "[1, 2.34, True, 'Geek', 'd', [1, 2, 3], 454456556]\n",
      "<class 'list'>\n"
     ]
    }
   ],
   "source": [
    "lista6 = [1, 2.34, True, 'Geek', 'd', [1, 2, 3], 454456556]\n",
    "print(lista6)\n",
    "print(type(lista6))\n"
   ]
  },
  {
   "cell_type": "markdown",
   "metadata": {},
   "source": [
    "### Iterando sobre listas"
   ]
  },
  {
   "cell_type": "code",
   "execution_count": 19,
   "metadata": {},
   "outputs": [
    {
     "name": "stdout",
     "output_type": "stream",
     "text": [
      "0\n",
      "1\n",
      "2\n",
      "3\n",
      "4\n",
      "5\n",
      "6\n",
      "7\n",
      "8\n",
      "9\n",
      "10\n",
      "55\n"
     ]
    }
   ],
   "source": [
    "# Exemplo 1 - Utilizando for\n",
    "\n",
    "soma = 0\n",
    "for elemento in lista4:\n",
    "    print(elemento)\n",
    "    soma = soma + elemento\n",
    "print(soma)"
   ]
  },
  {
   "cell_type": "code",
   "execution_count": null,
   "metadata": {},
   "outputs": [],
   "source": [
    "# Exemplo 2 - Utilizando while\n",
    "\n",
    "carrinho = []\n",
    "produto = ''\n",
    "\n",
    "while produto != 'sair':\n",
    "    print(\"Adicione um produto da lista ou digite 'sair' para sair: \")\n",
    "    produto = input()\n",
    "    if produto != 'sair':\n",
    "        carrinho.append(produto)\n",
    "\n",
    "for produto in carrinho:\n",
    "    print(produto)"
   ]
  },
  {
   "cell_type": "markdown",
   "metadata": {},
   "source": [
    "### Utilizando variáveis em listas"
   ]
  },
  {
   "cell_type": "code",
   "execution_count": 1,
   "metadata": {},
   "outputs": [
    {
     "name": "stdout",
     "output_type": "stream",
     "text": [
      "[1, 2, 3, 4, 5]\n",
      "[1, 2, 3, 4, 5]\n"
     ]
    }
   ],
   "source": [
    "numeros = [1, 2, 3, 4, 5]\n",
    "print(numeros)\n",
    "\n",
    "num1 = 1\n",
    "num2 = 2\n",
    "num3 = 3\n",
    "num4 = 4\n",
    "num5 = 5\n",
    "\n",
    "numeros = [num1, num2, num3, num4, num5]\n",
    "print(numeros)\n"
   ]
  },
  {
   "cell_type": "markdown",
   "metadata": {},
   "source": [
    "Fazemos acesso aos elementos de forma indexada"
   ]
  },
  {
   "cell_type": "code",
   "execution_count": 2,
   "metadata": {},
   "outputs": [
    {
     "name": "stdout",
     "output_type": "stream",
     "text": [
      "verde\n",
      "amarelo\n",
      "azul\n",
      "branco\n"
     ]
    }
   ],
   "source": [
    "#           0          1        2        3\n",
    "cores = ['verde', 'amarelo', 'azul', 'branco']\n",
    "\n",
    "print(cores[0])  # verde\n",
    "print(cores[1])  # amarelo\n",
    "print(cores[2])  # azul\n",
    "print(cores[3])  # branco"
   ]
  },
  {
   "cell_type": "markdown",
   "metadata": {},
   "source": [
    "Fazer acesso aos elementos de forma indexada inversa\n",
    "\n",
    "Para entender melhor o índice negativo, pense na lista como um círculo, onde o final de um elemento está ligado ao início da lista"
   ]
  },
  {
   "cell_type": "code",
   "execution_count": 3,
   "metadata": {},
   "outputs": [
    {
     "name": "stdout",
     "output_type": "stream",
     "text": [
      "branco\n",
      "azul\n",
      "amarelo\n",
      "verde\n",
      "verde\n",
      "amarelo\n",
      "azul\n",
      "branco\n",
      "verde\n",
      "amarelo\n",
      "azul\n",
      "branco\n"
     ]
    }
   ],
   "source": [
    "print(cores[-1])  # branco\n",
    "print(cores[-2])  # azul\n",
    "print(cores[-3])  # amarelo\n",
    "print(cores[-4])  # verde\n",
    "# print(cores[-5])  # Erro, pois não existe índice -5\n",
    "\n",
    "\n",
    "for cor in cores:\n",
    "    print(cor)\n",
    "\n",
    "indice = 0\n",
    "while indice < len(cores):\n",
    "    print(cores[indice])\n",
    "    indice = indice + 1"
   ]
  },
  {
   "cell_type": "code",
   "execution_count": 4,
   "metadata": {},
   "outputs": [
    {
     "name": "stdout",
     "output_type": "stream",
     "text": [
      "0 verde\n",
      "1 amarelo\n",
      "2 azul\n",
      "3 branco\n"
     ]
    }
   ],
   "source": [
    "# Gerar índice em um for\n",
    "for indice, cor in enumerate(cores):\n",
    "    print(indice, cor)"
   ]
  },
  {
   "cell_type": "code",
   "execution_count": 5,
   "metadata": {},
   "outputs": [
    {
     "name": "stdout",
     "output_type": "stream",
     "text": [
      "[42, 42, 33, 33, 42]\n"
     ]
    }
   ],
   "source": [
    "# Listas aceitam valores repetidos\n",
    "lista = []\n",
    "lista.append(42)\n",
    "lista.append(42)\n",
    "lista.append(33)\n",
    "lista.append(33)\n",
    "lista.append(42)\n",
    "\n",
    "print(lista)"
   ]
  },
  {
   "cell_type": "markdown",
   "metadata": {},
   "source": [
    "### Outros métodos não tão importantes mas também úteis"
   ]
  },
  {
   "cell_type": "code",
   "execution_count": 6,
   "metadata": {},
   "outputs": [
    {
     "name": "stdout",
     "output_type": "stream",
     "text": [
      "1\n",
      "5\n",
      "0\n"
     ]
    }
   ],
   "source": [
    "# Encontrar o índice de um elemento na lista\n",
    "\n",
    "numeros = [5, 6, 7, 5, 8, 9, 10]\n",
    "\n",
    "# Em qual índice da lista está o valor 6?\n",
    "print(numeros.index(6))\n",
    "\n",
    "# Em qual índice da lista está o valor 9?\n",
    "print(numeros.index(9))\n",
    "\n",
    "# print(numeros.index(9)) # Gera ValueError\n",
    "\n",
    "# OBS: Caso não tenha este elemento na lista, será apresentado erro ValueError\n",
    "\n",
    "# OBS: Retorna o índice do primeiro elemento encontrado\n",
    "print(numeros.index(5))"
   ]
  },
  {
   "cell_type": "code",
   "execution_count": 9,
   "metadata": {},
   "outputs": [
    {
     "name": "stdout",
     "output_type": "stream",
     "text": [
      "3\n",
      "3\n",
      "3\n"
     ]
    }
   ],
   "source": [
    "# Podemos fazer busca dentro de um range, ou seja, qual índice começar a buscar\n",
    "print(numeros.index(5, 1))  # buscando a partir do índice 1\n",
    "print(numeros.index(5, 2))  # buscando a partir do índice 2\n",
    "print(numeros.index(5, 3))  # buscando a partir do índice 3\n",
    "# OBS: Caso não tenha este elemento na lista, será apresentado erro ValueError"
   ]
  },
  {
   "cell_type": "code",
   "execution_count": 10,
   "metadata": {},
   "outputs": [
    {
     "name": "stdout",
     "output_type": "stream",
     "text": [
      "4\n"
     ]
    }
   ],
   "source": [
    "# Podemos fazer busca dentro de um range, início/fim\n",
    "print(numeros.index(8, 3, 6))  # buscar o índice do valor 8, entre os índices 3 e 6"
   ]
  },
  {
   "cell_type": "markdown",
   "metadata": {},
   "source": [
    "### Revisão do slicing\n",
    "\n",
    "lista[início:fim:passo]\n",
    "range(início:fim:passo)\n",
    "\n",
    "Trabalhando com slice de lista com o parâmetro 'início'"
   ]
  },
  {
   "cell_type": "code",
   "execution_count": 11,
   "metadata": {},
   "outputs": [
    {
     "name": "stdout",
     "output_type": "stream",
     "text": [
      "[2, 3, 4]\n",
      "[1, 2]\n",
      "[1, 2, 3, 4]\n",
      "[2, 3]\n",
      "[2, 4]\n",
      "[1, 3]\n"
     ]
    }
   ],
   "source": [
    "lista = [1, 2, 3, 4]\n",
    "\n",
    "print(lista[1:])  # Iniciando no índice 1 e pegando todos os elementos restantes\n",
    "\n",
    "# Trabalhando com slice de lista com o parâmetro 'fim'\n",
    "\n",
    "print(lista[:2])  # comça em 0, pega até o índice 2 - 1\n",
    "\n",
    "print(lista[0:4])  # começa em 0, pega até o índice 4 - 1\n",
    "\n",
    "print(lista[1:3])  # começa em 1, pega até o índice 3 - 1\n",
    "\n",
    "\n",
    "# Trabalhando com slice de lista com o parâmetro 'passo'\n",
    "\n",
    "print(lista[1::2])  # Começa em 1, vai até o final, de 2 em 2\n",
    "\n",
    "print(lista[::2])  # Começa em 0, vai até o final, de 2 em 2\n"
   ]
  },
  {
   "cell_type": "markdown",
   "metadata": {},
   "source": [
    "### Invertendo valores em uma lista"
   ]
  },
  {
   "cell_type": "code",
   "execution_count": 12,
   "metadata": {},
   "outputs": [
    {
     "name": "stdout",
     "output_type": "stream",
     "text": [
      "['University', 'Geek']\n",
      "['University', 'Geek']\n"
     ]
    }
   ],
   "source": [
    "nomes = ['Geek', 'University']\n",
    "\n",
    "nomes[0], nomes[1] = nomes[1], nomes[0]\n",
    "\n",
    "print(nomes)\n",
    "\n",
    "nomes = ['Geek', 'University']\n",
    "\n",
    "nomes.reverse()\n",
    "print(nomes)"
   ]
  },
  {
   "cell_type": "markdown",
   "metadata": {},
   "source": [
    "### Soma*, Valor Máximo*, Valor Mínimo*, Tamanho\n",
    "\n",
    "* Se os valores forem todos inteiros ou reais."
   ]
  },
  {
   "cell_type": "code",
   "execution_count": 13,
   "metadata": {},
   "outputs": [
    {
     "name": "stdout",
     "output_type": "stream",
     "text": [
      "21\n",
      "6\n",
      "1\n",
      "6\n"
     ]
    }
   ],
   "source": [
    "lista = [1, 2, 3, 4, 5, 6]\n",
    "\n",
    "print(sum(lista))  # soma\n",
    "print(max(lista))  # máximo valor\n",
    "print(min(lista))  # mínimo valor\n",
    "print(len(lista))  # tamanho da lista\n"
   ]
  },
  {
   "cell_type": "markdown",
   "metadata": {},
   "source": [
    "### Transformar uma lista em tupla"
   ]
  },
  {
   "cell_type": "code",
   "execution_count": 14,
   "metadata": {},
   "outputs": [
    {
     "name": "stdout",
     "output_type": "stream",
     "text": [
      "[1, 2, 3, 4, 5, 6]\n",
      "<class 'list'>\n",
      "(1, 2, 3, 4, 5, 6)\n",
      "<class 'list'>\n"
     ]
    }
   ],
   "source": [
    "lista = [1, 2, 3, 4, 5, 6]\n",
    "print(lista)\n",
    "print(type(lista))\n",
    "\n",
    "tupla = tuple(lista)\n",
    "print(tupla)\n",
    "print(type(lista))"
   ]
  },
  {
   "cell_type": "markdown",
   "metadata": {},
   "source": [
    "### Desempacotamento de listas"
   ]
  },
  {
   "cell_type": "code",
   "execution_count": 15,
   "metadata": {},
   "outputs": [
    {
     "name": "stdout",
     "output_type": "stream",
     "text": [
      "1\n",
      "2\n",
      "3\n"
     ]
    }
   ],
   "source": [
    "lista = [1, 2, 3]\n",
    "\n",
    "num1, num2, num3 = lista\n",
    "\n",
    "print(num1)\n",
    "print(num2)\n",
    "print(num3)\n",
    "\n",
    "# OBS: Se tivermos um número diferente de elementos na lista ou variáveis para receber os dados, teremos ValueError"
   ]
  },
  {
   "cell_type": "markdown",
   "metadata": {},
   "source": [
    "### Copiando uma lista para outra (Shallow Copy e Deep Copy)"
   ]
  },
  {
   "cell_type": "code",
   "execution_count": 16,
   "metadata": {},
   "outputs": [
    {
     "name": "stdout",
     "output_type": "stream",
     "text": [
      "[1, 2, 3]\n",
      "[1, 2, 3]\n",
      "[1, 2, 3]\n",
      "[1, 2, 3, 4]\n"
     ]
    }
   ],
   "source": [
    "# Forma 1 - Deep Copy\n",
    "\n",
    "lista = [1, 2, 3]\n",
    "print(lista)\n",
    "\n",
    "nova = lista.copy()\n",
    "\n",
    "print(nova)\n",
    "\n",
    "nova.append(4)\n",
    "\n",
    "print(lista)\n",
    "print(nova)\n",
    "\n",
    "# Veja que ao utilizarmos lista.copy() copiamos os dados da lista para uma nova lista, mas elas\n",
    "# ficaram totalmente independentes, ou seja, modificando uma não afeta a outra. Isso em Python\n",
    "# é chamado de Deep Copy (cópia profunda)"
   ]
  },
  {
   "cell_type": "code",
   "execution_count": 17,
   "metadata": {},
   "outputs": [
    {
     "name": "stdout",
     "output_type": "stream",
     "text": [
      "[1, 2, 3]\n",
      "[1, 2, 3]\n",
      "[1, 2, 3, 4]\n",
      "[1, 2, 3, 4]\n"
     ]
    }
   ],
   "source": [
    "# Forma 2 - Shallow Copy\n",
    "\n",
    "lista = [1, 2, 3]\n",
    "print(lista)\n",
    "\n",
    "nova = lista  # cópia\n",
    "\n",
    "print(nova)\n",
    "\n",
    "nova.append(4)\n",
    "\n",
    "print(lista)\n",
    "print(nova)\n",
    "\n",
    "# Veja que utilizamos a cópia via atribuição e copiamos os dados da lista para a nova lista, mas\n",
    "# após realizar modificação em uma das listas, essa modificação se refletiu em ambas as listas.\n",
    "# Isso em Python é chamado de Shallow Copy."
   ]
  }
 ],
 "metadata": {
  "kernelspec": {
   "display_name": "Python 3",
   "language": "python",
   "name": "python3"
  },
  "language_info": {
   "codemirror_mode": {
    "name": "ipython",
    "version": 3
   },
   "file_extension": ".py",
   "mimetype": "text/x-python",
   "name": "python",
   "nbconvert_exporter": "python",
   "pygments_lexer": "ipython3",
   "version": "3.8.1"
  }
 },
 "nbformat": 4,
 "nbformat_minor": 2
}
