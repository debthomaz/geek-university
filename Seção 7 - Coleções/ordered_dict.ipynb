{
 "cells": [
  {
   "cell_type": "markdown",
   "metadata": {},
   "source": [
    "### Módulo Collections - 0rdered Dict"
   ]
  },
  {
   "cell_type": "code",
   "execution_count": 1,
   "metadata": {},
   "outputs": [
    {
     "name": "stdout",
     "output_type": "stream",
     "text": [
      "chave=a:valor=1\n",
      "chave=b:valor=2\n",
      "chave=c:valor=3\n",
      "chave=d:valor=4\n",
      "chave=e:valor=5\n"
     ]
    }
   ],
   "source": [
    "# Em um dicionário, a ordem de inserção dos elementos não é garantida.\n",
    "dicionario = {'a': 1, 'b': 2, 'c': 3, 'd': 4, 'e': 5}\n",
    "\n",
    "for chave, valor in dicionario.items():\n",
    "    print(f'chave={chave}:valor={valor}')"
   ]
  },
  {
   "cell_type": "code",
   "execution_count": 2,
   "metadata": {},
   "outputs": [
    {
     "name": "stdout",
     "output_type": "stream",
     "text": [
      "chave=a:valor=1\n",
      "chave=b:valor=2\n",
      "chave=c:valor=3\n",
      "chave=d:valor=4\n",
      "chave=e:valor=5\n"
     ]
    }
   ],
   "source": [
    "# Fazendo import\n",
    "from collections import OrderedDict\n",
    "\n",
    "diciocario = OrderedDict({'a': 1, 'b': 2, 'c': 3, 'd': 4, 'e': 5})\n",
    "\n",
    "for chave, valor in diciocario.items():\n",
    "    print(f'chave={chave}:valor={valor}')"
   ]
  },
  {
   "cell_type": "markdown",
   "metadata": {},
   "source": [
    "Entendendo a diferença entre Dict e Ordered Dict"
   ]
  },
  {
   "cell_type": "code",
   "execution_count": 3,
   "metadata": {},
   "outputs": [
    {
     "name": "stdout",
     "output_type": "stream",
     "text": [
      "True\n"
     ]
    }
   ],
   "source": [
    "# Dicionários comuns\n",
    "\n",
    "dict1 = {'a': 1, 'b': 2}\n",
    "dict2 = {'b': 2, 'a': 1}\n",
    "\n",
    "print(dict1 == dict2)  # True/False??? -> True, já que a ordem dos elementos não importa para o dicionário\n"
   ]
  },
  {
   "cell_type": "code",
   "execution_count": 4,
   "metadata": {},
   "outputs": [
    {
     "name": "stdout",
     "output_type": "stream",
     "text": [
      "False\n"
     ]
    }
   ],
   "source": [
    "# Ordered Dict\n",
    "\n",
    "odict1 = OrderedDict({'a': 1, 'b': 2})\n",
    "odict2 = OrderedDict({'b': 2, 'a': 1})\n",
    "\n",
    "print(odict1 == odict2)  # True/False??? -> False, pois a ordem dos elementos importa para OrderedDict"
   ]
  }
 ],
 "metadata": {
  "kernelspec": {
   "display_name": "Python 3",
   "language": "python",
   "name": "python3"
  },
  "language_info": {
   "codemirror_mode": {
    "name": "ipython",
    "version": 3
   },
   "file_extension": ".py",
   "mimetype": "text/x-python",
   "name": "python",
   "nbconvert_exporter": "python",
   "pygments_lexer": "ipython3",
   "version": "3.8.1"
  }
 },
 "nbformat": 4,
 "nbformat_minor": 2
}
