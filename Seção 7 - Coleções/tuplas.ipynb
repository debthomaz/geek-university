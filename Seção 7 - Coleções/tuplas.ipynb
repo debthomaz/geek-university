{
 "cells": [
  {
   "cell_type": "markdown",
   "metadata": {},
   "source": [
    "## Tuplas (tuple)\n",
    "\n",
    "Tuplas são bastante parecidas com listas.\n",
    "\n",
    "Existem basicamente duas diferenças:\n",
    "\n",
    "1 - As tuplas são representadas por parênteses ()\n",
    "\n",
    "2 - As tuplas são imutáveis: Isso significa que ao se criar uma tupla ela não muda. Toda\n",
    "operação em uma tupla gera uma tupla.\n"
   ]
  },
  {
   "cell_type": "code",
   "execution_count": 1,
   "metadata": {},
   "outputs": [
    {
     "name": "stdout",
     "output_type": "stream",
     "text": [
      "(1, 2, 3, 4, 5, 6)\n",
      "<class 'tuple'>\n",
      "(1, 2, 3, 4, 5, 6)\n",
      "<class 'tuple'>\n"
     ]
    }
   ],
   "source": [
    "# CUIDADO 1: As tuplas são representada por (), mas veja:\n",
    "\n",
    "tupla1 = (1, 2, 3, 4, 5, 6)\n",
    "print(tupla1)\n",
    "\n",
    "print(type(tupla1))\n",
    "\n",
    "tupla2 = 1, 2, 3, 4, 5, 6\n",
    "print(tupla2)\n",
    "\n",
    "print(type(tupla2))"
   ]
  },
  {
   "cell_type": "code",
   "execution_count": 3,
   "metadata": {},
   "outputs": [
    {
     "name": "stdout",
     "output_type": "stream",
     "text": [
      "4\n",
      "<class 'int'>\n",
      "(4,)\n",
      "<class 'tuple'>\n",
      "(4,)\n",
      "<class 'tuple'>\n"
     ]
    }
   ],
   "source": [
    "# CUIDADO 2: Tuplas com 1 elemento\n",
    "\n",
    "tupla3 = (4)  # Isso não é uma tupla!\n",
    "print(tupla3)\n",
    "\n",
    "print(type(tupla3))\n",
    "\n",
    "\n",
    "tupla4 = (4,)  # Isso é uma tupla!\n",
    "print(tupla4)\n",
    "\n",
    "print(type(tupla4))\n",
    "\n",
    "tupla5 = 4,\n",
    "print(tupla5)\n",
    "\n",
    "print(type(tupla5))\n"
   ]
  },
  {
   "cell_type": "markdown",
   "metadata": {},
   "source": [
    "CONCLUSÃO: Podemos concluir que tuplas são definidas pela vírgula e não pelo uso do parênteses\n",
    "\n",
    "(4) -> Não é tupla\n",
    "(4,) -> É tupla\n",
    "4,  -> É tupla\n"
   ]
  },
  {
   "cell_type": "markdown",
   "metadata": {},
   "source": [
    "Podemos gerar uma tupla dinamicamente com range(início,fim,passo)"
   ]
  },
  {
   "cell_type": "code",
   "execution_count": 4,
   "metadata": {},
   "outputs": [
    {
     "name": "stdout",
     "output_type": "stream",
     "text": [
      "(0, 1, 2, 3, 4, 5, 6, 7, 8, 9, 10)\n",
      "<class 'tuple'>\n"
     ]
    }
   ],
   "source": [
    "tupla = tuple(range(11))\n",
    "print(tupla)\n",
    "print(type(tupla))\n"
   ]
  },
  {
   "cell_type": "markdown",
   "metadata": {},
   "source": [
    "### Desempacotamento de tupla"
   ]
  },
  {
   "cell_type": "code",
   "execution_count": 5,
   "metadata": {},
   "outputs": [
    {
     "name": "stdout",
     "output_type": "stream",
     "text": [
      "Geek University\n",
      "Programação em Python: Essencial\n"
     ]
    }
   ],
   "source": [
    "tupla = ('Geek University', 'Programação em Python: Essencial')\n",
    "\n",
    "escola, curso = tupla\n",
    "\n",
    "print(escola)\n",
    "print(curso)\n",
    "\n",
    "# OBS: Gera erro (ValueError) se colocarmos um número diferente de elementos para desempacotar."
   ]
  },
  {
   "cell_type": "markdown",
   "metadata": {},
   "source": [
    "Métodos para adição e remoção de elementos nas tuplas não existem, dado o fato das tuplas serem imutáveis."
   ]
  },
  {
   "cell_type": "markdown",
   "metadata": {},
   "source": [
    "### Soma*, Valor Máximo, Valor Mínimo* e Tamanho\n",
    "\n",
    "* Se os valores forem todos inteiros ou reais"
   ]
  },
  {
   "cell_type": "code",
   "execution_count": 6,
   "metadata": {},
   "outputs": [
    {
     "name": "stdout",
     "output_type": "stream",
     "text": [
      "21\n",
      "6\n",
      "1\n",
      "6\n"
     ]
    }
   ],
   "source": [
    "tupla = (1, 2, 3, 4, 5, 6)\n",
    "\n",
    "print(sum(tupla))\n",
    "print(max(tupla))\n",
    "print(min(tupla))\n",
    "print(len(tupla))"
   ]
  },
  {
   "cell_type": "markdown",
   "metadata": {},
   "source": [
    "### Concatenação de tuplas"
   ]
  },
  {
   "cell_type": "code",
   "execution_count": 7,
   "metadata": {},
   "outputs": [
    {
     "name": "stdout",
     "output_type": "stream",
     "text": [
      "(1, 2, 3)\n",
      "(4, 5, 6)\n",
      "(1, 2, 3, 4, 5, 6)\n",
      "(1, 2, 3)\n",
      "(4, 5, 6)\n",
      "(1, 2, 3, 4, 5, 6)\n",
      "(1, 2, 3)\n",
      "(4, 5, 6)\n",
      "(1, 2, 3, 4, 5, 6)\n"
     ]
    }
   ],
   "source": [
    "tupla1 = (1, 2, 3)\n",
    "print(tupla1)\n",
    "\n",
    "tupla2 = (4, 5, 6)\n",
    "print(tupla2)\n",
    "\n",
    "print(tupla1 + tupla2)  # Tuplas são imutáveis\n",
    "\n",
    "print(tupla1)\n",
    "print(tupla2)\n",
    "\n",
    "tupla3 = tupla1 + tupla2\n",
    "\n",
    "print(tupla3)\n",
    "print(tupla1)\n",
    "print(tupla2)\n",
    "\n",
    "tupla1 = tupla1 + tupla2  # Tuplas são imutáveis, mas podemos sobrescrever seus valores\n",
    "print(tupla1)"
   ]
  },
  {
   "cell_type": "markdown",
   "metadata": {},
   "source": [
    "### Verificar se determinado elemento está contido na tupla"
   ]
  },
  {
   "cell_type": "code",
   "execution_count": 8,
   "metadata": {},
   "outputs": [
    {
     "name": "stdout",
     "output_type": "stream",
     "text": [
      "True\n",
      "1\n",
      "2\n",
      "3\n",
      "0 1\n",
      "1 2\n",
      "2 3\n"
     ]
    }
   ],
   "source": [
    "tupla = (1, 2, 3)\n",
    "\n",
    "print(3 in tupla)\n",
    "\n",
    "# Iterando sobre uma tupla\n",
    "\n",
    "tupla = (1, 2, 3)\n",
    "\n",
    "for n in tupla:\n",
    "    print(n)\n",
    "\n",
    "\n",
    "for indice, valor in enumerate(tupla):\n",
    "    print(indice, valor)"
   ]
  },
  {
   "cell_type": "markdown",
   "metadata": {},
   "source": [
    "### Contando elementos dentro de uma tupla"
   ]
  },
  {
   "cell_type": "code",
   "execution_count": 9,
   "metadata": {},
   "outputs": [
    {
     "name": "stdout",
     "output_type": "stream",
     "text": [
      "1\n",
      "('G', 'e', 'e', 'k', ' ', 'U', 'n', 'i', 'v', 'e', 'r', 's', 'i', 't', 'y')\n",
      "3\n"
     ]
    }
   ],
   "source": [
    "tupla = ('a', 'b', 'c', 'd', 'e', 'a', 'b')\n",
    "\n",
    "print(tupla.count('c'))\n",
    "\n",
    "escola = tuple('Geek University')  # converteu uma string para tupla\n",
    "print(escola)\n",
    "\n",
    "print(escola.count('e'))"
   ]
  },
  {
   "cell_type": "markdown",
   "metadata": {},
   "source": [
    "### Dicas na utilização de tuplas\n",
    "\n",
    "Devemos utilizar tuplas sempre que não precisarmos modificar os dados contidos em uma coleção"
   ]
  },
  {
   "cell_type": "code",
   "execution_count": 10,
   "metadata": {},
   "outputs": [
    {
     "name": "stdout",
     "output_type": "stream",
     "text": [
      "('Janeiro', 'Fevereiro', 'Março', 'Abril', 'Maio', 'Junho', 'Julho', 'Agosto', 'Setembro', 'Outubro', 'Novembro', 'Dezembro')\n"
     ]
    }
   ],
   "source": [
    "meses = ('Janeiro', 'Fevereiro', 'Março', 'Abril', 'Maio', 'Junho', 'Julho', 'Agosto', 'Setembro', 'Outubro', 'Novembro', 'Dezembro')\n",
    "\n",
    "print(meses)"
   ]
  },
  {
   "cell_type": "code",
   "execution_count": 11,
   "metadata": {},
   "outputs": [
    {
     "name": "stdout",
     "output_type": "stream",
     "text": [
      "Junho\n",
      "Janeiro\n",
      "Fevereiro\n",
      "Março\n",
      "Abril\n",
      "Maio\n",
      "Junho\n",
      "Julho\n",
      "Agosto\n",
      "Setembro\n",
      "Outubro\n",
      "Novembro\n",
      "Dezembro\n"
     ]
    }
   ],
   "source": [
    "# O acesso a elementos de uma tupla também é semelhante a de uma lista\n",
    "\n",
    "print(meses[5])\n",
    "\n",
    "# Iterar com while\n",
    "i = 0\n",
    "\n",
    "while i < len(meses):\n",
    "    print(meses[i])\n",
    "    i = i + 1"
   ]
  },
  {
   "cell_type": "code",
   "execution_count": 12,
   "metadata": {},
   "outputs": [
    {
     "name": "stdout",
     "output_type": "stream",
     "text": [
      "5\n"
     ]
    }
   ],
   "source": [
    "# Verificamos em qual índice um elemento está na tupla\n",
    "\n",
    "print(meses.index('Junho'))\n",
    "\n",
    "# OBS: Caso o elemento não exista, será gerado ValueError."
   ]
  },
  {
   "cell_type": "code",
   "execution_count": 13,
   "metadata": {},
   "outputs": [
    {
     "name": "stdout",
     "output_type": "stream",
     "text": [
      "('Junho', 'Julho', 'Agosto', 'Setembro')\n"
     ]
    }
   ],
   "source": [
    "# Slicing\n",
    "\n",
    "# tupla[inicio:fim:passo]\n",
    "\n",
    "print(meses[5:9])"
   ]
  },
  {
   "cell_type": "markdown",
   "metadata": {},
   "source": [
    "Por que utilizar tuplas?\n",
    "\n",
    "- Tuplas são mais rápidas do que listas.\n",
    "- Tuplas deixam seu código mais seguro*.\n",
    "\n",
    "* Isso porque trabalhar com elementos imutáveis traz segurança para o código."
   ]
  },
  {
   "cell_type": "code",
   "execution_count": 14,
   "metadata": {},
   "outputs": [
    {
     "name": "stdout",
     "output_type": "stream",
     "text": [
      "(1, 2, 3)\n",
      "(1, 2, 3)\n",
      "(1, 2, 3)\n",
      "(1, 2, 3, 4, 5, 6)\n",
      "(1, 2, 3)\n"
     ]
    }
   ],
   "source": [
    "# Copiando uma tupla para outra\n",
    "\n",
    "tupla = (1, 2, 3)\n",
    "print(tupla)\n",
    "\n",
    "nova = tupla\n",
    "\n",
    "print(nova)\n",
    "print(tupla)\n",
    "\n",
    "outra = (4, 5, 6)\n",
    "\n",
    "nova = nova + outra\n",
    "\n",
    "print(nova)\n",
    "print(tupla)\n"
   ]
  }
 ],
 "metadata": {
  "kernelspec": {
   "display_name": "Python 3",
   "language": "python",
   "name": "python3"
  },
  "language_info": {
   "codemirror_mode": {
    "name": "ipython",
    "version": 3
   },
   "file_extension": ".py",
   "mimetype": "text/x-python",
   "name": "python",
   "nbconvert_exporter": "python",
   "pygments_lexer": "ipython3",
   "version": "3.8.1"
  }
 },
 "nbformat": 4,
 "nbformat_minor": 2
}
