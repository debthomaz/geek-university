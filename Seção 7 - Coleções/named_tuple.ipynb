{
 "cells": [
  {
   "cell_type": "markdown",
   "metadata": {},
   "source": [
    "### Módulo Collections - Named Tuple\n",
    "\n",
    "tupla = (1, 2, 3)\n",
    "\n",
    "Named Tuple ->  São tuplas diferenciadas, onde especificamos um nome para a mesma e também parâmetros."
   ]
  },
  {
   "cell_type": "code",
   "execution_count": 1,
   "metadata": {},
   "outputs": [],
   "source": [
    "# Importando\n",
    "from collections import namedtuple"
   ]
  },
  {
   "cell_type": "markdown",
   "metadata": {},
   "source": [
    "Precisamos definir o nome e parâmetros"
   ]
  },
  {
   "cell_type": "code",
   "execution_count": 2,
   "metadata": {},
   "outputs": [],
   "source": [
    "# Forma 1 - Declaração Named Tuple\n",
    "\n",
    "cachorro = namedtuple('cachorro', 'idade raca nome')"
   ]
  },
  {
   "cell_type": "code",
   "execution_count": 3,
   "metadata": {},
   "outputs": [],
   "source": [
    "# Forma 2 - Declaração Named Tuple\n",
    "\n",
    "cachorro = namedtuple('cachorro', 'idade, raca, nome')"
   ]
  },
  {
   "cell_type": "code",
   "execution_count": 4,
   "metadata": {},
   "outputs": [],
   "source": [
    "# Forma 3 - Declaração Named Tuple\n",
    "\n",
    "cachorro = namedtuple('cachorro', ['idade', 'raca', 'nome'])\n"
   ]
  },
  {
   "cell_type": "code",
   "execution_count": 5,
   "metadata": {},
   "outputs": [
    {
     "name": "stdout",
     "output_type": "stream",
     "text": [
      "cachorro(idade=2, raca='Chow-Chow', nome='Ray')\n"
     ]
    }
   ],
   "source": [
    "# Usando\n",
    "\n",
    "ray = cachorro(idade=2, raca='Chow-Chow', nome='Ray')\n",
    "\n",
    "print(ray)"
   ]
  },
  {
   "cell_type": "markdown",
   "metadata": {},
   "source": [
    "Acessando os dados"
   ]
  },
  {
   "cell_type": "code",
   "execution_count": 6,
   "metadata": {},
   "outputs": [
    {
     "name": "stdout",
     "output_type": "stream",
     "text": [
      "2\n",
      "Chow-Chow\n",
      "Ray\n"
     ]
    }
   ],
   "source": [
    "# Forma 1\n",
    "\n",
    "print(ray[0])  # idade\n",
    "print(ray[1])  # raça\n",
    "print(ray[2])  # nome"
   ]
  },
  {
   "cell_type": "code",
   "execution_count": 7,
   "metadata": {},
   "outputs": [
    {
     "name": "stdout",
     "output_type": "stream",
     "text": [
      "2\n",
      "Chow-Chow\n",
      "Ray\n",
      "1\n",
      "1\n"
     ]
    }
   ],
   "source": [
    "# Forma 2\n",
    "\n",
    "print(ray.idade)\n",
    "print(ray.raca)\n",
    "print(ray.nome)\n",
    "\n",
    "\n",
    "print(ray.index('Chow-Chow'))\n",
    "\n",
    "print(ray.count('Chow-Chow'))"
   ]
  }
 ],
 "metadata": {
  "kernelspec": {
   "display_name": "Python 3",
   "language": "python",
   "name": "python3"
  },
  "language_info": {
   "codemirror_mode": {
    "name": "ipython",
    "version": 3
   },
   "file_extension": ".py",
   "mimetype": "text/x-python",
   "name": "python",
   "nbconvert_exporter": "python",
   "pygments_lexer": "ipython3",
   "version": "3.8.1"
  }
 },
 "nbformat": 4,
 "nbformat_minor": 2
}
