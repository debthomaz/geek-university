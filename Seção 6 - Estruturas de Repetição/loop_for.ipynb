{
 "cells": [
  {
   "cell_type": "markdown",
   "metadata": {},
   "source": [
    "## Loop for\n",
    "\n",
    "Loop -> Estrutura de repetição.\n",
    "For - > Uma dessas estruturas.\n",
    "\n",
    "C ou Java\n",
    "\n",
    "```java\n",
    "for(int i = 0; i < limitador; i++){\n",
    "    //execução do loop\n",
    "}\n",
    "```\n",
    "\n",
    "Python\n",
    "\n",
    "```python\n",
    "for item in iterável:\n",
    "    //execução do loop\n",
    "```\n",
    "\n",
    "\n",
    "Utilizamos loops para iterar sobre sequências ou sobre valores iteráveis"
   ]
  },
  {
   "cell_type": "code",
   "execution_count": 1,
   "metadata": {},
   "outputs": [
    {
     "name": "stdout",
     "output_type": "stream",
     "text": [
      "G\n",
      "e\n",
      "e\n",
      "k\n",
      " \n",
      "U\n",
      "n\n",
      "i\n",
      "v\n",
      "e\n",
      "r\n",
      "s\n",
      "i\n",
      "t\n",
      "y\n"
     ]
    }
   ],
   "source": [
    "# Exemplos de iteráveis:\n",
    "# String\n",
    "nome = 'Geek University'\n",
    "# Lista\n",
    "lista = [1, 3, 5, 7, 9]\n",
    "# Range\n",
    "numeros = range(1, 10)\n",
    "\n",
    "# Exemplo de for 1 (Iterando em uma string)\n",
    "\n",
    "for letra in nome:\n",
    "    print(letra)\n"
   ]
  },
  {
   "cell_type": "code",
   "execution_count": 2,
   "metadata": {},
   "outputs": [
    {
     "name": "stdout",
     "output_type": "stream",
     "text": [
      "1\n",
      "3\n",
      "5\n",
      "7\n",
      "9\n"
     ]
    }
   ],
   "source": [
    "# Exemplo de for 2 (Iterando sobre uma lista)\n",
    "for numero in lista:\n",
    "    print(numero)\n"
   ]
  },
  {
   "cell_type": "code",
   "execution_count": 7,
   "metadata": {},
   "outputs": [
    {
     "name": "stdout",
     "output_type": "stream",
     "text": [
      "1\n",
      "2\n",
      "3\n",
      "4\n",
      "5\n",
      "6\n",
      "7\n",
      "8\n",
      "9\n"
     ]
    }
   ],
   "source": [
    "# Exemplo de for 3 (Iterando sobre um range)\n",
    "\n",
    "# range(valor_inicial, valor_final)\n",
    "\n",
    "# OBS: O valor final não é inclusive.\n",
    "for numero in range(1, 10):\n",
    "    print(numero)\n"
   ]
  },
  {
   "cell_type": "markdown",
   "metadata": {},
   "source": [
    "### Enumerate:\n",
    "\n",
    "\"((0,'G'), (1, 'e'), (2, 'e'), (3, 'k'), (4,' '). (5, 'U')...)"
   ]
  },
  {
   "cell_type": "code",
   "execution_count": 5,
   "metadata": {},
   "outputs": [
    {
     "name": "stdout",
     "output_type": "stream",
     "text": [
      "G\n",
      "e\n",
      "e\n",
      "k\n",
      " \n",
      "U\n",
      "n\n",
      "i\n",
      "v\n",
      "e\n",
      "r\n",
      "s\n",
      "i\n",
      "t\n",
      "y\n",
      "G\n",
      "e\n",
      "e\n",
      "k\n",
      " \n",
      "U\n",
      "n\n",
      "i\n",
      "v\n",
      "e\n",
      "r\n",
      "s\n",
      "i\n",
      "t\n",
      "y\n",
      "G\n",
      "e\n",
      "e\n",
      "k\n",
      " \n",
      "U\n",
      "n\n",
      "i\n",
      "v\n",
      "e\n",
      "r\n",
      "s\n",
      "i\n",
      "t\n",
      "y\n",
      "(0, 'G')\n",
      "(1, 'e')\n",
      "(2, 'e')\n",
      "(3, 'k')\n",
      "(4, ' ')\n",
      "(5, 'U')\n",
      "(6, 'n')\n",
      "(7, 'i')\n",
      "(8, 'v')\n",
      "(9, 'e')\n",
      "(10, 'r')\n",
      "(11, 's')\n",
      "(12, 'i')\n",
      "(13, 't')\n",
      "(14, 'y')\n",
      "A soma é 1\n",
      "Geek University"
     ]
    }
   ],
   "source": [
    "for indice, letra in enumerate(nome):\n",
    "    print(nome[indice])\n",
    "\n",
    "for indice, letra in enumerate(nome):\n",
    "    print(letra)\n",
    "\n",
    "for _, letra in enumerate(nome):\n",
    "    print(letra)\n",
    "\n",
    "# OBS: Quando não precisamos de um valor, podemos descartá-lo utilizando um underline (_)\n",
    "\n",
    "nome = 'Geek University'\n",
    "lista = [1, 3, 5, 7, 9]\n",
    "numeros = range(1, 10)  # Temos que transformar em uma lista\n",
    "\n",
    "for valor in enumerate(nome):\n",
    "    print(valor)\n",
    "\n",
    "qtd = int(input('Quantas vezes esse loop deve rodar? '))\n",
    "soma = 0\n",
    "\n",
    "for n in range(1, qtd+1):\n",
    "    num = int(input(f'Informe o {n}/{qtd} valor: '))\n",
    "    soma = soma + num\n",
    "print(f'A soma é {soma}')\n",
    "\n",
    "nome = 'Geek University'\n",
    "for letra in nome:\n",
    "    print(letra, end='')"
   ]
  }
 ],
 "metadata": {
  "kernelspec": {
   "display_name": "Python 3",
   "language": "python",
   "name": "python3"
  },
  "language_info": {
   "codemirror_mode": {
    "name": "ipython",
    "version": 3
   },
   "file_extension": ".py",
   "mimetype": "text/x-python",
   "name": "python",
   "nbconvert_exporter": "python",
   "pygments_lexer": "ipython3",
   "version": "3.8.1"
  }
 },
 "nbformat": 4,
 "nbformat_minor": 2
}
