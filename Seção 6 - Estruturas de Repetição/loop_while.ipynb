{
 "cells": [
  {
   "cell_type": "markdown",
   "metadata": {},
   "source": [
    "### Loop while\n",
    "\n",
    "Forma geral\n",
    "\n",
    "```python\n",
    "while expressão_booleana:\n",
    "    //execução do loop\n",
    "\n",
    "```\n",
    "\n",
    "O bloco do while será repetido enquanto a expressão booleana for verdadeira.\n",
    "\n",
    "Expressão booleana é toda expressão onde o resultado é True ou False.\n",
    "\n",
    "Exemplo:\n",
    "\n",
    "```python\n",
    "num = 5\n",
    "\n",
    "num < 5\n",
    "```"
   ]
  },
  {
   "cell_type": "code",
   "execution_count": 1,
   "metadata": {},
   "outputs": [
    {
     "name": "stdout",
     "output_type": "stream",
     "text": [
      "1\n",
      "2\n",
      "3\n",
      "4\n",
      "5\n",
      "6\n",
      "7\n",
      "8\n",
      "9\n"
     ]
    }
   ],
   "source": [
    "# Exemplo 1\n",
    "\n",
    "numero = 1\n",
    "\n",
    "while numero < 10:\n",
    "    print(numero)\n",
    "    numero += 1"
   ]
  },
  {
   "cell_type": "markdown",
   "metadata": {},
   "source": [
    "OBS: Em um loop while, é importante que cuidemos do critério de parada para não causar loop infinito.\n",
    "\n",
    " C ou Java\n",
    "\n",
    "```java\n",
    "while(expressão){\n",
    "  //execução\n",
    "}\n",
    "\n",
    "```\n",
    " do while (C ou Java)\n",
    "\n",
    "```java\n",
    "do {\n",
    "    //execução\n",
    "}while(expressão);\n",
    "```\n",
    "\n",
    "\n",
    "* Em alguns softwares é necessário o loop infinito. Como em um jogo, um loop infinito que atualiza\n",
    "a tela a todo momento"
   ]
  },
  {
   "cell_type": "code",
   "execution_count": 2,
   "metadata": {},
   "outputs": [],
   "source": [
    "# Exemplo 2\n",
    "\n",
    "resposta = ''\n",
    "\n",
    "while resposta != 'sim':\n",
    "    resposta = input('Já acabou, Jéssica? ')"
   ]
  }
 ],
 "metadata": {
  "kernelspec": {
   "display_name": "Python 3",
   "language": "python",
   "name": "python3"
  },
  "language_info": {
   "codemirror_mode": {
    "name": "ipython",
    "version": 3
   },
   "file_extension": ".py",
   "mimetype": "text/x-python",
   "name": "python",
   "nbconvert_exporter": "python",
   "pygments_lexer": "ipython3",
   "version": "3.8.1"
  }
 },
 "nbformat": 4,
 "nbformat_minor": 2
}
