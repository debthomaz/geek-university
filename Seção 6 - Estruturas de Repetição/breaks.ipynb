{
 "cells": [
  {
   "cell_type": "markdown",
   "metadata": {},
   "source": [
    "### Saindo de loops com break\n",
    "\n",
    "Funciona da mesma forma que nas linguagens C ou Java.\n",
    "\n",
    "Utilizamos o break para sair de loops de maneira projetada."
   ]
  },
  {
   "cell_type": "code",
   "execution_count": 1,
   "metadata": {},
   "outputs": [
    {
     "name": "stdout",
     "output_type": "stream",
     "text": [
      "1\n",
      "2\n",
      "3\n",
      "4\n",
      "5\n",
      "Sai do loop\n"
     ]
    }
   ],
   "source": [
    "# Exemplo 1\n",
    "\n",
    "for numero in range(1, 11):\n",
    "    if numero == 6:\n",
    "        break\n",
    "    else:\n",
    "        print(numero)\n",
    "print('Sai do loop')"
   ]
  },
  {
   "cell_type": "code",
   "execution_count": 2,
   "metadata": {},
   "outputs": [],
   "source": [
    "# Exemplo 2\n",
    "\n",
    "while True:\n",
    "    comando = input(\"Digite 'sair' para sair: \")\n",
    "    if comando == 'sair':\n",
    "        break"
   ]
  }
 ],
 "metadata": {
  "kernelspec": {
   "display_name": "Python 3",
   "language": "python",
   "name": "python3"
  },
  "language_info": {
   "codemirror_mode": {
    "name": "ipython",
    "version": 3
   },
   "file_extension": ".py",
   "mimetype": "text/x-python",
   "name": "python",
   "nbconvert_exporter": "python",
   "pygments_lexer": "ipython3",
   "version": "3.8.1"
  }
 },
 "nbformat": 4,
 "nbformat_minor": 2
}
