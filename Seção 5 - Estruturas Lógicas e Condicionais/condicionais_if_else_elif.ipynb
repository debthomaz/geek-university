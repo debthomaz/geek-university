{
 "cells": [
  {
   "cell_type": "markdown",
   "metadata": {},
   "source": [
    "\n",
    "### Estruturas condicionais\n",
    "if (Se), else, elif (else if)"
   ]
  },
  {
   "cell_type": "markdown",
   "metadata": {},
   "source": [
    "Estrutura condicional if, else em C\n",
    "\n",
    "if(idade < 18){\n",
    "    printf(\"Menor de idade\");\n",
    "}else if(idade == 18){\n",
    "  printf(\"Tem 18 anos\");\n",
    "}else{\n",
    "  printf(\"Maior de idade\");\n",
    "}"
   ]
  },
  {
   "cell_type": "markdown",
   "metadata": {},
   "source": [
    "Estrutura condicional if, else em Java\n",
    "\n",
    "if(idade < 18){\n",
    "    System.out.println(\"Menor de idade\");\n",
    "}else if(idade == 18){\n",
    "  System.out.println(\"Tem 18 anos\");\n",
    "}else{\n",
    "  System.out.println(\"Maior de idade\");\n",
    "}"
   ]
  },
  {
   "cell_type": "code",
   "execution_count": 2,
   "metadata": {},
   "outputs": [
    {
     "name": "stdout",
     "output_type": "stream",
     "text": [
      "Tem 18 anos\n"
     ]
    }
   ],
   "source": [
    "# Bom:\n",
    "idade = 18\n",
    "\n",
    "if idade < 18:\n",
    "    print('Menor de idade')\n",
    "elif idade == 18:\n",
    "    print('Tem 18 anos')\n",
    "elif idade == 26:\n",
    "    print('Tem 26 anos')\n",
    "else:\n",
    "    print('Maior de idade')"
   ]
  },
  {
   "cell_type": "code",
   "execution_count": 3,
   "metadata": {},
   "outputs": [
    {
     "name": "stdout",
     "output_type": "stream",
     "text": [
      "Tem 18 anos\n"
     ]
    }
   ],
   "source": [
    "# Ruim:\n",
    "if idade < 18:\n",
    "    print('Menor de idade')\n",
    "\n",
    "if idade == 18:\n",
    "    print('Tem 18 anos')\n",
    "\n",
    "if idade == 26:\n",
    "    print('Tem 26 anos')\n",
    "\n",
    "if idade > 18:\n",
    "    print('Maior de idade')"
   ]
  }
 ],
 "metadata": {
  "kernelspec": {
   "display_name": "Python 3",
   "language": "python",
   "name": "python3"
  },
  "language_info": {
   "codemirror_mode": {
    "name": "ipython",
    "version": 3
   },
   "file_extension": ".py",
   "mimetype": "text/x-python",
   "name": "python",
   "nbconvert_exporter": "python",
   "pygments_lexer": "ipython3",
   "version": "3.8.1"
  }
 },
 "nbformat": 4,
 "nbformat_minor": 2
}
