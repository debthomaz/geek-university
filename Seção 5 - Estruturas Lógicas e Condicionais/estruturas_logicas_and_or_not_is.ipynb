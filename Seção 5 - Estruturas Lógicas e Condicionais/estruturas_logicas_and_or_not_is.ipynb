{
 "cells": [
  {
   "cell_type": "markdown",
   "metadata": {},
   "source": [
    "### Estruturas Lógicas: and (e), or (ou), not (não), is (é)\n",
    "\n",
    "Operadores unários:\n",
    "    - not;\n",
    "Operadores binários:\n",
    "    - and, or, is;\n",
    "\n",
    "Regras de funcionamento:\n",
    "\n",
    "Para o 'and', ambos os valores precisam ser True\n",
    "Para o 'or', um ou outro valor precisa ser True\n",
    "Para o 'not', o valor do booleano é invertido. Ou seja, se for True, vira False. Se for False, vira True\n",
    "Para o 'is', o valor é comparado com um segundo\n",
    "\n",
    "**Linguagem de alto nível = próxima da linguagem humana. Python é alto nível."
   ]
  },
  {
   "cell_type": "code",
   "execution_count": 1,
   "metadata": {},
   "outputs": [
    {
     "name": "stdout",
     "output_type": "stream",
     "text": [
      "Bem-vindo usuário\n",
      "False\n"
     ]
    }
   ],
   "source": [
    "ativo = True\n",
    "logado = False\n",
    "\n",
    "# Se não estiver ativo\n",
    "if ativo:\n",
    "    print('Bem-vindo usuário')\n",
    "else:\n",
    "    print('Você precisa ativar sua conta. Por favor, cheque seu e-mail')\n",
    "\n",
    "\n",
    "# ativo é Falso?\n",
    "print(ativo is False)"
   ]
  }
 ],
 "metadata": {
  "kernelspec": {
   "display_name": "Python 3",
   "language": "python",
   "name": "python3"
  },
  "language_info": {
   "codemirror_mode": {
    "name": "ipython",
    "version": 3
   },
   "file_extension": ".py",
   "mimetype": "text/x-python",
   "name": "python",
   "nbconvert_exporter": "python",
   "pygments_lexer": "ipython3",
   "version": "3.8.1"
  }
 },
 "nbformat": 4,
 "nbformat_minor": 2
}
