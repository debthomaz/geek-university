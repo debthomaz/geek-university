{
 "cells": [
  {
   "cell_type": "markdown",
   "metadata": {},
   "source": [
    "### POO - Classes\n",
    "\n",
    "Em POO, Classes nada mais são do que modelos do mundo real sendo representados\n",
    "computacionalmente.\n",
    "\n",
    "Imagine que você queira fazer um sistema para automatizar o controle das lâmpadas da sua casa.\n",
    "\n",
    "\n",
    "Classes podem conter:\n",
    "- Atributos -> Representam as carcterísticas do objeto. Ou seja, pelos atributos conseguimos\n",
    "representar computacionalmente os estados de um objeto. No caso da lâmpada, possivelmente\n",
    "iríamos querer saber se a lâmpada é 110 ou 220 volts, se ela é branca, amarela, vermelha ou\n",
    "outra cor, qual é a luminosidade dela e etc.\n",
    "\n",
    "- Métodos (funções) -> Representam os comportamentos do objeto. Ou seja, as ações que este\n",
    "objeto pode realizar no seu sistema. No caso da lâmpada, por exemplo, um comportamento comum\n",
    "que muito provavelmente iríamos querer representar no nosso sistema é o de ligar e desligar\n",
    "a mesma.\n",
    "\n",
    "\n",
    "Em Python, para definir uma classe utilizamos a palavra reservada class.\n",
    "\n",
    "\n",
    "OBS: Utilizamos a palavra 'pass' em Python quando temos um bloco de código que ainda não está\n",
    "implementado.\n",
    "\n",
    "\n",
    "OBS: Quando nomeamos nossas classes em Python utilizamos por convenção o nome com inicial\n",
    "em maiúsculo. Se o nome for composto, utiliza-se as iniciais de ambas as palavras em\n",
    "maiúsculo, todas juntas.\n",
    "\n",
    "\n",
    "OBS: Quando estamos planejando um software e definimos quais classes teremos que ter no sistema, chamamos\n",
    "estes objetos que serão mapeados para classes de entidade.\n",
    "\n",
    "\n",
    "Dica Geek: Em computação não utilizamos: Acentuação, caracteres especiais, espaços ou similares\n",
    "para nomes de classes, atributos, métodos, arquivos, diretórios e etc.\n",
    "\n",
    "* Em Java, o nome da arquivo deve ser o nome da classe principal."
   ]
  },
  {
   "cell_type": "code",
   "execution_count": 1,
   "metadata": {},
   "outputs": [
    {
     "name": "stdout",
     "output_type": "stream",
     "text": [
      "<class '__main__.Lampada'>\n"
     ]
    }
   ],
   "source": [
    "class Lampada: # lampada -> entidade\n",
    "    pass\n",
    "\n",
    "\n",
    "class ContaCorrente:\n",
    "    pass\n",
    "\n",
    "\n",
    "class Produto:\n",
    "    pass\n",
    "\n",
    "\n",
    "class Usuario:\n",
    "    pass\n",
    "\n",
    "\n",
    "lamp = Lampada()\n",
    "\n",
    "print(type(lamp))"
   ]
  }
 ],
 "metadata": {
  "kernelspec": {
   "display_name": "Python 3",
   "language": "python",
   "name": "python3"
  },
  "language_info": {
   "codemirror_mode": {
    "name": "ipython",
    "version": 3
   },
   "file_extension": ".py",
   "mimetype": "text/x-python",
   "name": "python",
   "nbconvert_exporter": "python",
   "pygments_lexer": "ipython3",
   "version": "3.8.1"
  }
 },
 "nbformat": 4,
 "nbformat_minor": 2
}
