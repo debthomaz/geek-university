{
 "cells": [
  {
   "cell_type": "markdown",
   "metadata": {},
   "source": [
    "### Definindo Funções\n",
    "\n",
    "- Funções são pequenas partes de código que realizam tarefas específicas;\n",
    "- Pode ou não receber entradas de dados e retornar uma saída de dados;\n",
    "- Muito úteis para executar procedimentos similares por repetidas vezes;\n",
    "\n",
    "OBS: Se você escrever uma função que realiza várias tarefas dentro dela\n",
    "é bom fazer verificação para que a função seja simplificada.\n",
    "\n",
    "Já utilizamos várias funções desde que iniciamos este curso:\n",
    "- print()\n",
    "- len()\n",
    "- max()\n",
    "- min()\n",
    "- count()\n",
    "- e muitas outras;"
   ]
  },
  {
   "cell_type": "code",
   "execution_count": 6,
   "metadata": {},
   "outputs": [
    {
     "name": "stdout",
     "output_type": "stream",
     "text": [
      "['verde', 'amarelo', 'azul', 'branco']\n",
      "Programação em Python: Essencial\n",
      "['verde', 'amarelo', 'azul', 'branco', 'roxo']\n",
      "[]\n"
     ]
    }
   ],
   "source": [
    "# Exemplo de utilização de funções:\n",
    "\n",
    "cores = ['verde', 'amarelo', 'azul', 'branco']\n",
    "\n",
    "# Utilizando a função integrada (Built-in) do Python print()\n",
    "\n",
    "print(cores)\n",
    "\n",
    "curso = 'Programação em Python: Essencial'\n",
    "\n",
    "print(curso)\n",
    "\n",
    "cores.append(\"roxo\")  # função append() está dentro da lista\n",
    "print(cores)\n",
    "\n",
    "# curso.append('Mais dados...')  # AttributeError: string não tem append()\n",
    "# print(curso)\n",
    "\n",
    "cores.clear()\n",
    "print(cores)"
   ]
  },
  {
   "cell_type": "markdown",
   "metadata": {},
   "source": [
    "Em Python, a forma geral de definir uma função é:\n",
    "\n",
    "```python\n",
    "def nome_da_funcao(parametros_de_entrada):\n",
    "    bloco_da_funcao\n",
    "    \n",
    "```\n",
    "    \n",
    "Onde:\n",
    "\n",
    "nome_da_funcao -> SEMPRE com letras minúsculas, e se for nome composto, separado por underline (Snake Case)\n",
    "\n",
    "parametros_de_entrada -> Opcionais, onde tendo mais de um, cada um separado por vírgula, podendo ser opcionais ou não;\n",
    "\n",
    "bloco_da_funcao -> Também chamado de corpo da função ou implementação, é onde o processamento da função acontece. Neste\n",
    "bloco, pode ter ou não retorno da função.\n",
    "\n",
    "OBS: Veja que para definir uma função, utilizamos a palavra reservada 'def' informando ao Python que estamos definindo\n",
    "uma função. Tembém abrimos o bloco de código com o já conhecido dois pontos : que é utilizado em Python para definir\n",
    "blocos."
   ]
  },
  {
   "cell_type": "code",
   "execution_count": 7,
   "metadata": {},
   "outputs": [],
   "source": [
    "# Definindo a primeira função\n",
    "\n",
    "\n",
    "def diz_oi():\n",
    "    print('oi!')"
   ]
  },
  {
   "cell_type": "markdown",
   "metadata": {},
   "source": [
    "OBS:\n",
    "\n",
    "1 - Veja que, dentro das nossas funções podemos utilizar outras funções;\n",
    "\n",
    "2 - Veja que nossa função só executa 1 tarefa, ou seja, a única coisa que ela faz é dizer \"oi\";\n",
    "\n",
    "3 - Veja que esta função não recebe nenhum parâmetro de entrada;\n",
    "\n",
    "4 - Veja que esta função não retorna nada;"
   ]
  },
  {
   "cell_type": "code",
   "execution_count": 8,
   "metadata": {},
   "outputs": [
    {
     "name": "stdout",
     "output_type": "stream",
     "text": [
      "oi!\n"
     ]
    }
   ],
   "source": [
    "# Utilizando funções\n",
    "diz_oi()"
   ]
  },
  {
   "cell_type": "markdown",
   "metadata": {},
   "source": [
    "ATENÇÃO:\n",
    "\n",
    "Nunca esqueça de utilizar o parênteses ao executar uma função.\n",
    "\n",
    "Exemplo:\n",
    "\n",
    "**Errado** -> diz_oi\n",
    "\n",
    "**Certo** -> diz_oi()\n",
    "\n",
    "**Errado** -> diz_oi ()"
   ]
  },
  {
   "cell_type": "code",
   "execution_count": 9,
   "metadata": {},
   "outputs": [
    {
     "name": "stdout",
     "output_type": "stream",
     "text": [
      "Parabéns pra você\n",
      "Nesta data querida\n",
      "Muitas felicidades\n",
      "Muitos anos de vida\n",
      "Viva o aniversariante!\n",
      "Parabéns pra você\n",
      "Nesta data querida\n",
      "Muitas felicidades\n",
      "Muitos anos de vida\n",
      "Viva o aniversariante!\n",
      "Parabéns pra você\n",
      "Nesta data querida\n",
      "Muitas felicidades\n",
      "Muitos anos de vida\n",
      "Viva o aniversariante!\n",
      "Parabéns pra você\n",
      "Nesta data querida\n",
      "Muitas felicidades\n",
      "Muitos anos de vida\n",
      "Viva o aniversariante!\n",
      "Parabéns pra você\n",
      "Nesta data querida\n",
      "Muitas felicidades\n",
      "Muitos anos de vida\n",
      "Viva o aniversariante!\n",
      "Parabéns pra você\n",
      "Nesta data querida\n",
      "Muitas felicidades\n",
      "Muitos anos de vida\n",
      "Viva o aniversariante!\n"
     ]
    }
   ],
   "source": [
    "# Exemplo 2\n",
    "\n",
    "\n",
    "def cantar_parabens():\n",
    "    print('Parabéns pra você')\n",
    "    print('Nesta data querida')\n",
    "    print('Muitas felicidades')\n",
    "    print('Muitos anos de vida')\n",
    "    print('Viva o aniversariante!')\n",
    "\n",
    "\n",
    "cantar_parabens()\n",
    "\n",
    "for n in range(5):\n",
    "    cantar_parabens()"
   ]
  },
  {
   "cell_type": "code",
   "execution_count": 10,
   "metadata": {},
   "outputs": [
    {
     "name": "stdout",
     "output_type": "stream",
     "text": [
      "Parabéns pra você\n",
      "Nesta data querida\n",
      "Muitas felicidades\n",
      "Muitos anos de vida\n",
      "Viva o aniversariante!\n"
     ]
    }
   ],
   "source": [
    "# Em Python, podemos inclusive criar variáveis do tipo de uma função e executar esta função através da variável\n",
    "\n",
    "canta = cantar_parabens\n",
    "\n",
    "canta()"
   ]
  }
 ],
 "metadata": {
  "kernelspec": {
   "display_name": "Python 3",
   "language": "python",
   "name": "python3"
  },
  "language_info": {
   "codemirror_mode": {
    "name": "ipython",
    "version": 3
   },
   "file_extension": ".py",
   "mimetype": "text/x-python",
   "name": "python",
   "nbconvert_exporter": "python",
   "pygments_lexer": "ipython3",
   "version": "3.8.1"
  }
 },
 "nbformat": 4,
 "nbformat_minor": 2
}
