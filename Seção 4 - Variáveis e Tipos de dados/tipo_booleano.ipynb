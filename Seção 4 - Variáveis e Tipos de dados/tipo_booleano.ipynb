{
 "cells": [
  {
   "cell_type": "markdown",
   "metadata": {},
   "source": [
    "## Tipo Booleano\n",
    "\n",
    "Álgebra Booleana, criada por George Boole\n",
    "\n",
    "2 constantes, Verdadeiro ou Falso\n",
    "\n",
    "```python\n",
    "True -> Verdadeiro\n",
    "False -> Falso\n",
    "```\n",
    "\n",
    "OBS: Sempre com a inicial maiúscula\n",
    "\n",
    "Errado:\n",
    "\n",
    "true, false (*no Java é minúsculo)\n",
    "\n",
    "Certo:\n",
    "\n",
    "True, False"
   ]
  },
  {
   "cell_type": "code",
   "execution_count": 5,
   "metadata": {},
   "outputs": [
    {
     "name": "stdout",
     "output_type": "stream",
     "text": [
      "True\n"
     ]
    }
   ],
   "source": [
    "ativo = True\n",
    "\n",
    "print(ativo)"
   ]
  },
  {
   "cell_type": "markdown",
   "metadata": {},
   "source": [
    "### Operações básicas:"
   ]
  },
  {
   "cell_type": "markdown",
   "metadata": {},
   "source": [
    "-> **Negação (not):**\n",
    "\n",
    "Fazendo a negação, se o valor booleano for verdadeiro o resultado será falso,\n",
    "se for falso o resultado será verdadeiro. Ou seja, sempre o contrário."
   ]
  },
  {
   "cell_type": "code",
   "execution_count": 6,
   "metadata": {},
   "outputs": [
    {
     "name": "stdout",
     "output_type": "stream",
     "text": [
      "False\n"
     ]
    }
   ],
   "source": [
    "print(not ativo)\n",
    "\n",
    "logado = False"
   ]
  },
  {
   "cell_type": "markdown",
   "metadata": {},
   "source": [
    "-> **Ou (or):**\n",
    "\n",
    "É uma operação binária, ou seja, depende de dois valores. Ou um ou outro deve ser verdadeiro.\n",
    "\n",
    "True or True -> True\n",
    "True or False -> True\n",
    "False or True -> True\n",
    "False or False -> False"
   ]
  },
  {
   "cell_type": "code",
   "execution_count": 7,
   "metadata": {},
   "outputs": [
    {
     "name": "stdout",
     "output_type": "stream",
     "text": [
      "True\n"
     ]
    }
   ],
   "source": [
    "print(ativo or logado)"
   ]
  },
  {
   "cell_type": "markdown",
   "metadata": {},
   "source": [
    "-> **E (and):**\n",
    "\n",
    "Também é uma operação binária, ou seja, depende de dois valores. Ambos os\n",
    "valores devem ser verdadeiro.\n",
    "\n",
    "True and True -> True\n",
    "True and False -> False\n",
    "False and True -> False\n",
    "False and False -> False"
   ]
  },
  {
   "cell_type": "code",
   "execution_count": 8,
   "metadata": {},
   "outputs": [
    {
     "name": "stdout",
     "output_type": "stream",
     "text": [
      "False\n"
     ]
    }
   ],
   "source": [
    "print(ativo and logado)"
   ]
  }
 ],
 "metadata": {
  "kernelspec": {
   "display_name": "Python 3",
   "language": "python",
   "name": "python3"
  },
  "language_info": {
   "codemirror_mode": {
    "name": "ipython",
    "version": 3
   },
   "file_extension": ".py",
   "mimetype": "text/x-python",
   "name": "python",
   "nbconvert_exporter": "python",
   "pygments_lexer": "ipython3",
   "version": "3.8.1"
  }
 },
 "nbformat": 4,
 "nbformat_minor": 2
}
