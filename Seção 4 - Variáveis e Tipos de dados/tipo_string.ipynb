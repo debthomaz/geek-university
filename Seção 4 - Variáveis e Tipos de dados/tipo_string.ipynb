{
 "cells": [
  {
   "cell_type": "markdown",
   "metadata": {},
   "source": [
    "### Tipo string\n",
    "\n",
    "Em Python, um dado é considerado do tipo string sempre que:\n",
    "\n",
    "- Estiver entre aspas simples -> 'uma string', '234', 'a', 'True', '42.3'\n",
    "- Estiver entre aspas duplas -> \"uma string\", \"234\", \"a\", \"True\", \"42.3\"\n",
    "- Estiver entre aspas simples triplas -> '''uma string''', '''234''', '''a''', '''True''', '''42.3'''"
   ]
  },
  {
   "cell_type": "code",
   "execution_count": 13,
   "metadata": {},
   "outputs": [
    {
     "name": "stdout",
     "output_type": "stream",
     "text": [
      "Geek University\n",
      "<class 'str'>\n",
      "Gina's Bar\n",
      "<class 'str'>\n",
      "Angelina \n",
      "Jolie\n",
      "<class 'str'>\n",
      "Angelina \" Jolie\n",
      "<class 'str'>\n"
     ]
    }
   ],
   "source": [
    "nome = 'Geek University'\n",
    "print(nome)\n",
    "print(type(nome))\n",
    "\n",
    "nome = \"Gina's Bar\"\n",
    "print(nome)\n",
    "print(type(nome))\n",
    "\n",
    "nome = 'Angelina \\nJolie'\n",
    "print(nome)\n",
    "print(type(nome))\n",
    "\n",
    "nome = \"Angelina \\\" Jolie\"\n",
    "print(nome)\n",
    "print(type(nome))"
   ]
  },
  {
   "cell_type": "code",
   "execution_count": 14,
   "metadata": {},
   "outputs": [
    {
     "name": "stdout",
     "output_type": "stream",
     "text": [
      "ANGELINA \" JOLIE\n",
      "angelina \" jolie\n",
      "['Angelina', '\"', 'Jolie']\n",
      "Ange\n",
      "ina \" Joli\n"
     ]
    }
   ],
   "source": [
    "print(nome.upper()) # Letras maiúsculas\n",
    "\n",
    "print(nome.lower())  # Letras minúsculas\n",
    "\n",
    "print(nome.split())  # Transforma em uma lista de strings\n",
    "\n",
    "print(nome[0:4])  # Slice de string\n",
    "\n",
    "print(nome[5:15])  # Slice de string"
   ]
  },
  {
   "cell_type": "code",
   "execution_count": 15,
   "metadata": {},
   "outputs": [
    {
     "name": "stdout",
     "output_type": "stream",
     "text": [
      "Angelina\n",
      "\"\n"
     ]
    }
   ],
   "source": [
    "# [  0,      1]\n",
    "# ['Geek', 'University']\n",
    "print(nome.split()[0])\n",
    "\n",
    "print(nome.split()[1])"
   ]
  },
  {
   "cell_type": "code",
   "execution_count": 16,
   "metadata": {},
   "outputs": [
    {
     "name": "stdout",
     "output_type": "stream",
     "text": [
      "eiloJ \" anilegnA\n",
      "Angilina \" Jolii\n",
      "<class 'str'>\n"
     ]
    }
   ],
   "source": [
    "# [::-1] -> Comece do primeiro elemento, vá até o último elemento e inverta\n",
    "\n",
    "print(nome[::-1])  # Inversão da String Pythônico\n",
    "\n",
    "print(nome.replace('e', 'i'))\n",
    "\n",
    "print(type(nome))"
   ]
  },
  {
   "cell_type": "code",
   "execution_count": 17,
   "metadata": {},
   "outputs": [
    {
     "name": "stdout",
     "output_type": "stream",
     "text": [
      "socorram me subino onibus em marrocos\n",
      "socorram me subino onibus em marrocos\n",
      "ana\n",
      "ana\n"
     ]
    }
   ],
   "source": [
    "texto = 'socorram me subino onibus em marrocos'  # Palíndromo\n",
    "print(texto)\n",
    "\n",
    "print(texto[::-1])\n",
    "\n",
    "nome = 'ana'  # Palíndromo\n",
    "print(nome)\n",
    "\n",
    "print(nome[::-1])"
   ]
  }
 ],
 "metadata": {
  "kernelspec": {
   "display_name": "Python 3",
   "language": "python",
   "name": "python3"
  },
  "language_info": {
   "codemirror_mode": {
    "name": "ipython",
    "version": 3
   },
   "file_extension": ".py",
   "mimetype": "text/x-python",
   "name": "python",
   "nbconvert_exporter": "python",
   "pygments_lexer": "ipython3",
   "version": "3.8.1"
  }
 },
 "nbformat": 4,
 "nbformat_minor": 2
}
