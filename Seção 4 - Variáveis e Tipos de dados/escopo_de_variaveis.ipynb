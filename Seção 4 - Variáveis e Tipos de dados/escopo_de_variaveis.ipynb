{
 "cells": [
  {
   "cell_type": "markdown",
   "metadata": {},
   "source": [
    "### Escopo de variáveis\n",
    "\n",
    "Dois casos de escopo:\n",
    "\n",
    "1 - Variáveis globais;\n",
    "    - Variáveis globais são reconhecidas, ou seja, seu escopo compreende, todo o programa.\n",
    "\n",
    "2 - Variáveis locais;\n",
    "    - Variáveis locais são reconhecidas apenas no bloco onde foram declaradas, ou seja, seu escopo\n",
    "    está limitado ao bloco onde foi declarada.\n",
    "\n",
    "\n",
    "Para declarar variáveis em Python fazemos:\n",
    "\n",
    "nome_da_variavel = valor_da_variavel\n",
    "\n",
    "\n",
    "Python é uma linguagem de tipagem dinâmica. Isso significa que\n",
    "ao declararmos uma variável, nós não colocamos o tipo de dado dela.\n",
    "Este tipo é inferido ao atribuirmos o valor à mesma.\n",
    "\n",
    "Exemplo em C:\n",
    "int numero = 42;\n",
    "\n",
    "Exemplo em Java:\n",
    "int numero = 42;"
   ]
  },
  {
   "cell_type": "code",
   "execution_count": 1,
   "metadata": {},
   "outputs": [
    {
     "name": "stdout",
     "output_type": "stream",
     "text": [
      "42\n",
      "<class 'int'>\n",
      "Geek\n",
      "<class 'str'>\n",
      "Oi\n",
      "52\n",
      "52\n"
     ]
    }
   ],
   "source": [
    "numero = 42  # Exemplo de variável global\n",
    "print(numero)\n",
    "print(type(numero))\n",
    "\n",
    "numero = 'Geek'\n",
    "print(numero)\n",
    "print(type(numero))\n",
    "\n",
    "\n",
    "nao_existo = 'Oi'\n",
    "print(nao_existo)\n",
    "\n",
    "\n",
    "numero = 42\n",
    "# novo = 0\n",
    "\n",
    "if numero > 10:\n",
    "    novo = numero + 10  # A variável 'novo' está declarada localmente dentro do bloco do if. Portanto, é local\n",
    "    print(novo)\n",
    "\n",
    "print(novo)"
   ]
  }
 ],
 "metadata": {
  "kernelspec": {
   "display_name": "Python 3",
   "language": "python",
   "name": "python3"
  },
  "language_info": {
   "codemirror_mode": {
    "name": "ipython",
    "version": 3
   },
   "file_extension": ".py",
   "mimetype": "text/x-python",
   "name": "python",
   "nbconvert_exporter": "python",
   "pygments_lexer": "ipython3",
   "version": "3.8.1"
  }
 },
 "nbformat": 4,
 "nbformat_minor": 2
}
