{
 "cells": [
  {
   "cell_type": "markdown",
   "metadata": {},
   "source": [
    "### Tipo float\n",
    "\n",
    "Tipo real, decimal\n",
    "\n",
    "Casas decimais\n",
    "\n",
    "OBS: O separador de casas decimais na programação é o ponto e não a vírgula."
   ]
  },
  {
   "cell_type": "code",
   "execution_count": 1,
   "metadata": {},
   "outputs": [
    {
     "name": "stdout",
     "output_type": "stream",
     "text": [
      "(1, 44)\n",
      "<class 'tuple'>\n",
      "1.44\n",
      "<class 'float'>\n"
     ]
    }
   ],
   "source": [
    "# Errado do ponto de vista do Float, mas gera uma tupla\n",
    "valor = 1, 44\n",
    "print(valor)\n",
    "print(type(valor))\n",
    "\n",
    "# Certo do ponto de vista Float\n",
    "valor = 1.44\n",
    "print(valor)\n",
    "print(type(valor)) # No console não precisa do print"
   ]
  },
  {
   "cell_type": "markdown",
   "metadata": {},
   "source": [
    "É possível fazer dupla atribuição"
   ]
  },
  {
   "cell_type": "code",
   "execution_count": 2,
   "metadata": {},
   "outputs": [
    {
     "name": "stdout",
     "output_type": "stream",
     "text": [
      "1\n",
      "<class 'int'>\n",
      "44\n",
      "<class 'int'>\n"
     ]
    }
   ],
   "source": [
    "valor1, valor2 = 1, 44\n",
    "print(valor1)\n",
    "print(type(valor1))\n",
    "print(valor2)\n",
    "print(type(valor2))"
   ]
  },
  {
   "cell_type": "markdown",
   "metadata": {},
   "source": [
    "Podemos converter um float para um int\n",
    "\n",
    "OBS: Ao converter valores float para inteiros, perdemos precisão"
   ]
  },
  {
   "cell_type": "code",
   "execution_count": 3,
   "metadata": {},
   "outputs": [
    {
     "name": "stdout",
     "output_type": "stream",
     "text": [
      "1\n",
      "<class 'int'>\n"
     ]
    }
   ],
   "source": [
    "res = int(valor)\n",
    "print(res)\n",
    "print(type(res))"
   ]
  },
  {
   "cell_type": "markdown",
   "metadata": {},
   "source": [
    "Podemos trabalhar com números complexos"
   ]
  },
  {
   "cell_type": "code",
   "execution_count": 4,
   "metadata": {},
   "outputs": [],
   "source": [
    "variavel = 5j"
   ]
  }
 ],
 "metadata": {
  "kernelspec": {
   "display_name": "Python 3",
   "language": "python",
   "name": "python3"
  },
  "language_info": {
   "codemirror_mode": {
    "name": "ipython",
    "version": 3
   },
   "file_extension": ".py",
   "mimetype": "text/x-python",
   "name": "python",
   "nbconvert_exporter": "python",
   "pygments_lexer": "ipython3",
   "version": "3.8.1"
  }
 },
 "nbformat": 4,
 "nbformat_minor": 2
}
