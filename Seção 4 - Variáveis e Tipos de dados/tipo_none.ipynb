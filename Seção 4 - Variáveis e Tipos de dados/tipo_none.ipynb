{
 "cells": [
  {
   "cell_type": "markdown",
   "metadata": {},
   "source": [
    "### Tipo None\n",
    "\n",
    "O tipo de dado None em Python representa o tipo sem tipo, ou poderia ser conhecido também\n",
    "como tipo vazio. Porém, falar que é sem tipo é mais apropriado.\n",
    "\n",
    "OBS: O tipo None é sempre especificado com a primeira letra maiúscula.\n",
    "\n",
    "Certo: None\n",
    "Errado: none\n",
    "\n",
    "Quando utilizamos?\n",
    "\n",
    "- Podemos utilizar None quando queremos criar uma variável e inicializa-la com um tipo sem tipo, antes\n",
    "de recebermos um valor final.\n",
    "\n",
    "\n",
    "OBS: O tipo None em Python é SEMPRE considerado como False."
   ]
  },
  {
   "cell_type": "code",
   "execution_count": 1,
   "metadata": {},
   "outputs": [
    {
     "name": "stdout",
     "output_type": "stream",
     "text": [
      "None\n",
      "<class 'NoneType'>\n",
      "(1.44, 1.34, 5.67)\n",
      "<class 'tuple'>\n"
     ]
    }
   ],
   "source": [
    "numeros = None\n",
    "\n",
    "print(numeros)\n",
    "print(type(numeros))\n",
    "\n",
    "\n",
    "numeros = 1.44, 1.34, 5.67\n",
    "\n",
    "print(numeros)\n",
    "print(type(numeros))"
   ]
  }
 ],
 "metadata": {
  "kernelspec": {
   "display_name": "Python 3",
   "language": "python",
   "name": "python3"
  },
  "language_info": {
   "codemirror_mode": {
    "name": "ipython",
    "version": 3
   },
   "file_extension": ".py",
   "mimetype": "text/x-python",
   "name": "python",
   "nbconvert_exporter": "python",
   "pygments_lexer": "ipython3",
   "version": "3.8.1"
  }
 },
 "nbformat": 4,
 "nbformat_minor": 2
}
