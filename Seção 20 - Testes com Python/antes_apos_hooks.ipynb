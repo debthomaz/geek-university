{
 "cells": [
  {
   "cell_type": "markdown",
   "metadata": {},
   "source": [
    "### Unittest - Antes e após hooks\n",
    "\n",
    "\n",
    "hooks -> são os testes em si. Ou seja, a execução dos testes.\n",
    "\n",
    "\n",
    "setup() -> é executado antes de cada método de teste. É útil para criarmos instâncias de objetos e outros dados;\n",
    "\n",
    "tearDown() -> é executado ao final de cada método de teste. É útil para excluir dados ou fechar conexões com\n",
    "banco de dados."
   ]
  },
  {
   "cell_type": "code",
   "execution_count": 1,
   "metadata": {},
   "outputs": [],
   "source": [
    "import unittest\n",
    "\n",
    "\n",
    "class ModuloTest(unittest.TestCase):\n",
    "\n",
    "    def setUp(self):\n",
    "        # Configurações do setUp()\n",
    "        pass\n",
    "\n",
    "    def test_primeiro(self):\n",
    "        # setUp() vai rodar antes do teste\n",
    "        # tearDown() vai rodar após o teste\n",
    "        pass\n",
    "\n",
    "    def test_segundo(self):\n",
    "        # setUp() vai rodar antes do teste\n",
    "        # tearDown() vai todar após o teste\n",
    "        pass\n",
    "\n",
    "    def tearDown(self):\n",
    "        # Configurções do tearDown()\n",
    "        pass"
   ]
  }
 ],
 "metadata": {
  "kernelspec": {
   "display_name": "Python 3",
   "language": "python",
   "name": "python3"
  },
  "language_info": {
   "codemirror_mode": {
    "name": "ipython",
    "version": 3
   },
   "file_extension": ".py",
   "mimetype": "text/x-python",
   "name": "python",
   "nbconvert_exporter": "python",
   "pygments_lexer": "ipython3",
   "version": "3.8.1"
  }
 },
 "nbformat": 4,
 "nbformat_minor": 2
}
